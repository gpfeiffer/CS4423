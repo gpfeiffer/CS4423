{
 "cells": [
  {
   "cell_type": "markdown",
   "metadata": {},
   "source": [
    "### CS4423 - Networks\n",
    "Prof. Götz Pfeiffer<br />\n",
    "School of Mathematics, Statistics and Applied Mathematics<br />\n",
    "NUI Galway"
   ]
  },
  {
   "cell_type": "markdown",
   "metadata": {},
   "source": [
    "#### 0. Introduction\n",
    "\n",
    "# Lecture 1: Introduction to Networks"
   ]
  },
  {
   "cell_type": "markdown",
   "metadata": {},
   "source": [
    "## Connections.\n",
    "\n",
    "Modern societies are in many ways **highly connected**.  Certain aspects of this\n",
    "phenomenon are frequently described as **networks**.\n",
    "This course is meant as an introduction into the emerging interdisciplinary subject of **network science**."
   ]
  },
  {
   "cell_type": "markdown",
   "metadata": {},
   "source": [
    "## Lectures"
   ]
  },
  {
   "cell_type": "markdown",
   "metadata": {},
   "source": [
    "* This term, **all lectures will be online**, at the scheduled times:\n",
    "* Wednesday at 9am and Thursday at 2pm\n",
    "* Some lecture material will be pre-recorded videos.\n",
    "* Lecture slides and links to videos can be found on the CS4423 blackboard page."
   ]
  },
  {
   "cell_type": "markdown",
   "metadata": {},
   "source": [
    "## Assignments"
   ]
  },
  {
   "cell_type": "markdown",
   "metadata": {},
   "source": [
    "* There will be some homework assignments, approximately $4$\n",
    "  over the semester.\n",
    "  \n",
    "* The assignments will be marked and contribute\n",
    "  a **continuous assessment** mark worth $40\\%$ of the\n",
    "  overall score.\n",
    "  \n",
    "* The remaining $60\\%$ come from the **Summer exam**.\n",
    "\n",
    "* The exam will have $4$ questions, each worth $15\\%$."
   ]
  },
  {
   "cell_type": "markdown",
   "metadata": {},
   "source": [
    "## Useful Books.\n",
    "\n",
    "* Vito Latora, Vincenzo Nicosia and Giovanni Russo.\n",
    "  <br/> **Complex Networks.**\n",
    "  <br/> Cambridge UP 2017.\n",
    "* Mark Newman.\n",
    "  <br/> **Networks: an Introduction.**\n",
    "  <br/> Oxford UP 2018.\n",
    "* Albert-L\\'aszl\\'o Barab\\'asi.\n",
    "  <br/> **Network Science.**\n",
    "  <br/> Cambridge UP 2016.\n",
    "* Ernesto Estrada and Philip A. Knight.\n",
    "  <br/> **A first course in network theory.**\n",
    "  <br/> Oxford UP 2015.\n",
    "* David Easley and Jon Kleinberg.\n",
    "  <br/> **Networks, Crowds and Markets.**\n",
    "  <br/> Cambridge UP 2010."
   ]
  },
  {
   "cell_type": "markdown",
   "metadata": {},
   "source": [
    "##  Examples of Networks?\n",
    "\n",
    "..."
   ]
  },
  {
   "cell_type": "markdown",
   "metadata": {},
   "source": [
    "## Examples of Networks.\n",
    "\n",
    "Newman broadly divides the most commonly studied\n",
    "real world networks into four classes:\n",
    "\n",
    "* **technological** networks,\n",
    "\n",
    "* **social** networks,\n",
    "\n",
    "* **information** networks and\n",
    "\n",
    "* **biological** networks.\n",
    "\n",
    "There is of course some **overlap** between these classes.  But it is an\n",
    "interesting exercise to list some examples within each class, and\n",
    "to describe their **general structure**.\n",
    "\n",
    "* In each case, a network connects parts of a system (**nodes**)\n",
    "by some means (**links**).\n",
    "* Different techniques used to **display**, **discover** and **measure** the structure in each example.\n",
    "\n"
   ]
  },
  {
   "cell_type": "markdown",
   "metadata": {},
   "source": [
    "## Technological Networks.\n",
    "\n",
    "* Technological networks rely on a **physical infrastructure**.\n",
    "\n",
    "* In many\n",
    "cases, this infrastructure has been built over many decades\n",
    "\n",
    "* It forms\n",
    "part of the **backbone** of modern societies.\n",
    "\n",
    "* This includes\n",
    "  * **road** and\n",
    "  other **transportation networks**,\n",
    "  * **power grids**,\n",
    "  * the **telephone network**, and more recently\n",
    "  * the **Internet**.\n",
    "\n",
    "\n"
   ]
  },
  {
   "cell_type": "markdown",
   "metadata": {},
   "source": [
    "## Power Grid.\n",
    "\n",
    "![EirGrid](https://www.energyco-ops.ie/wp-content/uploads/2012/03/eirgrid_large.jpg)"
   ]
  },
  {
   "cell_type": "markdown",
   "metadata": {},
   "source": [
    "## Transportation networks.\n",
    "\n",
    "![Tube Map](https://www.bbc.co.uk/london/travel/downloads/tube_map.gif)"
   ]
  },
  {
   "cell_type": "markdown",
   "metadata": {},
   "source": [
    "## The Internet 2015.\n",
    "\n",
    "![Internet 2015](http://schmidt.nuigalway.ie/goetz/internet2015.png)\n",
    "\n",
    "(www.opte.org)"
   ]
  },
  {
   "cell_type": "markdown",
   "metadata": {},
   "source": [
    "## Social Networks.\n",
    "\n",
    "* The vertices of a social network are **people**, with edges\n",
    "representing some sort of **social interaction**.\n",
    "\n",
    "* In **sociology**, the vertices are often called **actors**, and the\n",
    "edges are called **ties**.\n",
    "\n",
    "* A social network's **existence** does not depend on social networking\n",
    "sites like `facebook` or `twitter`.\n",
    "\n",
    "* Sociologists have studied social networks long before people started\n",
    "exhibiting their relations to others online.\n",
    "\n",
    "* Traditionally, data about the structure of social networks have been\n",
    "compiled by **interviewing** the people involved."
   ]
  },
  {
   "cell_type": "markdown",
   "metadata": {},
   "source": [
    "## Information Networks.\n",
    "\n",
    "* An **information network** consists of **data items**\n",
    "which are linked to each other in some way.\n",
    "\n",
    "* Example: **relational databases**.\n",
    "\n",
    "* Sets of information\n",
    "(like **scientific publications**) have been\n",
    "linking to each other (e.g., through **citations**)\n",
    "long before computers were invented.\n",
    "\n",
    "* However, links in digital form are  easier to follow ...\n",
    "\n"
   ]
  },
  {
   "cell_type": "markdown",
   "metadata": {},
   "source": [
    "## The (World Wide) Web.\n",
    "\n",
    "* The **WWW** is probably the most wide spread and best known examples of an\n",
    "information network.\n",
    "\n",
    "*  Its nodes are **web pages** containing information\n",
    "in form of text and pictures, and its edges are the **hyperlinks**.\n",
    "allowing us to surf, or **navigate** from page to page.\n",
    "\n",
    "* Hyperlinks run in **one direction only**, from the page that contains the\n",
    "hyperlink to the page that is referenced.\n",
    "\n",
    "*   Therefore, the WWW is a **directed network**, a graph where each edge has a direction.\n"
   ]
  },
  {
   "cell_type": "markdown",
   "metadata": {},
   "source": [
    "## Biological Networks.\n",
    "\n",
    "* **Biochemical networks** represent molecular level patterns of interaction\n",
    "and control mechanisms in the biological cell:\n",
    "  * **metabolic** networks,\n",
    "  * **protein-protein interaction** networks and\n",
    "  * **genetic regulatory** networks.\n",
    "\n",
    "* A **neural network** can be represented as a set of\n",
    "vertices, the neurons, connected by two types of directed edges, one\n",
    "for excitatory inputs and one for inhibiting inputs.\n",
    "\n",
    "* **Ecological networks** are networks of ecological interactions\n",
    "  between species.\n",
    "\n"
   ]
  },
  {
   "cell_type": "markdown",
   "metadata": {},
   "source": [
    "## Metabolic Networks\n",
    "\n",
    "![metabolic](http://schmidt.nuigalway.ie/goetz/Metabolic_Metro_Map.png)"
   ]
  },
  {
   "cell_type": "markdown",
   "metadata": {},
   "source": [
    "## Food Web\n",
    "\n",
    "![food web](http://schmidt.nuigalway.ie/goetz/Food_Web.jpg)"
   ]
  },
  {
   "cell_type": "markdown",
   "metadata": {},
   "source": [
    "## Simple Forms of Networks\n",
    "\n",
    "* In its simplest form, a network is just a collection of points (called **vertices** or **nodes**), some of which are joined in pairs (called **edges** or **links**).\n",
    "\n",
    "* Many systems of interest are composed of  individual parts that are in some way linked together.\n",
    "\n",
    "* Such systems can be regarded as networks, and thinking about them in this way can often lead to new and useful **insights**.\n",
    "\n",
    "* **Network science** studies the **pattern of connections** between the components of a system.\n",
    "\n",
    "* Naturally, the **structure** of the network can have a big impact on\n",
    "  the **behavior** of a system.\n",
    "\n",
    "* The connections in a **social network**, for example, affect how people learn, form opinions, or spread a disease ..."
   ]
  },
  {
   "cell_type": "markdown",
   "metadata": {},
   "source": [
    "## Network Science\n",
    "\n",
    "* A network is a **simplified representation** of a complex system\n",
    "by vertices and edges.\n",
    "\n",
    "* The scientific study of networks is an **interdisciplinary**\n",
    "undertaking that combines ideas from\n",
    "  * mathematics,\n",
    "  * computer science,\n",
    "  * physics,\n",
    "  * the social sciences,\n",
    "  * biology\n",
    "  * ...\n",
    "\n",
    "* Between these scientific fields, many **tools** have been developed\n",
    "for **analyzing**, **modeling** and **understanding** networks."
   ]
  },
  {
   "cell_type": "markdown",
   "metadata": {},
   "source": [
    "## Network Measures\n",
    "\n",
    "* An example of a useful and important type of network measures\n",
    "is that of **centrality**.\n",
    "\n",
    "* It is concerned with the question of\n",
    "how **important** a particular vertex or edge is in a networked system.\n",
    "\n",
    "* Different concepts have suggested for capturing **mathematically**\n",
    "what it means to be central.\n",
    "\n",
    "* For example, a simple measure of the centrality\n",
    "of a vertex is its **degree**, i.e., the number of edges it is part of.\n",
    "\n",
    "* Which measurements and calculations give **meaningful answers** for a\n",
    "particular system depends of course on the specific nature of the system\n",
    "and the questions one wants to ask."
   ]
  },
  {
   "cell_type": "markdown",
   "metadata": {},
   "source": [
    "## Network Concepts\n",
    "\n",
    "* Another interesting network concept is the **small-world effect**.\n",
    "\n",
    "* It is concerned with the question of how far apart two randomly\n",
    "  chosen points in a network typically are.\n",
    "\n",
    "*  Here, **distance** is usually\n",
    "   measured by the number of edges one would need to cross over, when travelling\n",
    "   along a **path** from one vertex to the other.\n",
    "\n",
    "* In real world social networks\n",
    "  the distance between people tends to be rather small.\n",
    "\n",
    "* This observation is known\n",
    "  as the **six degrees of separation** in popular culture."
   ]
  },
  {
   "cell_type": "markdown",
   "metadata": {},
   "source": [
    "##  Contents\n",
    "\n",
    "This course is meant as an **introduction to Network Science**\n",
    "where, within the given time and space constraints, some\n",
    "but certainly not all of its interesting aspects will be discussed.\n",
    "\n",
    "1. Graphs and Graph Theory\n",
    "\n",
    "2. Centrality Measures\n",
    "\n",
    "3. Random Graphs\n",
    "\n",
    "4. Small Worlds\n",
    "\n",
    "5. Power Laws and Scale-Free Graphs\n",
    "\n",
    "6. Models of Growing Graphs"
   ]
  },
  {
   "cell_type": "markdown",
   "metadata": {},
   "source": [
    "## Jupyter Notebooks and other Software\n",
    "\n",
    "* Lecture notes and Assignments come in the form of `jupyter`  notebooks.\n",
    "\n",
    "* This allows us to include interactive `python` code\n",
    "  with the text.\n",
    "  \n",
    "* The notebooks will be uploaded (and updated) on `github`\n",
    "  at\n",
    "  \n",
    ">  https://github.com/gpfeiffer/cs4423\n",
    "\n",
    "* If `jupyter` is installed on your computer, you can download\n",
    "  the notebooks and execute them there.\n",
    "  \n",
    "* Alternatively, you can follow the links \n",
    "[![Open in Binder](https://mybinder.org/badge_logo.svg)](https://mybinder.org/v2/gh/gpfeiffer/cs4423/main)\n",
    "or\n",
    "[![Open in Colab](https://colab.research.google.com/assets/colab-badge.svg)](https://colab.research.google.com/github/gpfeiffer/cs4423)\n",
    "to execute the notebooks on `binder`, or Google's `colab` site ..."
   ]
  },
  {
   "cell_type": "markdown",
   "metadata": {},
   "source": [
    "## Networkx"
   ]
  },
  {
   "cell_type": "markdown",
   "metadata": {},
   "source": [
    "We will use the `networkx` package and other packages from the\n",
    "`python` scientific stack to work on nontrivial examples of networks."
   ]
  },
  {
   "cell_type": "code",
   "execution_count": null,
   "metadata": {},
   "outputs": [],
   "source": [
    "import networkx as nx\n",
    "nx.__version__"
   ]
  },
  {
   "cell_type": "markdown",
   "metadata": {},
   "source": [
    "`networkx` allows us to quickly construct graphs and to work with their elements."
   ]
  },
  {
   "cell_type": "code",
   "execution_count": null,
   "metadata": {},
   "outputs": [],
   "source": [
    "G = nx.Graph([\"AB\", \"BC\", \"BD\", \"CD\"])\n",
    "list(G.nodes)"
   ]
  },
  {
   "cell_type": "code",
   "execution_count": null,
   "metadata": {},
   "outputs": [],
   "source": [
    "list(G.edges)"
   ]
  },
  {
   "cell_type": "markdown",
   "metadata": {},
   "source": [
    "The `matplotlib` package contains the functionality needed to draw\n",
    "a diagram of the graph on this page."
   ]
  },
  {
   "cell_type": "code",
   "execution_count": null,
   "metadata": {},
   "outputs": [],
   "source": [
    "nx.draw(G, with_labels=True)"
   ]
  },
  {
   "cell_type": "markdown",
   "metadata": {},
   "source": [
    "More about graphs and their implementation in the next lecture ..."
   ]
  },
  {
   "cell_type": "markdown",
   "metadata": {},
   "source": [
    "## Summary\n",
    "\n",
    "We hope to develop a **network perspective** as a powerful way of looking\n",
    "at **complex systems** in general.  Networks provide a way of thinking\n",
    "about \n",
    "\n",
    "* social dynamics, \n",
    "* economic interaction, \n",
    "* online information,\n",
    "* designed technology and \n",
    "* natural processes, \n",
    "\n",
    "and approaching such systems with an eye toward their \n",
    "**internal structural patterns** and the\n",
    "resulting **rich feedback effects**.\n"
   ]
  },
  {
   "cell_type": "markdown",
   "metadata": {},
   "source": [
    "## Code Corner"
   ]
  },
  {
   "cell_type": "markdown",
   "metadata": {},
   "source": [
    "### `python`"
   ]
  },
  {
   "cell_type": "markdown",
   "metadata": {},
   "source": [
    "* The `import` statement [[doc]](https://docs.python.org/3/reference/simple_stmts.html#import)\n",
    "  provides access to packages, or their parts and elements."
   ]
  },
  {
   "cell_type": "code",
   "execution_count": null,
   "metadata": {},
   "outputs": [],
   "source": [
    "import math\n",
    "math.pi"
   ]
  },
  {
   "cell_type": "code",
   "execution_count": null,
   "metadata": {},
   "outputs": [],
   "source": [
    "from math import pi\n",
    "pi"
   ]
  },
  {
   "cell_type": "code",
   "execution_count": null,
   "metadata": {},
   "outputs": [],
   "source": [
    "import numpy as np\n",
    "np.array([1,2,3])"
   ]
  },
  {
   "cell_type": "markdown",
   "metadata": {},
   "source": [
    "* The `list` constructor [[doc]](https://docs.python.org/3/library/stdtypes.html#list)\n",
    "  tries and creates a list from its arguments."
   ]
  },
  {
   "cell_type": "code",
   "execution_count": null,
   "metadata": {},
   "outputs": [],
   "source": [
    "list(\"networks\")"
   ]
  },
  {
   "cell_type": "code",
   "execution_count": null,
   "metadata": {},
   "outputs": [],
   "source": [
    "list((1,2,3,4))"
   ]
  },
  {
   "cell_type": "markdown",
   "metadata": {},
   "source": [
    "### `networkx`"
   ]
  },
  {
   "cell_type": "markdown",
   "metadata": {},
   "source": [
    "* The `Graph` constructor [[doc]](https://networkx.github.io/documentation/networkx-1.10/tutorial/tutorial.html)\n",
    "can be used to construct a graph from data in various formats. "
   ]
  },
  {
   "cell_type": "code",
   "execution_count": null,
   "metadata": {},
   "outputs": [],
   "source": [
    "edges = [\"01\", \"12\", \"23\", \"30\"]\n",
    "G = nx.Graph(edges)"
   ]
  },
  {
   "cell_type": "markdown",
   "metadata": {},
   "source": [
    "* The `draw` function [[doc]](https://networkx.github.io/documentation/networkx-1.10/reference/drawing.html) depends on the `mathplotlib` library."
   ]
  },
  {
   "cell_type": "code",
   "execution_count": null,
   "metadata": {},
   "outputs": [],
   "source": [
    "nx.draw(G, with_labels=True)"
   ]
  },
  {
   "cell_type": "markdown",
   "metadata": {},
   "source": [
    "## Exercises"
   ]
  },
  {
   "cell_type": "markdown",
   "metadata": {},
   "source": [
    "1. Import the `sin` function from the `math` package and\n",
    "   use it to compute $\\sin(\\pi/4)$.\n",
    "   \n",
    "2. Construct and draw a graph with $5$ nodes and $5$ edges\n",
    "   that form a circle."
   ]
  },
  {
   "cell_type": "code",
   "execution_count": null,
   "metadata": {},
   "outputs": [],
   "source": []
  }
 ],
 "metadata": {
  "kernelspec": {
   "display_name": "Python 3",
   "language": "python",
   "name": "python3"
  },
  "language_info": {
   "codemirror_mode": {
    "name": "ipython",
    "version": 3
   },
   "file_extension": ".py",
   "mimetype": "text/x-python",
   "name": "python",
   "nbconvert_exporter": "python",
   "pygments_lexer": "ipython3",
   "version": "3.7.6"
  }
 },
 "nbformat": 4,
 "nbformat_minor": 1
}

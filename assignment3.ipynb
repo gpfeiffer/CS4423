{
 "cells": [
  {
   "cell_type": "markdown",
   "metadata": {},
   "source": [
    "### CS4423 - Networks\n",
    "Prof. Götz Pfeiffer<br />\n",
    "School of Mathematics, Statistics and Applied Mathematics<br />\n",
    "NUI Galway"
   ]
  },
  {
   "cell_type": "markdown",
   "metadata": {},
   "source": [
    "# Assignment 3"
   ]
  },
  {
   "cell_type": "markdown",
   "metadata": {},
   "source": [
    "Provide answers to the problems in the boxes provided.  \n",
    "\n",
    "The buttons at the top of the page can be used to **create\n",
    "more boxes if needed**.\n",
    "The type of box can be changed from `Code` to `Markdown`.\n",
    "`Code` boxes take (and execute) `python` code.\n",
    "`Markdown` boxes take (and format nicely) **text input**.\n",
    "In this way, you can provide answers, ask questions, \n",
    "or raise issues, in words.\n",
    "\n",
    "Marks will be awarded for\n",
    "participation and engagement.\n",
    "\n",
    "When finished, print this notebook into a **pdf** file and submit this to\n",
    "**blackboard**.\n",
    "\n",
    "**Deadline** is next Monday at 5pm."
   ]
  },
  {
   "cell_type": "markdown",
   "metadata": {},
   "source": [
    "## Setup"
   ]
  },
  {
   "cell_type": "markdown",
   "metadata": {},
   "source": [
    "This is a `jupyter` notebook.   You can open and interact\n",
    "with the notebook through one of sites recommended at\n",
    "its [github](https://github.com/gpfeiffer/cs4423) repository.\n",
    "\n",
    "Or, you can\n",
    "install and use `jupyter` as a `python` package on your own laptop or PC.  "
   ]
  },
  {
   "cell_type": "markdown",
   "metadata": {},
   "source": [
    "The following command loads the `networkx` package into the current session.  \n",
    "The next command specifies some standard options that can be useful for drawing graphs.  \n",
    "\n",
    "In order to execute the code in a box,\n",
    "use the mouse or arrow keys to highlight the box and then press SHIFT-RETURN."
   ]
  },
  {
   "cell_type": "code",
   "execution_count": null,
   "metadata": {},
   "outputs": [],
   "source": [
    "import networkx as nx\n",
    "import pandas as pd\n",
    "import matplotlib.pyplot as plt\n",
    "opts = { \"with_labels\": True, \"node_color\": 'y' }"
   ]
  },
  {
   "cell_type": "markdown",
   "metadata": {},
   "source": [
    "Should it ever happen that the notebook becomes unusable, start again with a fresh copy."
   ]
  },
  {
   "cell_type": "markdown",
   "metadata": {},
   "source": [
    "## 1.  ER Model $A$"
   ]
  },
  {
   "cell_type": "markdown",
   "metadata": {},
   "source": [
    "<div class=\"alert alert-warning\">\n",
    "\n",
    "**Definition (ER Model $A$: Uniform Random Graphs).**\n",
    "Let $n \\geq 1$, let $N = \\binom{n}{2}$ and let $0 \\leq m \\leq N$.\n",
    "\n",
    "The model $G(n, m)$ consists of the ensemble of graphs $G$\n",
    "with $n$ nodes $X = \\{0, 1, \\dots, n{-}1\\}$, and $m$ randomly selected\n",
    "edges, chosen uniformly from the $N$ possible edges.\n",
    "\n",
    "</div>"
   ]
  },
  {
   "cell_type": "markdown",
   "metadata": {},
   "source": [
    "Model $A$ random graphs in `networkx` can be generated with the function `nx.gnm_random_graph(n, m)`,\n",
    "where parameter $n$ gives the number of nodes and parameter $m$ the (exact) number of edges of the graph."
   ]
  },
  {
   "cell_type": "code",
   "execution_count": null,
   "metadata": {},
   "outputs": [],
   "source": [
    "plt.figure(figsize=(12,5))\n",
    "G = nx.gnm_random_graph(16, 15)\n",
    "nx.draw(G, **opts)"
   ]
  },
  {
   "cell_type": "markdown",
   "metadata": {},
   "source": [
    "* Draw $6$ random graphs drawn from model $A$ with $n = 25$ nodes and $m = 30$ edges. \n",
    "* For each graph drawn, determine its clustering coefficient $C$ and its transitivity $T$."
   ]
  },
  {
   "cell_type": "code",
   "execution_count": null,
   "metadata": {},
   "outputs": [],
   "source": []
  },
  {
   "cell_type": "markdown",
   "metadata": {},
   "source": [
    "## 2.  ER Model $B$"
   ]
  },
  {
   "cell_type": "markdown",
   "metadata": {},
   "source": [
    "<div class=\"alert alert-warning\">\n",
    "\n",
    "**Definition (ER Model $B$: Binomial Random Graphs).**\n",
    "Let $n \\geq 1$, let $N = \\binom{n}{2}$ and let $0 \\leq p \\leq 1$.\n",
    "\n",
    "\n",
    "The model $G(n, p)$ consists of the ensemble of graphs $G$\n",
    "with $n$ nodes $X = \\{0, 1, \\dots, n{-}1\\}$, and each of the $N$\n",
    "possible edges chosen with probability $p$.\n",
    "</div>"
   ]
  },
  {
   "cell_type": "markdown",
   "metadata": {},
   "source": [
    "Model $B$ random graphs in `networkx` can be generated with the function `nx.gnp_random_graph(n, p)`,\n",
    "where parameter $n$ gives the number of nodes and parameter $p \\in [0, 1]$ the edge probability."
   ]
  },
  {
   "cell_type": "code",
   "execution_count": null,
   "metadata": {},
   "outputs": [],
   "source": [
    "opts2 = { \"with_labels\": True, \"node_color\": 'm' }\n",
    "plt.figure(figsize=(12,5))\n",
    "G = nx.gnp_random_graph(16, 0.125)\n",
    "print(\"#edges: \", G.number_of_edges())\n",
    "nx.draw(G, **opts2)"
   ]
  },
  {
   "cell_type": "markdown",
   "metadata": {},
   "source": [
    "* Draw $6$ random graphs drawn from model $B$ with $n = 25$ nodes and edge probability $p = 30/\\binom{25}{2}$. \n",
    "\n",
    "* For each graph drawn, determine its number of edges,\n",
    "its clustering coefficient $C$ and its transitivity $T$."
   ]
  },
  {
   "cell_type": "code",
   "execution_count": null,
   "metadata": {},
   "outputs": [],
   "source": []
  },
  {
   "cell_type": "markdown",
   "metadata": {},
   "source": [
    "## 3. Degree Distribution"
   ]
  },
  {
   "cell_type": "markdown",
   "metadata": {},
   "source": [
    "The **degree distribution** of a graph $G = (X, E)$ is the probability distribution of the node degrees of the graph $G$, i.e. the function $p \\colon \\mathbb{N}_0 \\to \\mathbb{R}$ defined by\n",
    "$$\n",
    "p_k = \\frac{n_k}{n},\n",
    "$$\n",
    "where $n = |X|$ is the total number of nodes in $G$, and $n_k$ is the number of nodes of degree $k$.\n",
    "(Note hat $\\sum_k p_k = 1$.)"
   ]
  },
  {
   "cell_type": "markdown",
   "metadata": {},
   "source": [
    "In `networkx`, the numbers $n_k$ can be determined by the function `nx.degree_histogram`.\n",
    "Then `python` list comprehension can be used to compute the numbers $p_k$ from those.\n",
    "And those numbers, turned into a `pandas` dataframe, can be plotted nicely and quickly."
   ]
  },
  {
   "cell_type": "code",
   "execution_count": null,
   "metadata": {},
   "outputs": [],
   "source": [
    "G = nx.gnp_random_graph(16, 0.125)\n",
    "n = G.number_of_nodes()\n",
    "histogram = nx.degree_histogram(G)\n",
    "distribution = [x/n for x in histogram]\n",
    "df = pd.DataFrame(distribution)\n",
    "df.plot()"
   ]
  },
  {
   "cell_type": "markdown",
   "metadata": {},
   "source": [
    "The degree distribution of a model $B$ random graph is known to follow a **binomial distribution** \n",
    "$\\mathrm{Bin}(n-1, p)$ of the\n",
    "form \n",
    "$$\n",
    "p_k = \\binom{n-1}{k} p^k (1-p)^{n-1-k}\n",
    "$$"
   ]
  },
  {
   "cell_type": "markdown",
   "metadata": {},
   "source": [
    "Using the formula\n",
    "$$\n",
    "\\binom{n}{k} = \\frac{n \\cdot (n-1) \\dotsm (n-k+1)}{1 \\cdot 2 \\dotsm k}\n",
    "$$\n",
    "in `python`, the binomial coefficient $\\binom{n}{k}$ can be computed with the following function:"
   ]
  },
  {
   "cell_type": "code",
   "execution_count": null,
   "metadata": {},
   "outputs": [],
   "source": [
    "def binomial(n, k):\n",
    "    prd, top, bot = 1, n, 1\n",
    "    for i in range(k):\n",
    "        prd = (prd * top) // bot\n",
    "        top, bot = top - 1, bot + 1\n",
    "    return prd"
   ]
  },
  {
   "cell_type": "markdown",
   "metadata": {},
   "source": [
    "The binomial distribution $\\mathrm{Bin}(n, p)$ can then be defined as: "
   ]
  },
  {
   "cell_type": "code",
   "execution_count": null,
   "metadata": {},
   "outputs": [],
   "source": [
    "def b_dist(n, p, k):\n",
    "    return binomial(n, k) * p**k * (1-p)**(n-k)"
   ]
  },
  {
   "cell_type": "markdown",
   "metadata": {},
   "source": [
    "In order to compare the degree distribution of a random graph $G$ on $16$ points\n",
    "to the corresponding binomial distribution, one can compute and plot the values\n",
    "of $\\mathrm{Bin}(16, p)$ for a suitable value of $p$, and $k$ ranging from $0$\n",
    "to the highest node degree in $G$, as follows."
   ]
  },
  {
   "cell_type": "code",
   "execution_count": null,
   "metadata": {},
   "outputs": [],
   "source": [
    "len(histogram)"
   ]
  },
  {
   "cell_type": "code",
   "execution_count": null,
   "metadata": {},
   "outputs": [],
   "source": [
    "n, p = 16, 0.0125\n",
    "bb = [b_dist(n-1, p, k) for k in range(len(histogram))]\n",
    "df = pd.DataFrame(bb)\n",
    "df.plot()"
   ]
  },
  {
   "cell_type": "markdown",
   "metadata": {},
   "source": [
    "In the limit $n \\to \\infty$ (keeping the expected average degree $p (n-1)$ constant), the binomial distribution $\\mathrm{Bin}(n-1, p)$ is well approximated by\n",
    "the **Poisson distribution** defined by\n",
    "$$\n",
    "p_k = e^{-\\lambda} \\frac{\\lambda^k}{k!},\n",
    "$$\n",
    "where $\\lambda = p (n-1)$."
   ]
  },
  {
   "cell_type": "markdown",
   "metadata": {},
   "source": [
    "Using the functions `exp` and `factorial` from `python`'s `math` library, one can\n",
    "compute the Poisson distribution with the follwing `python` function:"
   ]
  },
  {
   "cell_type": "code",
   "execution_count": null,
   "metadata": {},
   "outputs": [],
   "source": [
    "from math import exp, factorial\n",
    "def p_dist(l, k):\n",
    "    return exp(-l) * l**k / factorial(k)"
   ]
  },
  {
   "cell_type": "markdown",
   "metadata": {},
   "source": [
    "* Create a model $B$ random graph on $n = 10000$ points, \n",
    "with edge probability $p = 0.0015$, and plot its degree distribution.\n",
    "(This might take some time.  If necessary, reduce the number of points ...)"
   ]
  },
  {
   "cell_type": "code",
   "execution_count": null,
   "metadata": {},
   "outputs": [],
   "source": []
  },
  {
   "cell_type": "markdown",
   "metadata": {},
   "source": [
    "* Compute and plot the binomial distribution that corresponds to a random model $B$ graph\n",
    "on $n = 10000$ points with $p = 0.0015$ and $k$ ranging from $0$\n",
    "to the highest node degree in $G$."
   ]
  },
  {
   "cell_type": "code",
   "execution_count": null,
   "metadata": {},
   "outputs": [],
   "source": []
  },
  {
   "cell_type": "markdown",
   "metadata": {},
   "source": [
    "* Compute and plot the Poisson distribution that corresponds to a random model $B$ graph\n",
    "on $n = 10000$ points with $p = 0.0015$."
   ]
  },
  {
   "cell_type": "code",
   "execution_count": null,
   "metadata": {},
   "outputs": [],
   "source": []
  },
  {
   "cell_type": "markdown",
   "metadata": {},
   "source": [
    "* What do you conclude from the plots?\n",
    "Can you plot all the distributions (binomial, Poisson, and the actual degree distribution of a graph $G$)\n",
    "into a single diagram?"
   ]
  },
  {
   "cell_type": "code",
   "execution_count": null,
   "metadata": {},
   "outputs": [],
   "source": []
  },
  {
   "cell_type": "markdown",
   "metadata": {},
   "source": [
    "## 4. Giant Components"
   ]
  },
  {
   "cell_type": "markdown",
   "metadata": {},
   "source": [
    "Graphs of a certain relative size (number of edges in relation to number of nodes)\n",
    "have a **giant component**, a connected component that contains a substantial number of\n",
    "the nodes.\n",
    "For a random graph $G(n, p)$ in model $B$, the sudden appearance of a giant component\n",
    "can be described as a function of $p$ (keeping $n$ fixed), by measuring the\n",
    "size of the largest connected component.\n",
    "\n",
    "With `networkx`, the connected components of a graph `G` can be found with the command\n",
    "`nx.connected_components(G)` and their respective sizes are determined with the command\n",
    "\n",
    "    sz = [len(c) for c in list(nx.connected_components(G))]\n",
    "    \n",
    "The `python` function `max` applied to a list of numbers finds the maximum\n",
    "number in the list, i.e., `max(sz)` is the maxium size in the list `sz`."
   ]
  },
  {
   "cell_type": "markdown",
   "metadata": {},
   "source": [
    "* For $n = 10000$, say, compute $50$, say, random $A$-model graphs $G(n, m)$\n",
    "for varying values of $m$, maybe equally spread out between $0$ and $25000$.\n",
    "* For each graph, determine the size of its largest connected component.\n",
    "* Plot these sizes against the values of $m$. \n",
    "* Can you spot a pattern? Where does the giant component start to grow?\n",
    "  Which value of $p$ does that correspond to?"
   ]
  },
  {
   "cell_type": "code",
   "execution_count": null,
   "metadata": {},
   "outputs": [],
   "source": []
  }
 ],
 "metadata": {
  "kernelspec": {
   "display_name": "Python 3",
   "language": "python",
   "name": "python3"
  },
  "language_info": {
   "codemirror_mode": {
    "name": "ipython",
    "version": 3
   },
   "file_extension": ".py",
   "mimetype": "text/x-python",
   "name": "python",
   "nbconvert_exporter": "python",
   "pygments_lexer": "ipython3",
   "version": "3.7.6"
  }
 },
 "nbformat": 4,
 "nbformat_minor": 2
}

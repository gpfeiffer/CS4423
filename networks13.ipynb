{
 "cells": [
  {
   "cell_type": "markdown",
   "metadata": {},
   "source": [
    "### CS4423 - Networks\n",
    "Prof. Götz Pfeiffer<br />\n",
    "School of Mathematics, Statistics and Applied Mathematics<br />\n",
    "NUI Galway"
   ]
  },
  {
   "cell_type": "markdown",
   "metadata": {},
   "source": [
    "#### 3. Random Networks\n",
    "\n",
    "# Lecture 13: Properties of Random Graphs."
   ]
  },
  {
   "cell_type": "code",
   "execution_count": null,
   "metadata": {},
   "outputs": [],
   "source": [
    "import numpy as np\n",
    "import pandas as pd\n",
    "import networkx as nx\n",
    "# import matplotlib.pyplot as plt"
   ]
  },
  {
   "cell_type": "markdown",
   "metadata": {},
   "source": [
    "## Probability Distributions"
   ]
  },
  {
   "cell_type": "markdown",
   "metadata": {},
   "source": [
    "* Denote by $G_n$ the set of *all* graphs on the $n$ points $X = \\{0, \\dots, n{-}1\\}$.\n",
    "\n",
    "* Regard the ER models $A$ and $B$ as **probability distributions** $P \\colon G_n \\to \\mathbb{R}$.\n",
    "\n",
    "**Notation:**\n",
    "\n",
    "* $N = \\binom{n}{2}$, the maximal number of edges of a graph $G \\in G_n$.\n",
    "\n",
    "* $m(G)$: the number of edges of a graph $G$."
   ]
  },
  {
   "cell_type": "markdown",
   "metadata": {},
   "source": [
    "<div class=\"alert alert-success\">\n",
    "    \n",
    "* $G(n,m)$:\n",
    "$$\n",
    "P(G) = \\begin{cases}\n",
    "\\binom{N}{m}^{-1}, & \\text{if } m(G) = m, \\\\\n",
    "0, & \\text{else.}\n",
    "\\end{cases}\n",
    "$$\n",
    "\n",
    "* $G(n, p)$:\n",
    "$$\n",
    "P(G) = p^m (1-p)^{N-m},\n",
    "$$\n",
    "where $m = m(G)$.\n",
    "    \n",
    "</div>"
   ]
  },
  {
   "cell_type": "markdown",
   "metadata": {},
   "source": [
    "## Expected Values"
   ]
  },
  {
   "cell_type": "markdown",
   "metadata": {},
   "source": [
    "<div class=\"alert alert-success\">\n",
    "\n",
    "In $G(n, m)$:\n",
    "\n",
    "* the expected **size** is\n",
    "$$\n",
    "\\bar{m} = m,\n",
    "$$\n",
    "as every graph $G$ in $G(n, m)$ has exactly $m$ edges.\n",
    "\n",
    "* the expected **average degree** is \n",
    "$$\n",
    "\\langle k \\rangle = \\frac{2m}{n},\n",
    "$$\n",
    "as every graph has average degree $2m/n$.\n",
    "</div>"
   ]
  },
  {
   "cell_type": "markdown",
   "metadata": {},
   "source": [
    "* Other properties of $G(n, m)$ are less straightforward, and it is easier to work with \n",
    "the $G(n, p)$.  \n",
    "* However, in the limit (as $n$ grows larger) the differences between the two models\n",
    "can be neglected."
   ]
  },
  {
   "cell_type": "markdown",
   "metadata": {},
   "source": [
    "<div class=\"alert alert-success\">\n",
    "    \n",
    "In $G(n, p)$, with $N = \\binom{n}{2}$:\n",
    "\n",
    "* the **expected size** is\n",
    "$$\n",
    "\\bar{m} = pN\n",
    "$$\n",
    "\n",
    "* with **variance**\n",
    "$$\n",
    "\\sigma_m^2 = N p (1-p);\n",
    "$$\n",
    "\n",
    "* the expected **average degree** is\n",
    "$$\n",
    "\\langle k \\rangle = p (n-1).\n",
    "$$\n",
    "\n",
    "* with **standard deviation**\n",
    "$$\n",
    "\\sigma_k = \\sqrt{p(1-p)n}\n",
    "$$\n",
    "\n",
    "</div>"
   ]
  },
  {
   "cell_type": "markdown",
   "metadata": {},
   "source": [
    "* In particular, the **relative standard deviation** (or the **coefficient of variation**) of the size of\n",
    "a random model $B$ graph is\n",
    "$$\n",
    "\\frac{\\sigma_m}{\\bar{m}} = \\sqrt{\\frac{1-p}{pN}} \n",
    "= \\sqrt{\\frac{2(1-p)}{p n (n-1)}}\n",
    "= \\sqrt{\\frac{2}{n \\langle k \\rangle} - \\frac{2}{n (n-1)}}\n",
    ",\n",
    "$$\n",
    "a quantity that converges to $0$ as $n \\to \\infty$ if $p (n-1) = \\langle k \\rangle$, the average node degree, is kept constant.\n",
    "\n",
    "* In this sense, for large graphs, the fluctuations in the size of random graphs in model $B$ can be neglected."
   ]
  },
  {
   "cell_type": "markdown",
   "metadata": {},
   "source": [
    "## Degree distribution"
   ]
  },
  {
   "cell_type": "markdown",
   "metadata": {},
   "source": [
    "<div class=\"alert alert-warning\">\n",
    "\n",
    "**Definition.**\n",
    "The **degree distribution** $p\\colon \\mathbb{N}_0 \\to \\mathbb{R},\\, k \\mapsto p_k$ of a graph $G$\n",
    "is defined as\n",
    "$$\n",
    "p_k = \\frac{n_k}{n},\n",
    "$$\n",
    "where, for $k \\geq 0$, $n_k$ is the number of nodes of degree $k$ in $G$.\n",
    "</div>"
   ]
  },
  {
   "cell_type": "markdown",
   "metadata": {},
   "source": [
    "This definition can be extended to ensembles of graphs with $n$ nodes (like the random graphs $G(n, m)$ and\n",
    "$G(n, p)$), by setting\n",
    "$$\n",
    "p_k = \\bar{n}_k/n,\n",
    "$$\n",
    "where $\\bar{n}_k$ denotes the expected value of the random variable $n_k$ over the ensemble of graphs."
   ]
  },
  {
   "cell_type": "markdown",
   "metadata": {},
   "source": [
    "* The degree distribution in a random graph $G(n, p)$ is a **binomial distribution**:\n",
    "$$\n",
    "p_k = \\binom{n-1}{k}p^k (1-p)^{n-1-k} = \\mathrm{Bin}(n-1, p, k)\n",
    "$$"
   ]
  },
  {
   "cell_type": "markdown",
   "metadata": {},
   "source": [
    "* In the limit $n \\to \\infty$, with $\\bar{k} = p (n-1)$ kept constant,\n",
    "the binomial distribution $\\mathrm{Bin}(n-1, p, k)$ is well approximated by the\n",
    "**Poisson distribution**:\n",
    "$$\n",
    "p_k = e^{-\\lambda} \\frac{\\lambda^k}{k!} = \\mathrm{Pois}(\\lambda, k),\n",
    "$$\n",
    "where $\\lambda = p (n-1)$."
   ]
  },
  {
   "cell_type": "code",
   "execution_count": null,
   "metadata": {},
   "outputs": [],
   "source": [
    "import math\n",
    "math.factorial(16)"
   ]
  },
  {
   "cell_type": "markdown",
   "metadata": {},
   "source": [
    "$$\\binom{n}{k} = \\frac{n \\cdot (n-1) \\dotsm (n-k+1)}{1 \\cdot 2 \\dotsm k}$$"
   ]
  },
  {
   "cell_type": "code",
   "execution_count": null,
   "metadata": {},
   "outputs": [],
   "source": [
    "def binomial(n, k):\n",
    "    prod, top, bot = 1, n, 1\n",
    "    for i in range(k):\n",
    "        prod = (prod * top) // bot\n",
    "        top, bot = top - 1, bot + 1\n",
    "    return prod"
   ]
  },
  {
   "cell_type": "code",
   "execution_count": null,
   "metadata": {},
   "outputs": [],
   "source": [
    "l = [binomial(16, k) for k in range(17)]\n",
    "print(l)"
   ]
  },
  {
   "cell_type": "code",
   "execution_count": null,
   "metadata": {},
   "outputs": [],
   "source": [
    "df = pd.DataFrame(l)\n",
    "df.plot.bar()"
   ]
  },
  {
   "cell_type": "markdown",
   "metadata": {},
   "source": [
    "For $n$ larger than $k$, Stirlings formula\n",
    "$$\n",
    "n! \\sim \\sqrt{2 \\pi n} \\left(\\tfrac{n}{e}\\right)^n\n",
    "$$\n",
    "can be used to approximate a binomial coefficient as follows:\n",
    "\n",
    "$$\n",
    "\\binom{n}{k}  = \\frac{n \\cdot (n-1) \\dots (n-k+1)}{k!}\n",
    "\\approx \\frac{(n-k/2)^k}{k^k e^{-k} \\sqrt{2 \\pi k}}\n",
    "= \\frac{(n/k - 0.5)^k e^k}{\\sqrt{2 \\pi k}}\n",
    "$$"
   ]
  },
  {
   "cell_type": "code",
   "execution_count": null,
   "metadata": {},
   "outputs": [],
   "source": [
    "from math import exp, sqrt, pi, log\n",
    "def binom_approx(n, k):\n",
    "    return (n/k - 0.5)**k * exp(k) / sqrt(2 * pi * k)"
   ]
  },
  {
   "cell_type": "code",
   "execution_count": null,
   "metadata": {},
   "outputs": [],
   "source": [
    "n = binomial(100, 2)\n",
    "k = 50\n",
    "print(binomial(n, k))"
   ]
  },
  {
   "cell_type": "code",
   "execution_count": null,
   "metadata": {},
   "outputs": [],
   "source": [
    "print(binom_approx(n, k))\n",
    "print(binomial(n, k) / 10**120)"
   ]
  },
  {
   "cell_type": "markdown",
   "metadata": {},
   "source": [
    "## Phase Transitions"
   ]
  },
  {
   "cell_type": "markdown",
   "metadata": {},
   "source": [
    "Point of view: for the random graph $G(n, p)$, suppose that $p = p(n)$ is a function of $n$, the number of nodes,\n",
    "and study the ensemble of graphs $G(n, p(n))$, as $n \\to \\infty$."
   ]
  },
  {
   "cell_type": "markdown",
   "metadata": {},
   "source": [
    "Then, to say that *almost every graph has property $Q$* means that the\n",
    "probability of a graph in the ensemble to have property $Q$ tends to $1$,\n",
    "as $n \\to \\infty$."
   ]
  },
  {
   "cell_type": "markdown",
   "metadata": {},
   "source": [
    "<div class=\"alert alert-danger\">\n",
    "    \n",
    "**Theorem (Appearance of Subgraphs).**\n",
    "Let $F$ be a connected graph with $a$ nodes and $b$ edges.\n",
    "* If $p(n)/n^{-a/b} \\to 0$ then almost every graph in the ensemble $G(n, p(n))$ does not contain a copy of $F$.\n",
    "* If $p(n)/n^{-a/b} \\to \\infty$ then almost every graph in the ensemble $G(n, p(n))$ does contain a copy of $F$.\n",
    "* If $p(n) = c n^{-a/b}$ then, as $n \\to \\infty$, the number $n_F$ of $F$-subgraphs in $G$ has distribution\n",
    "$\\mathrm{Pois}(\\lambda, r)$, where $\\lambda = c^b/|\\mathrm{Aut(F)}|$,\n",
    "with $|\\mathrm{Aut}(F)|$ being the number of *automorphisms* of $F$.\n",
    "</div>"
   ]
  },
  {
   "cell_type": "markdown",
   "metadata": {},
   "source": [
    "For example:\n",
    "\n",
    "* Trees with $a$ nodes appear when $p(n) = c n^{-a/(a-1)}$.\n",
    "* Cycles of order $a$ appear when $p(n) = c n^{-1}$.\n",
    "* Complete subgraphs of order $a$ appear when $p(n) = c n^{-2/(a-1)}$."
   ]
  },
  {
   "cell_type": "markdown",
   "metadata": {},
   "source": [
    "* Moreover, $p(n) = \\frac1n \\ln n$ is the threshold probability for $G$ to be connected.\n",
    "(This corresponds to $m = \\frac12 n \\ln n$ in model $A$.)"
   ]
  },
  {
   "cell_type": "markdown",
   "metadata": {},
   "source": [
    "Numbers of \n",
    "* triads:  $3 \\binom{n}{3} p^2 = \\tfrac12 n(n-1)(n-2)p^2$,\n",
    "* triangles: $\\binom{n}{3} p^3 = \\tfrac16 n(n-1)(n-2)p^3$."
   ]
  },
  {
   "cell_type": "markdown",
   "metadata": {},
   "source": [
    "##  The Giant Connected Component"
   ]
  },
  {
   "cell_type": "markdown",
   "metadata": {},
   "source": [
    "<div class=\"alert alert-warning\">\n",
    "    \n",
    "**Definition (Giant Component).**\n",
    "A connected component of a graph $G$ is called a **giant component**\n",
    "if its number of nodes increases with the order $n$ of $G$ as\n",
    "some positive power of $n$.\n",
    "</div>"
   ]
  },
  {
   "cell_type": "markdown",
   "metadata": {},
   "source": [
    "* In practice, in a given graph $G$ of order $n$, \n",
    "a giant component is one of order $n^{2/3}$\n",
    "(e.g., $100^{2/3} = 21.5$.)"
   ]
  },
  {
   "cell_type": "markdown",
   "metadata": {},
   "source": [
    "Suppose $p(n) = c/n$ for some positive constant $c$.  (Then the average degree $\\langle k \\rangle = p (n-1) = c \\frac{n-1}{n} \\to c$ remains fixed as $n \\to \\infty$.)"
   ]
  },
  {
   "cell_type": "markdown",
   "metadata": {},
   "source": [
    "<div class=\"alert alert-danger\">\n",
    "\n",
    "**Theorem (Erdös-Rényi)**.\n",
    "* If $c < 1$ the graph contains many small components, orders bounded by $O(\\ln n)$.\n",
    "* If $c = 1$ the graph has large components of order $O(n^{2/3})$.\n",
    "* If $c > 1$ there is a unique **giant component** of order $O(n)$.\n",
    "<div>"
   ]
  },
  {
   "cell_type": "markdown",
   "metadata": {},
   "source": [
    "## Code Corner"
   ]
  },
  {
   "cell_type": "markdown",
   "metadata": {},
   "source": [
    "##  Exercises"
   ]
  },
  {
   "cell_type": "markdown",
   "metadata": {},
   "source": [
    "1. Design an experiment with random graphs of suitable degree and size to verify the predicted numbers of triads and triangles above."
   ]
  },
  {
   "cell_type": "code",
   "execution_count": null,
   "metadata": {},
   "outputs": [],
   "source": []
  }
 ],
 "metadata": {
  "kernelspec": {
   "display_name": "Python 3",
   "language": "python",
   "name": "python3"
  },
  "language_info": {
   "codemirror_mode": {
    "name": "ipython",
    "version": 3
   },
   "file_extension": ".py",
   "mimetype": "text/x-python",
   "name": "python",
   "nbconvert_exporter": "python",
   "pygments_lexer": "ipython3",
   "version": "3.7.6"
  }
 },
 "nbformat": 4,
 "nbformat_minor": 2
}

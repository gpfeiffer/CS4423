{
 "cells": [
  {
   "cell_type": "markdown",
   "metadata": {},
   "source": [
    "### CS4423 - Networks\n",
    "Prof. Götz Pfeiffer<br />\n",
    "School of Mathematics, Statistics and Applied Mathematics<br />\n",
    "NUI Galway"
   ]
  },
  {
   "cell_type": "markdown",
   "metadata": {},
   "source": [
    "#### 4. Small Worlds\n",
    "\n",
    "# Lecture 15: Small World Random Graphs"
   ]
  },
  {
   "cell_type": "markdown",
   "metadata": {},
   "source": [
    "The fact that random networks tend to have low transitivity and clustering necessitates a new kind of (random) network model\n",
    "that is better at mimicking real world networks.\n",
    "One idea, developped by Watts and Strogatz in 1998, is to start with some regular network that\n",
    "naturally has a high clustering, and then to randomly distort its edges."
   ]
  },
  {
   "cell_type": "code",
   "execution_count": null,
   "metadata": {},
   "outputs": [],
   "source": [
    "import networkx as nx\n",
    "opts = { \"with_labels\": True, \"node_color\": 'y' }"
   ]
  },
  {
   "cell_type": "markdown",
   "metadata": {},
   "source": [
    "###  Lattices, Line Graphs, Circle Graphs"
   ]
  },
  {
   "cell_type": "markdown",
   "metadata": {},
   "source": [
    "A **triangular lattice** is (a finite porition of) a regular tiling of the Euclidean plane by triangles.\n",
    "Here, each (inner) vertex has $6$ neighbors, which are linked in a cycle, giving\n",
    "a node clustering coefficient of $6/\\binom{6}{2} = 2/5 = 0.4$."
   ]
  },
  {
   "cell_type": "markdown",
   "metadata": {},
   "source": [
    "A rectangular finite region of a triangular lattice with $m$ strips of $n$ triangles of constant height\n",
    "can be generated with the command `nx.triangular_lattice_graph(m, n)`"
   ]
  },
  {
   "cell_type": "code",
   "execution_count": null,
   "metadata": {},
   "outputs": [],
   "source": [
    "G = nx.triangular_lattice_graph(5, 7)\n",
    "nx.draw(G, **opts)"
   ]
  },
  {
   "cell_type": "code",
   "execution_count": null,
   "metadata": {},
   "outputs": [],
   "source": [
    "nx.clustering(G)"
   ]
  },
  {
   "cell_type": "code",
   "execution_count": null,
   "metadata": {},
   "outputs": [],
   "source": [
    "nx.average_clustering(G)"
   ]
  },
  {
   "cell_type": "markdown",
   "metadata": {},
   "source": [
    "However, other kinds of lattice graphs contain no triangles at all!"
   ]
  },
  {
   "cell_type": "code",
   "execution_count": null,
   "metadata": {},
   "outputs": [],
   "source": [
    "G = nx.grid_2d_graph(3, 4)\n",
    "nx.draw(G, with_labels=True, node_color='y')"
   ]
  },
  {
   "cell_type": "code",
   "execution_count": null,
   "metadata": {},
   "outputs": [],
   "source": [
    "nx.clustering(G)"
   ]
  },
  {
   "cell_type": "code",
   "execution_count": null,
   "metadata": {},
   "outputs": [],
   "source": [
    "n = 10\n",
    "G = nx.path_graph(n)\n",
    "nx.draw(G, **opts)"
   ]
  },
  {
   "cell_type": "code",
   "execution_count": null,
   "metadata": {},
   "outputs": [],
   "source": [
    "nx.clustering(G)"
   ]
  },
  {
   "cell_type": "markdown",
   "metadata": {},
   "source": [
    "**Idea:** in a path graph with $n$ vertices, additionally connect each node to all nodes not further than $d$\n",
    "steps away ..."
   ]
  },
  {
   "cell_type": "code",
   "execution_count": null,
   "metadata": {},
   "outputs": [],
   "source": [
    "for v in range(n-2):\n",
    "    G.add_edge(v, v+2)\n",
    "nx.draw(G, **opts)\n",
    "print(nx.average_clustering(G))"
   ]
  },
  {
   "cell_type": "code",
   "execution_count": null,
   "metadata": {},
   "outputs": [],
   "source": [
    "for v in range(n-3):\n",
    "    G.add_edge(v, v+3)\n",
    "nx.draw(G, **opts)\n",
    "print(nx.average_clustering(G))"
   ]
  },
  {
   "cell_type": "markdown",
   "metadata": {},
   "source": [
    "Or, same thing on a cycle ..."
   ]
  },
  {
   "cell_type": "code",
   "execution_count": null,
   "metadata": {},
   "outputs": [],
   "source": [
    "n = 10\n",
    "G = nx.cycle_graph(n)\n",
    "nx.draw(G, **opts)\n",
    "print(nx.average_clustering(G))\n",
    "print(nx.average_shortest_path_length(G))"
   ]
  },
  {
   "cell_type": "code",
   "execution_count": null,
   "metadata": {},
   "outputs": [],
   "source": [
    "for v in G:\n",
    "    G.add_edge(v, (v+2) % n)\n",
    "nx.draw_circular(G, **opts)\n",
    "print(nx.average_clustering(G))\n",
    "print(nx.average_shortest_path_length(G))"
   ]
  },
  {
   "cell_type": "code",
   "execution_count": null,
   "metadata": {},
   "outputs": [],
   "source": [
    "for v in G:\n",
    "    G.add_edge(v, (v+3) % n)\n",
    "nx.draw_circular(G, **opts)\n",
    "print(nx.average_clustering(G))\n",
    "print(nx.average_shortest_path_length(G))"
   ]
  },
  {
   "cell_type": "markdown",
   "metadata": {},
   "source": [
    "<div class =\"alert alert-warning\">\n",
    "\n",
    "**Definition (Circle Graph).** For $1 < d < n/2$, an $(n, d)$-**circle graph**\n",
    "is obtained from a cycle on $n$ vertices by additionally linking each node\n",
    "to all nodes that are not more than $d$ steps away on the cycle.\n",
    "</div>"
   ]
  },
  {
   "cell_type": "code",
   "execution_count": null,
   "metadata": {},
   "outputs": [],
   "source": [
    "def circle_graph(n, d):\n",
    "    G = nx.cycle_graph(n)\n",
    "    for v in G:\n",
    "        for o in range(2, d+1):\n",
    "            G.add_edge(v, (v+o) % n)\n",
    "    return G"
   ]
  },
  {
   "cell_type": "code",
   "execution_count": null,
   "metadata": {
    "scrolled": true,
    "slideshow": {
     "slide_type": "fragment"
    }
   },
   "outputs": [],
   "source": [
    "G = circle_graph(21, 5)\n",
    "nx.draw_circular(G, **opts)"
   ]
  },
  {
   "cell_type": "code",
   "execution_count": null,
   "metadata": {},
   "outputs": [],
   "source": [
    "print(nx.average_clustering(G))\n",
    "print(nx.average_shortest_path_length(G))"
   ]
  },
  {
   "cell_type": "code",
   "execution_count": null,
   "metadata": {
    "scrolled": true
   },
   "outputs": [],
   "source": [
    "N = G.neighbors(0)\n",
    "S = nx.subgraph(G, list(N))\n",
    "nx.draw_circular(S, **opts)"
   ]
  },
  {
   "cell_type": "code",
   "execution_count": null,
   "metadata": {},
   "outputs": [],
   "source": [
    "S.degree()"
   ]
  },
  {
   "cell_type": "code",
   "execution_count": null,
   "metadata": {},
   "outputs": [],
   "source": [
    "S.size()"
   ]
  },
  {
   "cell_type": "markdown",
   "metadata": {},
   "source": [
    "* An $(n, d)$-circle graph has $n$ nodes and $m = nd$ edges.\n",
    "\n",
    "* Each node has degree $\\frac{2m}{n} = 2d$.\n",
    "\n",
    "* The social graph of each node has\n",
    "$$\\sum_{k=0}^{d-1} ((d-1)+k) = \\frac{3}{2}d(d-1)$$ \n",
    "edges.\n",
    "\n",
    "* The graph clustering coefficient of an $(n, d)$-circle graph is\n",
    "$$\n",
    "C = \\frac{3d - 3}{4d - 2} \\to \\frac34 \\text{, as } d \\to \\infty.\n",
    "$$\n",
    "In particular:\n",
    "$$\n",
    "\\begin{array}{l|rrrrr}\n",
    "d & 1 & 2 & 3 & 4 & 5 \\\\ \\hline\n",
    "C & 0 & 0.5 & 0.6 & 0.643 & 0.667\n",
    "\\end{array}\n",
    "$$\n",
    "\n",
    "* The characteristic path length of an $(n, d)$-circle graph is\n",
    "approximately\n",
    "$$\n",
    "L \\approx \\frac{n}{4d},\n",
    "$$\n",
    "growing linearly with $n$ (for fixed $d$)."
   ]
  },
  {
   "cell_type": "markdown",
   "metadata": {},
   "source": [
    "In conclusion, such regular graphs have high clustering but long shortest paths,\n",
    "hence $(n, d)$-circle graphs do not exhibit the small world behaviour.\n",
    "\n",
    "The following modification of the circle graph was suggested by Duncan J. Watts and Steven Strogatz ([1998](https://en.wikipedia.org/wiki/Watts%E2%80%93Strogatz_model))."
   ]
  },
  {
   "cell_type": "markdown",
   "metadata": {},
   "source": [
    "<div class=\"alert alert-warning\">\n",
    "\n",
    "**Definition (The WS Model).**\n",
    "Let $1 < d < n/2$ and $0\\leq p \\leq 1$.  An $(n, d, p)$-WS graph $G = (X, E)$ is constructed from\n",
    "an $(n, d)$-circle graph $G_0 = (X, E_0)$ by rewiring each of the edges in $E_0$ with probability $p$,\n",
    "as follows:\n",
    "\n",
    "1. visit the nodes $X = \\{0, \\dots, n{-}1\\}$ in turn ('clockwise').\n",
    "\n",
    "2. for each node $i \\in X$ consider the $d$ edges connecting $i$ to $j$\n",
    "in a clockwise sense ($j = i+1, \\dots, i+d$).\n",
    "\n",
    "3. With probability $p$, in the edge $(i, j)$ replace\n",
    "$j$ by node $k \\in X$ chosen uniformly at random, subject to\n",
    "  * $k \\neq i$, and\n",
    "  * $(i, k)$ must not be an edge of $G$ already.\n",
    "</div>"
   ]
  },
  {
   "cell_type": "code",
   "execution_count": null,
   "metadata": {},
   "outputs": [],
   "source": [
    "import random as rd\n",
    "def ws_graph(n, d, p):\n",
    "    G = circle_graph(n, d)\n",
    "    for v in G:\n",
    "        for o in range(1, d+1):\n",
    "            if rd.random() < p:\n",
    "                w = rd.randint(0,n-1)\n",
    "                if w != v and not G.has_edge(v, w):\n",
    "                    G.remove_edge(v, (v+o) % n)\n",
    "                    G.add_edge(v, w)\n",
    "    return G"
   ]
  },
  {
   "cell_type": "code",
   "execution_count": null,
   "metadata": {
    "slideshow": {
     "slide_type": "fragment"
    }
   },
   "outputs": [],
   "source": [
    "n, d = 21, 3\n",
    "G = ws_graph(n, d, 0.1)\n",
    "nx.draw_circular(G, **opts)\n",
    "print(nx.average_clustering(G))\n",
    "print(nx.average_shortest_path_length(G))\n",
    "print((G.order(), G.size()))"
   ]
  },
  {
   "cell_type": "code",
   "execution_count": null,
   "metadata": {
    "slideshow": {
     "slide_type": "fragment"
    }
   },
   "outputs": [],
   "source": [
    "G = ws_graph(n, d, 0.2)\n",
    "nx.draw_circular(G, **opts)\n",
    "print(nx.average_clustering(G))\n",
    "print(nx.average_shortest_path_length(G))\n",
    "print((G.order(), G.size()))"
   ]
  },
  {
   "cell_type": "code",
   "execution_count": null,
   "metadata": {
    "slideshow": {
     "slide_type": "fragment"
    }
   },
   "outputs": [],
   "source": [
    "G = ws_graph(n, d, 0.3)\n",
    "nx.draw_circular(G, **opts)\n",
    "print(nx.average_clustering(G))\n",
    "print(nx.average_shortest_path_length(G))\n",
    "print((G.order(), G.size()))"
   ]
  },
  {
   "cell_type": "code",
   "execution_count": null,
   "metadata": {
    "slideshow": {
     "slide_type": "fragment"
    }
   },
   "outputs": [],
   "source": [
    "G = ws_graph(n, d, 1)\n",
    "nx.draw_circular(G, **opts)\n",
    "print(nx.average_clustering(G))\n",
    "print(nx.average_shortest_path_length(G))\n",
    "print((G.order(), G.size()))"
   ]
  },
  {
   "cell_type": "markdown",
   "metadata": {},
   "source": [
    "A WS graph with parameters $(n, d, p)$ can be generated with the command `nx.watts_strogatz_graph(n, 2*d, p)`."
   ]
  },
  {
   "cell_type": "code",
   "execution_count": null,
   "metadata": {},
   "outputs": [],
   "source": [
    "n, d = 21, 3 \n",
    "G = nx.watts_strogatz_graph(n, 2*d, 0)\n",
    "nx.draw_circular(G, **opts)\n",
    "print(nx.average_clustering(G))\n",
    "print(nx.average_shortest_path_length(G))"
   ]
  },
  {
   "cell_type": "code",
   "execution_count": null,
   "metadata": {},
   "outputs": [],
   "source": [
    "G = nx.watts_strogatz_graph(n, 2*d, 0.1)\n",
    "nx.draw_circular(G, **opts)\n",
    "print(nx.average_clustering(G))\n",
    "print(nx.average_shortest_path_length(G))"
   ]
  },
  {
   "cell_type": "code",
   "execution_count": null,
   "metadata": {},
   "outputs": [],
   "source": [
    "G = nx.watts_strogatz_graph(n, 2*d, 0.2)\n",
    "nx.draw_circular(G, **opts)\n",
    "print(nx.average_clustering(G))\n",
    "print(nx.average_shortest_path_length(G))"
   ]
  },
  {
   "cell_type": "markdown",
   "metadata": {},
   "source": [
    "## Code Corner"
   ]
  },
  {
   "cell_type": "markdown",
   "metadata": {},
   "source": [
    "### `random`"
   ]
  },
  {
   "cell_type": "markdown",
   "metadata": {},
   "source": [
    "* `randint`: [[doc]](https://docs.python.org/2/library/random.html#random.randint) random integer"
   ]
  },
  {
   "cell_type": "markdown",
   "metadata": {},
   "source": [
    "### `networkx`"
   ]
  },
  {
   "cell_type": "markdown",
   "metadata": {},
   "source": [
    "* `triangular_lattice_graph`: [[doc]](https://networkx.github.io/documentation/stable/reference/generated/networkx.generators.lattice.triangular_lattice_graph.html)\n",
    "\n",
    "\n",
    "* `grid_2d_graph`: [[doc]](https://networkx.github.io/documentation/stable/reference/generated/networkx.generators.lattice.grid_2d_graph.html)\n",
    "\n",
    "\n",
    "* `grid_graph`: [[doc]](https://networkx.github.io/documentation/stable/reference/generated/networkx.generators.lattice.grid_graph.html)\n",
    "\n",
    "\n",
    "* `path_graph`: [[doc]](https://networkx.github.io/documentation/networkx-1.9/reference/generated/networkx.generators.classic.path_graph.html)\n",
    "\n",
    "\n",
    "* `cycle_graph`: [[doc]](https://networkx.github.io/documentation/networkx-1.9/reference/generated/networkx.generators.classic.cycle_graph.html)\n",
    "\n",
    "\n",
    "* `circulant_graph`: [[doc]](https://networkx.github.io/documentation/stable/reference/generated/networkx.generators.classic.circulant_graph.html)\n",
    "\n",
    "\n",
    "* `watts_strogatz_graph`: [[doc]](https://networkx.github.io/documentation/stable/reference/generated/networkx.generators.random_graphs.watts_strogatz_graph.html)\n",
    "\n",
    "\n",
    "* `draw_circular`: [[doc]](https://networkx.github.io/documentation/stable/reference/generated/networkx.drawing.nx_pylab.draw_circular.html)"
   ]
  },
  {
   "cell_type": "markdown",
   "metadata": {},
   "source": [
    "##  Exercises"
   ]
  },
  {
   "cell_type": "markdown",
   "metadata": {},
   "source": [
    "1. Design an experiment with random graphs to verify the predicted graph clustering coefficient.\n",
    "\n",
    "1. In terms of the parameters, $n$, $d$ and $p$, what is the clustering coefficient $C$ of an $(n, d, p)$-WS graph?\n",
    "\n",
    "1. In terms of the parameters, $n$, $d$ and $p$, what is the average shortest path length $L$  of an $(n, d, p)$-WS graph?"
   ]
  },
  {
   "cell_type": "code",
   "execution_count": null,
   "metadata": {},
   "outputs": [],
   "source": []
  }
 ],
 "metadata": {
  "kernelspec": {
   "display_name": "Python 3",
   "language": "python",
   "name": "python3"
  },
  "language_info": {
   "codemirror_mode": {
    "name": "ipython",
    "version": 3
   },
   "file_extension": ".py",
   "mimetype": "text/x-python",
   "name": "python",
   "nbconvert_exporter": "python",
   "pygments_lexer": "ipython3",
   "version": "3.7.6"
  }
 },
 "nbformat": 4,
 "nbformat_minor": 2
}

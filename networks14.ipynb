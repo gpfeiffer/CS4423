{
 "cells": [
  {
   "cell_type": "markdown",
   "metadata": {},
   "source": [
    "### CS4423 - Networks\n",
    "Prof. Götz Pfeiffer<br />\n",
    "School of Mathematics, Statistics and Applied Mathematics<br />\n",
    "NUI Galway"
   ]
  },
  {
   "cell_type": "markdown",
   "metadata": {},
   "source": [
    "#### 6. Directed Networks\n",
    "\n",
    "# Lecture 14: The Structure of the World Wide Web"
   ]
  },
  {
   "cell_type": "markdown",
   "metadata": {},
   "source": [
    "Happy 32nd Birthday, [WWW](https://webfoundation.org/2021/03/web-birthday-32/)!\n",
    "\n",
    "So far, the networks that have been discussed most of the time\n",
    "consisted of people or organizations, connected by links representing\n",
    "opportunities for interactions.   The World Wide Web is an example\n",
    "of a network of a different kind, a so-called **information network**."
   ]
  },
  {
   "cell_type": "markdown",
   "metadata": {},
   "source": [
    "###  Information Networks"
   ]
  },
  {
   "cell_type": "markdown",
   "metadata": {},
   "source": [
    "Information networks connect pieces of information,\n",
    "like documents, or parts of documents, through links\n",
    "that represent references of some kind.  Such links,\n",
    "in contrast to social relationships which are typically symmetric,\n",
    "only point in one direction.\n",
    "The underlying graph of an information network thus\n",
    "is a **directed graph**."
   ]
  },
  {
   "cell_type": "markdown",
   "metadata": {},
   "source": [
    "Information networks have existed before the internet.  Some prominent\n",
    "examples include:\n",
    "\n",
    "* **Academic Publications.**  In the scientific literature it is customary\n",
    "to give credit to sources that have been used in the form of\n",
    "references to those publications that contain those sources.\n",
    "This practice creates a network whose nodes are the\n",
    "publications, and whose links represent the references, pointing from\n",
    "the citing article back to the cited article.\n",
    "A large part of this network in the mathematical literature is\n",
    "captured on [MathSciNet](http://www.ams.org/mathscinet).\n",
    "\n",
    "* **Mathematical Proofs.**  In mathematics, the proof of a particular theorem\n",
    "usually relies on theorems that have already been proved.\n",
    "Citing a theorem in a proof thus creates a link from the theorem\n",
    "being proved back to the theorem being used, in a network of mathematical\n",
    "theorems.  In a similar way, a complex computer program,\n",
    "consisting of several subroutines, can be regarded\n",
    "as a network of subroutines, pointing to each other through links\n",
    "that arise from one subroutine calling another.\n",
    "\n",
    "* **Technical Documentation.** The documentation of complex systems,\n",
    "such as computer software, typically consists of a collection of\n",
    "articles (manual pages), each describing one aspect of the system,\n",
    "frequently using cross-references to each other.  Here the network\n",
    "consists of the manual pages, and the links represent those cross\n",
    "references.  In a similar way, an encyclopedia (or a dictionary)\n",
    "organizes its content as a sequence of articles, sorted\n",
    "alphabetically, with supporting cross-references."
   ]
  },
  {
   "cell_type": "markdown",
   "metadata": {},
   "source": [
    "### Hypertext"
   ]
  },
  {
   "cell_type": "markdown",
   "metadata": {},
   "source": [
    "The **World Wide Web** arose out of the desire to make technical\n",
    "documentation more easily accessible by using the physical infrastructure\n",
    "of the rapidly growing internet.\n",
    "It was conceived by [Tim Berners-Lee](https://en.wikipedia.org/wiki/Tim_Berners-Lee) around 1990\n",
    "as information management system at [CERN](http://info.cern.ch/hypertext/WWW/TheProject.html)."
   ]
  },
  {
   "cell_type": "markdown",
   "metadata": {},
   "source": [
    "In this system, documents are **web pages**, that anyone can create\n",
    "and store in a publicly accessible place on their computer.  Moreover,\n",
    "it supplies a **web browser**, a piece of software that can retrieve\n",
    "the web pages from those public spaces, allowing others to easily\n",
    "access those documents."
   ]
  },
  {
   "cell_type": "markdown",
   "metadata": {},
   "source": [
    "Web pages contain **hypertext**, that is a mixture of plain text and **hyperlinks**.  Here, a hyperlink (or just link) is a reference to another document\n",
    "that the reader can follow by simply clicking on it.  Hyperlinks have a **source**\n",
    "(the document they are contained in) and a **target** (the document\n",
    "they reference).\n",
    "This creates a network of documents as nodes\n",
    "and hyperlinks as **directed edges** between them."
   ]
  },
  {
   "cell_type": "markdown",
   "metadata": {},
   "source": [
    "There are many alternative ways to organize information: alphabetically\n",
    "(like the telephone book),\n",
    "hierarchical (in folders like the files on a computer), ...\n",
    "Certainly, the physical constraints of the environment\n",
    "(like the fact that books need to be stored on shelves,\n",
    "that pages in a book come in order)\n",
    "have an influence on how well a particular solution works."
   ]
  },
  {
   "cell_type": "markdown",
   "metadata": {},
   "source": [
    "Hypertext makes logical relationships\n",
    "within and between texts (which traditionally are only implicit)\n",
    "explicit first class objects.\n",
    "The browser makes links immediately actionable."
   ]
  },
  {
   "cell_type": "markdown",
   "metadata": {},
   "source": [
    "Hypertext originates from the works of the visionaries\n",
    "[Vannevar Bush](https://en.wikipedia.org/wiki/Vannevar_Bush) (the Memex, 1945) and\n",
    "[Ted Nelson](https://en.wikipedia.org/wiki/Vannevar_Bush) (Xanadu Project, 1965)."
   ]
  },
  {
   "cell_type": "markdown",
   "metadata": {},
   "source": [
    "It will be useful to distinguish between **navigational links**\n",
    "(providing access to related pages)\n",
    "and **transactional links** (which exist more\n",
    "for a side effect, like ordering a book,\n",
    "or sending an email, than\n",
    "for the sake of leading to the next page).\n",
    "The distinction is not always clear,\n",
    "but transactional links are the kind that is of\n",
    "little interest for search engines.\n",
    "It's the navigational links that\n",
    "form the edges of the directed graph\n",
    "that turns the Web into\n",
    "an information network."
   ]
  },
  {
   "cell_type": "markdown",
   "metadata": {},
   "source": [
    "As with undirected graphs, an interesting question in\n",
    "directed graphs is: which nodes can be reached from\n",
    "a given node?"
   ]
  },
  {
   "cell_type": "markdown",
   "metadata": {},
   "source": [
    "### Reachability in Directed Graphs"
   ]
  },
  {
   "cell_type": "markdown",
   "metadata": {},
   "source": [
    "Recall that a **directed graph** is a pair $G = (X, E)$\n",
    "with **vertex set** $X$  and **edge set** $E \\subseteq X^2 = X \\times X$.\n",
    "For an edge $(x, y) \\in E$ we sometimes write $x \\to y$."
   ]
  },
  {
   "cell_type": "markdown",
   "metadata": {},
   "source": [
    "A **path** in a directed graph  $G = (X, E)$\n",
    "is a sequence of nodes $(x_0, x_1, \\dots, x_l)$\n",
    "with $x_{i-1} \\to x_i$ for $i = 1,\\dots, l$.\n",
    "The number $l$ is called the **length** of the path.\n",
    "We write $x \\leadsto y$\n",
    "if there exists a path (possibly of length $0$)\n",
    "from $x$ to $y$ in $G$."
   ]
  },
  {
   "cell_type": "markdown",
   "metadata": {},
   "source": [
    "A directed graph $G$ is **weakly connected** if, when\n",
    "considerd as undirected graph, it is connected.\n",
    "The **weakly connnected components** (WCCs) of $G$ are its connected components,\n",
    "when considered as undirected graph."
   ]
  },
  {
   "cell_type": "markdown",
   "metadata": {},
   "source": [
    "A directed graph $G$ is **strongly connected** if, for\n",
    "each pair of vertices $x, y \\in X$, there is a path from\n",
    "$x$ to $y$ in $G$, i.e., if $x \\leadsto y$."
   ]
  },
  {
   "cell_type": "markdown",
   "metadata": {},
   "source": [
    "A **strongly connected component (SCC)** of a directed graph $G$\n",
    "is a subset $C$ of $X$ which is (i) strongly connected,\n",
    "and (ii) not part of a larger strongly connected subset of $X$."
   ]
  },
  {
   "cell_type": "markdown",
   "metadata": {},
   "source": [
    "In general, a directed graph is a collection of WCCs.\n",
    "Each WCC in turn is a collection of SCCs."
   ]
  },
  {
   "cell_type": "markdown",
   "metadata": {},
   "source": [
    "When a directed graph $G$ is regarded as a **relation**\n",
    "on the set $X$, strongly connected components can be described as\n",
    "the **equivalence classes** of an equivalence relation that is obtained\n",
    "as follows."
   ]
  },
  {
   "cell_type": "markdown",
   "metadata": {},
   "source": [
    "First note that the relation ${x \\leadsto y}$\n",
    "is the reflexive and transitive closure of the\n",
    "edge relation $x \\to y$.  Thus, by construction it is reflexive and\n",
    "transitive.  It might not be anti-symmetric, though,\n",
    "meaning that there might be vertices $x$ and $y$\n",
    "with $x\\leadsto y$ and $y \n",
    "\\leadsto x$."
   ]
  },
  {
   "cell_type": "markdown",
   "metadata": {},
   "source": [
    "However, the new relation $x \\equiv y$,\n",
    "defined as $x \\leadsto y$ and $y \\leadsto x$\n",
    "is an equivalence relation (why?)\n",
    "and its equivalence classes are the strongly connected\n",
    "components of $G$.  Denote the class of $x \\in X$ by $[x]$."
   ]
  },
  {
   "cell_type": "markdown",
   "metadata": {},
   "source": [
    "Moreover, there is a partial order relation\n",
    "$\\leq$ (a relation which is reflexive, transitive and anti-symmetric)\n",
    "on the set of equivalence classes,\n",
    "$[x] \\leq [y]$ if $x \\leadsto\n",
    "y$."
   ]
  },
  {
   "cell_type": "markdown",
   "metadata": {},
   "source": [
    "### The Bow-Tie Structure of the WWW"
   ]
  },
  {
   "cell_type": "markdown",
   "metadata": {},
   "source": [
    "Like the giant component in a simple graph,\n",
    "a directed graph with sufficiently many edges\n",
    "has  a **giant SCC**.\n",
    "\n",
    "The remainder of the graph consists of four more sets of components of nodes.\n",
    "\n",
    "1. IN: upstream components, the set of all components\n",
    "$C$ with $C <$ SCC.\n",
    "\n",
    "2. OUT: downstream components,\n",
    "the set of all components $C$ with $C >$ SCC.\n",
    "\n",
    "3. tendrils: the set of all components $C$ with either $C >$ IN and $C \\not<$ OUT\n",
    "or $C <$ OUT and $C \\not>$ IN; <BR />\n",
    "and tubes: components $C$ with $C >$ IN, $C <$ OUT but $C \\not <$ SCC.\n",
    "\n",
    "4. disconnected components.\n",
    "\n",
    "Thus, in any directed graph with a distinguished SCC,\n",
    "the containing WCC\n",
    "necessarily has the following global bow-tie structure:\n",
    "\n"
   ]
  },
  {
   "cell_type": "markdown",
   "metadata": {},
   "source": [
    "![bow tie](images/bowtie.png)"
   ]
  },
  {
   "cell_type": "markdown",
   "metadata": {},
   "source": [
    "For example,\n",
    "![web](images/web.png)"
   ]
  },
  {
   "cell_type": "markdown",
   "metadata": {},
   "source": [
    "![](web.png)"
   ]
  },
  {
   "cell_type": "markdown",
   "metadata": {},
   "source": [
    "Research on available data on the Web in 1999 has confirmed this\n",
    "bow tie structure for the World Wide Web, with a large Giant SCC\n",
    "covering less than $\\frac13$ of the vertex set,\n",
    "and the\n",
    "three parts IN, OUT and the tendrils and tubes roughly of the same\n",
    "size.  One can assume that this proportion has not changed much over\n",
    "time, although the advent of social media\n",
    "has brought many new types of links and\n",
    "documents to the Web.\n"
   ]
  },
  {
   "cell_type": "markdown",
   "metadata": {},
   "source": [
    "## Computing Bow-Tie Components"
   ]
  },
  {
   "cell_type": "code",
   "execution_count": null,
   "metadata": {},
   "outputs": [],
   "source": [
    "import networkx as nx\n",
    "import matplotlib.pyplot as plt\n",
    "opts = { \"with_labels\" : True, \"node_color\" : 'y' }"
   ]
  },
  {
   "cell_type": "markdown",
   "metadata": {},
   "source": [
    "**Example.**  Let's start with a reasonably large random **directed graph**,\n",
    "using the Erd&ouml;s-R&eacute;nyi $G(n, m)$ model:"
   ]
  },
  {
   "cell_type": "code",
   "execution_count": null,
   "metadata": {},
   "outputs": [],
   "source": [
    "n, m = 100, 120\n",
    "G = nx.gnm_random_graph(n, m, directed=True)"
   ]
  },
  {
   "cell_type": "markdown",
   "metadata": {},
   "source": [
    "### Weakly Connected Components"
   ]
  },
  {
   "cell_type": "markdown",
   "metadata": {},
   "source": [
    "The weakly connected components of a directed graph $G$ can be determined by BFS, as before,\n",
    "counting as \"neighbors\" of a node $x$ **both** its \"successors\" and it predecessors in the graph.\n",
    "\n",
    "A single component, the weakly connected component of node $x$, is found as follows."
   ]
  },
  {
   "cell_type": "code",
   "execution_count": null,
   "metadata": {},
   "outputs": [],
   "source": [
    "def weak_component(G, x):\n",
    "    nodes = {x}\n",
    "    queue = [x]\n",
    "    for y in queue:\n",
    "        G.nodes[y][\"seen\"] = True\n",
    "        for z in set(G.successors(y)) | set(G.predecessors(y)):\n",
    "            if z not in nodes:\n",
    "                nodes.add(z)\n",
    "                queue.append(z)\n",
    "    return nodes"
   ]
  },
  {
   "cell_type": "markdown",
   "metadata": {},
   "source": [
    "The list of all weakly connected components is computed by a loop over all the  nodes of `G`,\n",
    "collecting the components of \"unseen\" nodes in a list.\n",
    "The final result is sorted by length, descendingly, before it is returned."
   ]
  },
  {
   "cell_type": "code",
   "execution_count": null,
   "metadata": {},
   "outputs": [],
   "source": [
    "def weak_components(G):\n",
    "    \n",
    "    # initialize\n",
    "    wccs = []\n",
    "    \n",
    "    # find each node's wcc\n",
    "    for x in G:\n",
    "        if not G.nodes[x].get(\"seen\"):\n",
    "            wccs.append(weak_component(G, x))\n",
    "            \n",
    "    # clean up after yourself\n",
    "    for x in G:\n",
    "        del G.nodes[x][\"seen\"]\n",
    "        \n",
    "    # return sorted list of wccs\n",
    "    return sorted(wccs, key=len, reverse=True)"
   ]
  },
  {
   "cell_type": "code",
   "execution_count": null,
   "metadata": {},
   "outputs": [],
   "source": [
    "wccs = weak_components(G)\n",
    "len(wccs)"
   ]
  },
  {
   "cell_type": "code",
   "execution_count": null,
   "metadata": {},
   "outputs": [],
   "source": [
    "[len(c) for c in wccs]"
   ]
  },
  {
   "cell_type": "markdown",
   "metadata": {},
   "source": [
    "### Strongly Connected Components"
   ]
  },
  {
   "cell_type": "markdown",
   "metadata": {},
   "source": [
    "**Strongly** connected components are efficiently found by DFS.\n",
    "[Tarjan's Algorithm](https://en.wikipedia.org/wiki/Tarjan%27s_strongly_connected_components_algorithm) cleverly\n",
    "uses recursion and an additional stack for this.\n",
    "\n",
    "The following function finds strongly connected components in a recursive fashion. "
   ]
  },
  {
   "cell_type": "code",
   "execution_count": null,
   "metadata": {},
   "outputs": [],
   "source": [
    "def connect(G, stack, sccs, idx, x):\n",
    "    G.nodes[x][\"low\"] = G.nodes[x][\"idx\"] = idx\n",
    "    idx += 1\n",
    "    stack.append(x)\n",
    "    G.nodes[x][\"stacked\"] = True\n",
    "    for y in G[x]:\n",
    "        if \"idx\" not in  G.nodes[y]:\n",
    "            idx = connect(G, stack, sccs, idx, y)\n",
    "            G.nodes[x][\"low\"] = min(G.nodes[x][\"low\"], G.nodes[y][\"low\"])\n",
    "        elif G.nodes[y][\"stacked\"]:\n",
    "            G.nodes[x][\"low\"] = min(G.nodes[x][\"low\"], G.nodes[y][\"idx\"])\n",
    "                \n",
    "    if G.nodes[x][\"low\"] == G.nodes[x][\"idx\"]:\n",
    "        scc = []\n",
    "        while True:\n",
    "            y = stack.pop()\n",
    "            G.nodes[y][\"stacked\"] = False\n",
    "            scc.append(y)\n",
    "            if y == x:\n",
    "                break\n",
    "        sccs.append(scc)\n",
    "            \n",
    "    return idx\n"
   ]
  },
  {
   "cell_type": "markdown",
   "metadata": {},
   "source": [
    "Similar as in the case of the weakly connected components, the overall algorithm\n",
    "uses a loop over all the nodes of `G` to find all strongly connected components."
   ]
  },
  {
   "cell_type": "code",
   "execution_count": null,
   "metadata": {},
   "outputs": [],
   "source": [
    "def strong_components(G):\n",
    "    \n",
    "    # initialize\n",
    "    idx = 0\n",
    "    stack = []\n",
    "    sccs = []\n",
    "    \n",
    "    # find each node's scc\n",
    "    for x in G:\n",
    "        if \"idx\" not in G.nodes[x]:\n",
    "            idx = connect(G, stack, sccs, idx, x)\n",
    "\n",
    "    # clean up after yourself\n",
    "    for x in G:\n",
    "        del G.nodes[x][\"idx\"]\n",
    "        del G.nodes[x][\"low\"]\n",
    "        del G.nodes[x][\"stacked\"]\n",
    "    \n",
    "    # return sorted list of sccs\n",
    "    return sorted(sccs, key = len, reverse=True)"
   ]
  },
  {
   "cell_type": "code",
   "execution_count": null,
   "metadata": {},
   "outputs": [],
   "source": [
    "sccs = strong_components(G)\n",
    "[len(c) for c in sccs[:10]]"
   ]
  },
  {
   "cell_type": "markdown",
   "metadata": {},
   "source": [
    "As the resulting list of components is sorted by length, in descending order,\n",
    "`sccs[0]` is the **Giant SCC**."
   ]
  },
  {
   "cell_type": "markdown",
   "metadata": {},
   "source": [
    "### The OUT Components"
   ]
  },
  {
   "cell_type": "markdown",
   "metadata": {},
   "source": [
    "The components reachable from the Giant can be found by BFS applied to any\n",
    "vertex in the Giant. (Why?) So here is a node representating the Giant:"
   ]
  },
  {
   "cell_type": "code",
   "execution_count": null,
   "metadata": {},
   "outputs": [],
   "source": [
    "rep = min(sccs[0])\n",
    "rep"
   ]
  },
  {
   "cell_type": "markdown",
   "metadata": {},
   "source": [
    "This variant of BFS considers the `successors` of a node $x$ as its neighbors."
   ]
  },
  {
   "cell_type": "code",
   "execution_count": null,
   "metadata": {},
   "outputs": [],
   "source": [
    "def outreach(G, x):\n",
    "    \"\"\"find all nodes that can be reached \n",
    "    from node x in the directed graph G\"\"\"\n",
    "    nodes = {x}\n",
    "    queue = [x]\n",
    "    for y in queue:\n",
    "        for z in G.successors(y):\n",
    "            if z not in nodes:\n",
    "                nodes.add(z)\n",
    "                queue.append(z)\n",
    "    return nodes"
   ]
  },
  {
   "cell_type": "markdown",
   "metadata": {},
   "source": [
    "The resulting list of nodes consists of the Giant and the OUT components."
   ]
  },
  {
   "cell_type": "code",
   "execution_count": null,
   "metadata": {},
   "outputs": [],
   "source": [
    "out = outreach(G, rep)\n",
    "len(out)"
   ]
  },
  {
   "cell_type": "markdown",
   "metadata": {},
   "source": [
    "The components reachable from the Giant can be found by BFS applied to any\n",
    "vertex in the Giant, following the arrows in reverse. (Why?)\n",
    "\n",
    "This variant of BFS considers the `predecessors` of a node $x$ as its neighbors."
   ]
  },
  {
   "cell_type": "code",
   "execution_count": null,
   "metadata": {},
   "outputs": [],
   "source": [
    "def innreach(G, x):\n",
    "    \"\"\"find all nodes that can reach \n",
    "    node x in the directed graph G\"\"\"\n",
    "    nodes = {x}\n",
    "    queue = [x]\n",
    "    for y in queue:\n",
    "        for z in G.predecessors(y):\n",
    "            if z not in nodes:\n",
    "                nodes.add(z)\n",
    "                queue.append(z)\n",
    "    return nodes"
   ]
  },
  {
   "cell_type": "markdown",
   "metadata": {},
   "source": [
    "The resulting list of nodes consists of the Giant and the IN components."
   ]
  },
  {
   "cell_type": "code",
   "execution_count": null,
   "metadata": {},
   "outputs": [],
   "source": [
    "inn = innreach(G, rep)\n",
    "len(inn)"
   ]
  },
  {
   "cell_type": "markdown",
   "metadata": {},
   "source": [
    "The Giant is the intersection of `inn` and `out`. (Why?)"
   ]
  },
  {
   "cell_type": "code",
   "execution_count": null,
   "metadata": {},
   "outputs": [],
   "source": [
    "giant = inn & out"
   ]
  },
  {
   "cell_type": "markdown",
   "metadata": {},
   "source": [
    "Let's call the union of `inn` and `out` the **core** of the graph `G`."
   ]
  },
  {
   "cell_type": "code",
   "execution_count": null,
   "metadata": {},
   "outputs": [],
   "source": [
    "core = inn | out\n",
    "len(core)"
   ]
  },
  {
   "cell_type": "markdown",
   "metadata": {},
   "source": [
    "And let's remove the Giant from `inn` and `out`:"
   ]
  },
  {
   "cell_type": "code",
   "execution_count": null,
   "metadata": {},
   "outputs": [],
   "source": [
    "inn1 = inn - out\n",
    "out1 = out - inn\n",
    "len(giant), len(inn1), len(out1)"
   ]
  },
  {
   "cell_type": "markdown",
   "metadata": {},
   "source": [
    "###  Tubes and Tendrils"
   ]
  },
  {
   "cell_type": "markdown",
   "metadata": {},
   "source": [
    "Tubes and tendrils can be found by BFS, after reversing all arrows\n",
    "that have both their endpoints in `core`.  (Why?)\n",
    "\n",
    "So, let's make a copy of `G` and modify it accordingly."
   ]
  },
  {
   "cell_type": "code",
   "execution_count": null,
   "metadata": {},
   "outputs": [],
   "source": [
    "H = G.copy()\n",
    "flip = [e for e in H.edges if set(e).issubset(core)]\n",
    "len(flip)"
   ]
  },
  {
   "cell_type": "code",
   "execution_count": null,
   "metadata": {},
   "outputs": [],
   "source": [
    "for e in flip:\n",
    "    H.remove_edge(*e)\n",
    "    H.add_edge(e[1], e[0])"
   ]
  },
  {
   "cell_type": "markdown",
   "metadata": {},
   "source": [
    "Now `outreach` applied to the node `rep` in the new graph `H` finds\n",
    "a set of nodes `out2` outside the core.  Similarly, `innreach` finds\n",
    "a set of nodes `inn2` outside the core.\n",
    "\n",
    "The intersection of `inn2` and `out2` is the set of nodes in tubes. (Why?)\n",
    "Removing the tube nodes from both `inn2` and `out2` leaves two sets\n",
    "of nodes in tendrils."
   ]
  },
  {
   "cell_type": "code",
   "execution_count": null,
   "metadata": {},
   "outputs": [],
   "source": [
    "out2 = outreach(H, rep) - core\n",
    "inn2 = innreach(H, rep) - core\n",
    "tube2 = inn2 & out2\n",
    "core2 = inn2 | out2\n",
    "inn2 = inn2 - tube2\n",
    "out2 = out2 - tube2\n",
    "len(tube2), len(inn2), len(out2), len(core2)"
   ]
  },
  {
   "cell_type": "markdown",
   "metadata": {},
   "source": [
    "If `tube2` now is the empty set this example is not very interesting.  Go back and start over. (If necessary, change the values of `n` and `m`.)"
   ]
  },
  {
   "cell_type": "code",
   "execution_count": null,
   "metadata": {},
   "outputs": [],
   "source": [
    "tube2"
   ]
  },
  {
   "cell_type": "markdown",
   "metadata": {},
   "source": [
    "###  Drawing the Bow-Tie"
   ]
  },
  {
   "cell_type": "markdown",
   "metadata": {},
   "source": [
    "The subgraph of `G` consisting of the core, the tubes and the tendrils can be\n",
    "drawn in a way the exhibits the bow-tie structure, by using different colors\n",
    "and different regions in the diagram for the different kinds of components.\n",
    "\n",
    "First we define this subgraph."
   ]
  },
  {
   "cell_type": "code",
   "execution_count": null,
   "metadata": {},
   "outputs": [],
   "source": [
    "S = nx.subgraph(G, core | core2)"
   ]
  },
  {
   "cell_type": "markdown",
   "metadata": {},
   "source": [
    "Next we compute positions for the different groups of\n",
    "nodes individually, and horizontally \n",
    "shift these groups into non-overlapping\n",
    "regions."
   ]
  },
  {
   "cell_type": "code",
   "execution_count": null,
   "metadata": {},
   "outputs": [],
   "source": [
    "pos = nx.spring_layout(nx.subgraph(G, giant))\n",
    "pos_inn1 = nx.spring_layout(nx.subgraph(G, inn1))\n",
    "for v in pos_inn1.values():\n",
    "    v[0] = 2/3 * v[0] - 2\n",
    "pos_inn2 = nx.spring_layout(nx.subgraph(G, inn2))\n",
    "for v in pos_inn2.values():\n",
    "    v[0] = 2/3 * v[0] + 4\n",
    "pos_out1 = nx.spring_layout(nx.subgraph(G, out1))\n",
    "for v in pos_out1.values():\n",
    "    v[0] = 2/3 * v[0] + 2\n",
    "pos_out2 = nx.spring_layout(nx.subgraph(G, out2))\n",
    "for v in pos_out2.values():\n",
    "    v[0] = 2/3 * v[0] - 4\n",
    "pos_tube = nx.spring_layout(nx.subgraph(G, tube2))\n",
    "for v in pos_tube.values():\n",
    "    #v[0] *= 2\n",
    "    v[1] = v[1]/10 - 1\n",
    "pos.update({ **pos_inn1, **pos_inn2, **pos_out1, **pos_out2, **pos_tube })"
   ]
  },
  {
   "cell_type": "markdown",
   "metadata": {},
   "source": [
    "Finally, using the precalculated positions, the different\n",
    "groups of nodes, and (certain) edges between them are\n",
    "drawn individually, with different colors to tell them\n",
    "apart."
   ]
  },
  {
   "cell_type": "code",
   "execution_count": null,
   "metadata": {},
   "outputs": [],
   "source": [
    "plt.figure(figsize=(20,5))\n",
    "nx.draw_networkx_nodes(S, pos, nodelist=giant, node_color='r', alpha=0.4)\n",
    "nx.draw_networkx_nodes(S, pos, nodelist=inn1, node_color='y', alpha=0.4)\n",
    "nx.draw_networkx_nodes(S, pos, nodelist=out1, node_color='m', alpha=0.4)\n",
    "nx.draw_networkx_nodes(S, pos, nodelist=core2, node_color='b', alpha=0.2)\n",
    "edges = [e for e in S.edges if set(e) <= giant]\n",
    "nx.draw_networkx_edges(S, pos, edgelist=edges, edge_color = 'r')\n",
    "edges = [e for e in S.edges if set(e) <= out1]\n",
    "nx.draw_networkx_edges(S, pos, edgelist=edges, edge_color = 'm')\n",
    "edges = [e for e in S.edges if e[0] in giant and e[1] in out1]\n",
    "nx.draw_networkx_edges(S, pos, edgelist=edges, edge_color = 'm')\n",
    "edges = [e for e in S.edges if set(e) <= inn1]\n",
    "nx.draw_networkx_edges(S, pos, edgelist=edges, edge_color = 'y')\n",
    "edges = [e for e in S.edges if e[0] in inn1 and e[1] in giant]\n",
    "nx.draw_networkx_edges(S, pos, edgelist=edges, edge_color = 'y')\n",
    "edges = [e for e in S.edges if e[0] in inn1 and e[1] in out1]\n",
    "#nx.draw_networkx_edges(S, pos, edgelist=edges, edge_color = 'k')\n",
    "edges = [e for e in S.edges if set(e).issubset(tube2)\n",
    "        or set(e).issubset(inn2) or set(e).issubset(out2)]\n",
    "edges += [e for e in S.edges if e[0] in inn1 and e[1] in tube2]\n",
    "edges += [e for e in S.edges if e[0] in tube2 and e[1] in out1]\n",
    "edges += [e for e in S.edges if e[0] in inn2 and e[1] in out1]\n",
    "edges += [e for e in S.edges if e[0] in inn1 and e[1] in out2]\n",
    "nx.draw_networkx_edges(S, pos, edgelist=edges, edge_color = 'b', alpha=0.5)\n",
    "nx.draw_networkx_labels(S, pos);"
   ]
  },
  {
   "cell_type": "code",
   "execution_count": null,
   "metadata": {},
   "outputs": [],
   "source": [
    "print(giant"
   ]
  },
  {
   "cell_type": "code",
   "execution_count": null,
   "metadata": {},
   "outputs": [],
   "source": []
  },
  {
   "cell_type": "markdown",
   "metadata": {},
   "source": [
    "## Code Corner"
   ]
  },
  {
   "cell_type": "markdown",
   "metadata": {},
   "source": [
    "### `python`\n",
    "\n",
    "* `setX & setY`, `setX | setY`, `setX - setY`: [[doc]](https://docs.python.org/2/library/stdtypes.html#set) set operations, intersection, union, difference\n",
    "\n",
    "\n",
    "* `x in setY`, `x not in setY`: set membership\n",
    "\n",
    "\n",
    "* `setX.issubset(setY)`, `setX <= setY`, `setX < setY`: subset relationship"
   ]
  },
  {
   "cell_type": "markdown",
   "metadata": {},
   "source": [
    "### `networkx`\n",
    "\n",
    "* `draw_networkx_nodes`: [[doc]](https://networkx.github.io/documentation/stable/reference/generated/networkx.drawing.nx_pylab.draw_networkx_nodes.html)\n",
    "\n",
    "\n",
    "* `draw_networkx_edges`: [[doc]](https://networkx.github.io/documentation/stable/reference/generated/networkx.drawing.nx_pylab.draw_networkx_edges.html)\n",
    "\n",
    "\n",
    "* `draw_networkx_labels`: [[doc]](https://networkx.github.io/documentation/stable/reference/generated/networkx.drawing.nx_pylab.draw_networkx_labels.html)"
   ]
  },
  {
   "cell_type": "markdown",
   "metadata": {},
   "source": [
    "## Exercises"
   ]
  },
  {
   "cell_type": "markdown",
   "metadata": {},
   "source": [
    "1. Use the `\"idx\"` information as collected by Tarjan's algorithm\n",
    "for the horizontal positioning of the nodes when drawing a graph.\n",
    "\n",
    "2. Explain why this might be useful.\n",
    "\n",
    "3. Read the paper by [Timár et al.](https://arxiv.org/abs/1607.00691) on how the simple bow-tie structure\n",
    "discussed here can be iterated.\n",
    "\n",
    "4. Implement the algorithms from the paper in (3.) to compute such an iterated bow-tie decomposition \n",
    "of a directed network."
   ]
  },
  {
   "cell_type": "code",
   "execution_count": null,
   "metadata": {},
   "outputs": [],
   "source": []
  }
 ],
 "metadata": {
  "kernelspec": {
   "display_name": "Python 3",
   "language": "python",
   "name": "python3"
  },
  "language_info": {
   "codemirror_mode": {
    "name": "ipython",
    "version": 3
   },
   "file_extension": ".py",
   "mimetype": "text/x-python",
   "name": "python",
   "nbconvert_exporter": "python",
   "pygments_lexer": "ipython3",
   "version": "3.7.6"
  }
 },
 "nbformat": 4,
 "nbformat_minor": 2
}

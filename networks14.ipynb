{
 "cells": [
  {
   "cell_type": "markdown",
   "metadata": {},
   "source": [
    "### CS4423 - Networks\n",
    "Prof. Götz Pfeiffer<br />\n",
    "School of Mathematics, Statistics and Applied Mathematics<br />\n",
    "NUI Galway"
   ]
  },
  {
   "cell_type": "markdown",
   "metadata": {},
   "source": [
    "#### 4. Small Worlds\n",
    "\n",
    "# Lecture 14: Characteristic Path Length and Clustering Coefficient"
   ]
  },
  {
   "cell_type": "markdown",
   "metadata": {},
   "source": [
    "Many real world networks are **small world networks**,\n",
    "where most pairs of nodes are only a few steps away from each other.\n",
    "\n",
    "More precisely, a network is a small world network if it has \n",
    "\n",
    "1. a small **average shortest path length**\n",
    "(scaling with $\\log n$, where $n$ is the number of nodes), and\n",
    "2. a high **clustering coefficient**.\n",
    "\n",
    "Random networks do have a small average shortest path length,\n",
    "but not a high clustering coefficient.\n",
    "This observation justifies the need for a different model of\n",
    "random networks, if they are to be used to model the \n",
    "clustering behavior of real world networks."
   ]
  },
  {
   "cell_type": "code",
   "execution_count": null,
   "metadata": {},
   "outputs": [],
   "source": [
    "import networkx as nx\n",
    "opts = { \"with_labels\" : True, \"node_color\": 'y' }"
   ]
  },
  {
   "cell_type": "markdown",
   "metadata": {},
   "source": [
    "## Characteristic Path Length"
   ]
  },
  {
   "cell_type": "markdown",
   "metadata": {},
   "source": [
    "Let $\\mathcal{D} = (d_{ij})$ be the **distance matrix** of a connected graph $G = (X, E)$,\n",
    "whose entry $d_{ij}$ is the length of the shortest path from node $i \\in X$ to node $j \\in X$.  (Hence $d_{ii} = 0$ for all $i$.)"
   ]
  },
  {
   "cell_type": "markdown",
   "metadata": {},
   "source": [
    "<div class=\"alert alert-warning\">\n",
    "\n",
    "**Definition.**  Let $G = (X, E)$ be a connected graph.\n",
    "\n",
    "* The **eccentricity** $e_i$ of a node $i \\in X$ is the maximum distance between $i$\n",
    "and any other vertex in $G$,\n",
    "$$\n",
    "e_i = \\max_j d_{ij}.\n",
    "$$\n",
    "\n",
    "* The **graph radius** $R$ is the minimum eccentricity,\n",
    "$$\n",
    "R = \\min_i e_i.\n",
    "$$\n",
    "\n",
    "* The **graph diameter** $D$ is the maximum eccentricity,\n",
    "$$\n",
    "D = \\max_i e_i.\n",
    "$$\n",
    "\n",
    "* The **characteristic path length** $L$ of $G$ is the average distance between pairs of distinct nodes,\n",
    "$$\n",
    "L = \\frac1{n(n-1)} \\sum_{i \\neq j} d_{ij}.\n",
    "$$\n",
    "</div>"
   ]
  },
  {
   "cell_type": "markdown",
   "metadata": {},
   "source": [
    "* **Fact:** The characteristic path length of a random graph $G(n, m)$, or $G(n, p)$ is\n",
    "$$\n",
    "L = \\frac{\\ln n}{\\ln \\langle k \\rangle}.\n",
    "$$"
   ]
  },
  {
   "cell_type": "markdown",
   "metadata": {},
   "source": [
    "Let's find a small connected graph. (Loop until it's connected ...)"
   ]
  },
  {
   "cell_type": "code",
   "execution_count": null,
   "metadata": {},
   "outputs": [],
   "source": [
    "n, m = 16, 32\n",
    "while True:\n",
    "    G = nx.gnm_random_graph(n, m)\n",
    "    if nx.is_connected(G):\n",
    "        break\n",
    "nx.draw(G, **opts)"
   ]
  },
  {
   "cell_type": "markdown",
   "metadata": {},
   "source": [
    "Compute **all** shortest path lengths."
   ]
  },
  {
   "cell_type": "code",
   "execution_count": null,
   "metadata": {},
   "outputs": [],
   "source": [
    "dist = dict(nx.shortest_path_length(G))\n",
    "dist = [[dist[i][j] for j in range(n)] for i in range(n)]\n",
    "dist"
   ]
  },
  {
   "cell_type": "code",
   "execution_count": null,
   "metadata": {},
   "outputs": [],
   "source": [
    "eccentricity = [max(d) for d in dist]\n",
    "eccentricity"
   ]
  },
  {
   "cell_type": "code",
   "execution_count": null,
   "metadata": {},
   "outputs": [],
   "source": [
    "nx.eccentricity(G).values()"
   ]
  },
  {
   "cell_type": "code",
   "execution_count": null,
   "metadata": {},
   "outputs": [],
   "source": [
    "radius = min(eccentricity)\n",
    "diameter = max(eccentricity)\n",
    "radius, diameter"
   ]
  },
  {
   "cell_type": "code",
   "execution_count": null,
   "metadata": {},
   "outputs": [],
   "source": [
    "cpl = sum([sum(d) for d in dist]) / n / (n - 1)\n",
    "cpl"
   ]
  },
  {
   "cell_type": "code",
   "execution_count": null,
   "metadata": {},
   "outputs": [],
   "source": [
    "nx.average_shortest_path_length(G)"
   ]
  },
  {
   "cell_type": "code",
   "execution_count": null,
   "metadata": {},
   "outputs": [],
   "source": [
    "from math import log\n",
    "kavg = sum(dict(G.degree()).values()) / n\n",
    "log(n) / log(kavg)"
   ]
  },
  {
   "cell_type": "code",
   "execution_count": null,
   "metadata": {},
   "outputs": [],
   "source": [
    "kavg"
   ]
  },
  {
   "cell_type": "markdown",
   "metadata": {},
   "source": [
    "<div class=\"alert alert-warning\">\n",
    "\n",
    "**Definition (Small-world behaviour).**\n",
    "A network $G = (X, E)$ is said to exhibit a **small world behaviour** if \n",
    "its characteristic path length $L$ grows proportionally to the\n",
    "logarithm of the number $n$ of nodes of $G$:\n",
    "$$\n",
    "L \\sim \\ln n.\n",
    "$$\n",
    "</div>"
   ]
  },
  {
   "cell_type": "markdown",
   "metadata": {},
   "source": [
    "In this sense, the ensembles $G(n, m)$ and $G(n, p)$ of random graphs do exhibit small\n",
    "world behavior (as $n \\to \\infty$)."
   ]
  },
  {
   "cell_type": "markdown",
   "metadata": {},
   "source": [
    "## Clustering"
   ]
  },
  {
   "cell_type": "markdown",
   "metadata": {},
   "source": [
    "Small world networks contain many triangles:  it is not uncommon that a friend of one of my friends is my friend, too.\n",
    "This **degree of transitivity** can be measured in several different ways."
   ]
  },
  {
   "cell_type": "markdown",
   "metadata": {},
   "source": [
    "<div class=\"alert alert-warning\">\n",
    "\n",
    "**Definition (Graph transitivity).**\n",
    "A **triad** is a tree of $3$ nodes or, equivalently, a graph consisting of $2$\n",
    "adjacent edges (and the nodes they connect).  The transitivity $T$ of a graph $G = (X, E)$\n",
    "is the proportion of **transitive** triads, i.e., triads which are subgraphs of **triangles**:\n",
    "$$\n",
    "T = \\frac{3 n_{\\Delta}}{n_{\\wedge}},\n",
    "$$\n",
    "where $n_{\\Delta}$ is the number of triangles in $G$, and $n_{\\wedge}$ is the number of triads.\n",
    "</div>"
   ]
  },
  {
   "cell_type": "markdown",
   "metadata": {},
   "source": [
    "By definition, $0 \\leq T \\leq 1$."
   ]
  },
  {
   "cell_type": "markdown",
   "metadata": {},
   "source": [
    "**Example.**"
   ]
  },
  {
   "cell_type": "code",
   "execution_count": null,
   "metadata": {},
   "outputs": [],
   "source": [
    "G = nx.Graph(((1,2), (2,3), (3,1), (3,4), (3,5)))\n",
    "nx.draw(G, **opts)"
   ]
  },
  {
   "cell_type": "markdown",
   "metadata": {},
   "source": [
    "The function `nx.triangles(G)` returns a `python` dictionary reporting for each node\n",
    "of the graph `G` the number of triangles it is contained in."
   ]
  },
  {
   "cell_type": "code",
   "execution_count": null,
   "metadata": {},
   "outputs": [],
   "source": [
    "print(nx.triangles(G))"
   ]
  },
  {
   "cell_type": "markdown",
   "metadata": {},
   "source": [
    "Overall, each triangle in `G` is thus accounted for $3$ times, once for each of its\n",
    "vertices.  The following sum determines this number $3 n_{\\Delta}$."
   ]
  },
  {
   "cell_type": "code",
   "execution_count": null,
   "metadata": {},
   "outputs": [],
   "source": [
    "triple_nr_triangles = sum(nx.triangles(G).values())\n",
    "print(triple_nr_triangles)"
   ]
  },
  {
   "cell_type": "markdown",
   "metadata": {},
   "source": [
    "The number $n_{\\wedge}$ of triads in `G` can be determined from the graph's degree\n",
    "sequence, as each node of degree $k$ is the central node of exactly\n",
    "$\\binom{k}{2}$ triads.  (Why?)"
   ]
  },
  {
   "cell_type": "code",
   "execution_count": null,
   "metadata": {},
   "outputs": [],
   "source": [
    "print(G.degree())\n",
    "print({k : v * (v-1) // 2 for k, v in dict(G.degree()).items()})\n",
    "nr_triads = sum([v * (v-1) // 2 for v in dict(G.degree()).values()])\n",
    "nr_triads"
   ]
  },
  {
   "cell_type": "markdown",
   "metadata": {},
   "source": [
    "The transitivity $T$ of `G` is the quotient of these two quantities, $T = 3 n_{\\Delta}/n_{\\wedge}$. "
   ]
  },
  {
   "cell_type": "code",
   "execution_count": null,
   "metadata": {},
   "outputs": [],
   "source": [
    "print(triple_nr_triangles / nr_triads )\n",
    "print(nx.transitivity(G))"
   ]
  },
  {
   "cell_type": "markdown",
   "metadata": {},
   "source": [
    "* The transitivity of a $G(n, p)$ **random graph** is\n",
    "$$\n",
    "T = p.\n",
    "$$\n",
    "(Compute $3 n_{\\Delta}/n_{\\wedge}$ using the explicit formulas\n",
    "from the previous lecture.)"
   ]
  },
  {
   "cell_type": "markdown",
   "metadata": {},
   "source": [
    "The concept of **clustering** measures the transitivity of a node, or of an entire graph in a different way."
   ]
  },
  {
   "cell_type": "markdown",
   "metadata": {},
   "source": [
    "<div class=\"alert alert-warning\">\n",
    "\n",
    "**Definition (Clustering coefficient).**\n",
    "For a node $i \\in X$ of a graph $G = (X, E)$, denote by\n",
    "$G_i$ the subgraph induced on the neighbours of $i$ in $G$,\n",
    "and by $m(G_i)$ its number of edges.\n",
    "\n",
    "The **node clustering coefficient** $c_i$ of node $i$ is defined\n",
    "as\n",
    "$$\n",
    "c_i = \\begin{cases}\n",
    "\\binom{k_i}{2}^{-1} m(G_i), & k_i \\geq 2, \\\\\n",
    "0, & \\text{else.}\n",
    "\\end{cases}\n",
    "$$\n",
    "\n",
    "The **graph clustering coefficient** $C$ of $G$ is the \n",
    "average node clustering coefficient,\n",
    "$$\n",
    "C = \\langle c\\rangle = \\frac1n \\sum_{i=1}^n c_i.\n",
    "$$\n",
    "</div>"
   ]
  },
  {
   "cell_type": "markdown",
   "metadata": {},
   "source": [
    "By definition, $0 \\leq c_i \\leq 1$ for all nodes $i \\in X$, and $0 \\leq C \\leq 1$."
   ]
  },
  {
   "cell_type": "markdown",
   "metadata": {},
   "source": [
    "**Example.**"
   ]
  },
  {
   "cell_type": "code",
   "execution_count": null,
   "metadata": {},
   "outputs": [],
   "source": [
    "G = nx.Graph([(0,1), (0,2), (0,3), (0,4), (1,2), (1,3), (2,3), (3,4)])\n",
    "nx.draw(G, **opts)"
   ]
  },
  {
   "cell_type": "code",
   "execution_count": null,
   "metadata": {},
   "outputs": [],
   "source": [
    "N = nx.neighbors(G, 0)\n",
    "S = G.subgraph(list(N))\n",
    "nx.draw(S, **opts)"
   ]
  },
  {
   "cell_type": "code",
   "execution_count": null,
   "metadata": {},
   "outputs": [],
   "source": [
    "nS = S.number_of_nodes()\n",
    "nS_choose_2 = nS * (nS - 1) // 2\n",
    "mS = S.number_of_edges()\n",
    "print(nS, mS, mS / nS_choose_2 )"
   ]
  },
  {
   "cell_type": "code",
   "execution_count": null,
   "metadata": {},
   "outputs": [],
   "source": [
    "nx.clustering(G)"
   ]
  },
  {
   "cell_type": "code",
   "execution_count": null,
   "metadata": {},
   "outputs": [],
   "source": [
    "nx.average_clustering(G)"
   ]
  },
  {
   "cell_type": "markdown",
   "metadata": {},
   "source": [
    "* The clustering coefficient of a $G(n, p)$ **random graph** is\n",
    "$$\n",
    "C = p.\n",
    "$$\n",
    "Note that when $p(n) = \\langle k \\rangle / n$ for a fixed expected average degree $\\langle k \\rangle$\n",
    "then $C = \\langle k \\rangle / n \\to 0$ for $n \\to \\infty$: in large random graphs\n",
    "the number of triangles is negligible.\n",
    "\n",
    "* In real world networks, one often observes that $C / \\langle k \\rangle$ does not depend\n",
    "on $n$ (as $n \\to \\infty$)"
   ]
  },
  {
   "cell_type": "markdown",
   "metadata": {},
   "source": [
    "##  Code Corner"
   ]
  },
  {
   "cell_type": "markdown",
   "metadata": {},
   "source": [
    "### `networkx`"
   ]
  },
  {
   "cell_type": "markdown",
   "metadata": {},
   "source": [
    "* `eccentricity`: [[doc]](https://networkx.github.io/documentation/stable/reference/algorithms/generated/networkx.algorithms.distance_measures.eccentricity.html)\n",
    "\n",
    "\n",
    "* `triangles`: [[doc]](https://networkx.github.io/documentation/networkx-2.2/reference/algorithms/generated/networkx.algorithms.cluster.triangles.html)\n",
    "\n",
    "\n",
    "* `transitivity`: [[doc]](https://networkx.github.io/documentation/stable/reference/algorithms/generated/networkx.algorithms.cluster.transitivity.html)\n",
    "\n",
    "\n",
    "* `clustering`: [[doc]](https://networkx.github.io/documentation/networkx-2.2/reference/algorithms/generated/networkx.algorithms.cluster.clustering.html)\n",
    "\n",
    "\n",
    "* `average_clustering`: [[doc]](https://networkx.github.io/documentation/networkx-2.2/reference/algorithms/generated/networkx.algorithms.cluster.average_clustering.html)"
   ]
  },
  {
   "cell_type": "markdown",
   "metadata": {},
   "source": [
    "##  Exercises"
   ]
  },
  {
   "cell_type": "markdown",
   "metadata": {},
   "source": [
    "1. Design an experiment with random graphs to verify the predicted characteristic path length.\n",
    "\n",
    "1. Design an experiment with random graphs to verify the predicted graph clustering coefficient.\n",
    "\n",
    "2. What is the transitivity and what is the clustering coefficient\n",
    "of a complete graph on $n$ nodes?\n",
    "\n",
    "3. What is the transitivity and what is the clustering coefficient\n",
    "of a tree on $n$ nodes?"
   ]
  },
  {
   "cell_type": "code",
   "execution_count": null,
   "metadata": {},
   "outputs": [],
   "source": []
  }
 ],
 "metadata": {
  "kernelspec": {
   "display_name": "Python 3",
   "language": "python",
   "name": "python3"
  },
  "language_info": {
   "codemirror_mode": {
    "name": "ipython",
    "version": 3
   },
   "file_extension": ".py",
   "mimetype": "text/x-python",
   "name": "python",
   "nbconvert_exporter": "python",
   "pygments_lexer": "ipython3",
   "version": "3.7.6"
  }
 },
 "nbformat": 4,
 "nbformat_minor": 2
}

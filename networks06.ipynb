{
 "cells": [
  {
   "cell_type": "markdown",
   "metadata": {},
   "source": [
    "### CS4423 - Networks\n",
    "Prof. Götz Pfeiffer<br />\n",
    "School of Mathematics, Statistics and Applied Mathematics<br />\n",
    "NUI Galway"
   ]
  },
  {
   "cell_type": "markdown",
   "metadata": {},
   "source": [
    "#### 2. Tree and Graph Traversal\n",
    "\n",
    "# Lecture 6: Shortest Paths? Breadth First Search!"
   ]
  },
  {
   "cell_type": "markdown",
   "metadata": {},
   "source": [
    "Many questions on networks concerning distance and connectivity can\n",
    "be answered by a versatile strategy called **Breadth First Search (BFS)**\n",
    "which effectively grows a **spanning tree** of the underlying graph."
   ]
  },
  {
   "cell_type": "markdown",
   "metadata": {},
   "source": [
    "Both [DFS](https://en.wikipedia.org/wiki/Depth-first_search)\n",
    "and [BFS](https://en.wikipedia.org/wiki/Breadth-first_search)\n",
    "are simple but efficient tree (and graph) traversal algorithms."
   ]
  },
  {
   "cell_type": "markdown",
   "metadata": {},
   "source": [
    "![BFS and DFS](images/bfsdfs.png)"
   ]
  },
  {
   "cell_type": "code",
   "execution_count": null,
   "metadata": {},
   "outputs": [],
   "source": [
    "import networkx as nx\n",
    "opts = { \"with_labels\": True, \"node_color\": 'y' }"
   ]
  },
  {
   "cell_type": "markdown",
   "metadata": {},
   "source": [
    "## Graph Traversal"
   ]
  },
  {
   "cell_type": "code",
   "execution_count": null,
   "metadata": {},
   "outputs": [],
   "source": [
    "n = 10\n",
    "T = nx.random_tree(n)\n",
    "nx.draw(T, **opts)"
   ]
  },
  {
   "cell_type": "markdown",
   "metadata": {},
   "source": [
    "### Alternative Implementations\n",
    "\n",
    "Both DFS and BFS are more like strategies, rather than specific algorithms.\n",
    "Different problems might require different implementations.\n",
    "Sometimes, the stack, or the queue don't have to be made explicit:\n",
    "\n",
    "* In a recursive implementation, DFS can make use of the (`python`) interpreter's\n",
    "  **function call stack**.\n",
    "  \n",
    "* BFS can take advantage of the fact that some types of lists in a (`python`) `for` loop\n",
    "  are largely organized as **queues**.\n"
   ]
  },
  {
   "cell_type": "markdown",
   "metadata": {},
   "source": [
    "NEW: in order to keep track of which nodes have already been visited, we maintain for each node\n",
    "an attribute `\"seen\"` that is initially `False`, and becomes `True` when the DFS/BFS visits the node.\n",
    "\n",
    "In `networkx`, the attributes of a node `x` in a graph `G` are kept in a dictionary `G.nodes[x]`."
   ]
  },
  {
   "cell_type": "code",
   "execution_count": null,
   "metadata": {},
   "outputs": [],
   "source": [
    "TT = T.copy()\n",
    "for x in TT:\n",
    "    TT.nodes[x]['seen'] = False"
   ]
  },
  {
   "cell_type": "markdown",
   "metadata": {},
   "source": [
    "* DFS on a tree:"
   ]
  },
  {
   "cell_type": "code",
   "execution_count": null,
   "metadata": {},
   "outputs": [],
   "source": [
    "def dfs(tree, x):\n",
    "    print(x, end=', ')\n",
    "    tree.nodes[x]['seen'] = True\n",
    "    for z in tree[x]:\n",
    "        if not tree.nodes[z]['seen']:\n",
    "            dfs(tree, z)    "
   ]
  },
  {
   "cell_type": "code",
   "execution_count": null,
   "metadata": {},
   "outputs": [],
   "source": [
    "dfs(TT, 3)"
   ]
  },
  {
   "cell_type": "markdown",
   "metadata": {},
   "source": [
    "* BFS on a tree:"
   ]
  },
  {
   "cell_type": "code",
   "execution_count": null,
   "metadata": {},
   "outputs": [],
   "source": [
    "TT = T.copy()\n",
    "for x in TT:\n",
    "    TT.nodes[x]['seen'] = False"
   ]
  },
  {
   "cell_type": "code",
   "execution_count": null,
   "metadata": {},
   "outputs": [],
   "source": [
    "Q = [3]\n",
    "TT.nodes[3]['seen'] = True\n",
    "for y in Q:\n",
    "    print(y, end=', ')\n",
    "    for z in TT[y]:\n",
    "        if not TT.nodes[z]['seen']:\n",
    "            Q.append(z)\n",
    "            TT.nodes[z]['seen'] = True"
   ]
  },
  {
   "cell_type": "code",
   "execution_count": null,
   "metadata": {},
   "outputs": [],
   "source": [
    "nx.draw(T, **opts)"
   ]
  },
  {
   "cell_type": "markdown",
   "metadata": {},
   "source": [
    "## Shortest Paths\n",
    "\n",
    "* Recall that a __path__ in a network $G = (X, E)$\n",
    "is a sequence $p = (x_0, x_1, \\dots, x_k)$ of\n",
    "nodes $x_i \\in X$, $i = 0, \\dots, k$, such that any\n",
    "pair of consecutive nodes forms an edge in $G$, i.e.,\n",
    "$\\{x_{i-1}, x_i\\} \\in E$ for all $i = 1, \\dots, k$.\n",
    "\n",
    "* The __length__ $l(p)$ of the path $p$ is the\n",
    "number of edges, $l(p) = k$."
   ]
  },
  {
   "cell_type": "markdown",
   "metadata": {},
   "source": [
    "* In many practical applications it is of interest to find\n",
    "for a pair $x, y$ of nodes, one or all the paths form $x$ to $y$\n",
    "connecting the two nodes with the **fewest number of edges** possible.\n",
    "\n",
    "* This is a more complex measure on a network than, say, the degree\n",
    "of a node, and  we will need a more complex procedure, that is: an\n",
    "algorithm, in order to answer such questions systematically.\n",
    "Let's start with a proper definition."
   ]
  },
  {
   "cell_type": "markdown",
   "metadata": {},
   "source": [
    "<div class=\"alert alert-danger\">\n",
    "\n",
    "**Definition.** Let $G = (X, E)$ be a simple graph and let\n",
    "$x, y \\in X$.  Let $P(x, y)$ be the set of all paths from $x$ to $y$.\n",
    "Then the __distance__ $d(x, y)$ from $x$ to $y$ is\n",
    "$$d(x, y) = \\min \\{ l(p) : p \\in P(x, y) \\},$$\n",
    "the shortest possible length of a path from $x$ to $y$, and a __shortest path__ from $x$ to $y$ is a path $p \\in P(x, y)$ of length $l(p) = d(x, y)$.\n",
    "\n",
    "The __diameter__ $\\mathrm{diam}(G)$ of the network $G$ is the length of the longest shortest path between any two nodes,\n",
    "$$\\mathrm{diam}(G) = \\max \\{ d(x, y) : x, y \\in X \\}.$$\n",
    "</div>"
   ]
  },
  {
   "cell_type": "markdown",
   "metadata": {},
   "source": [
    "### Breadth First Search for Distance\n",
    "\n",
    "* Now we consider the following problem: Given a node $x \\in X$, what\n",
    "are the distances $d(x, y)$ for all nodes $y \\in X$?  \n",
    "\n",
    "* BFS provides a systematic\n",
    "procedure for finding these distances, and the shortest paths through\n",
    "which they are realized."
   ]
  },
  {
   "cell_type": "markdown",
   "metadata": {},
   "source": [
    "In order to describe the algorithm step by step, let's call a node $y$\n",
    "a __neighbor__ of node $x$, if $\\{x, y\\}$ is an\n",
    "edge, and let's denote by\n",
    "$$N(x) = \\{ y \\in X : \\{x, y\\} \\in E \\}$$\n",
    "the set of all neighbors of node $x$.  The algorithm works through the\n",
    "network **layer by layer**, starting with the given vertex $x$ at layer\n",
    "$0$ and all its friends at layer $1$. It then finds the friends of the\n",
    "friends at layer $2$, and so on, until every node that can be reached\n",
    "from $x$ by a path has been recorded, taking care that no node gets\n",
    "recorded twice.  The layer of a node then corresponds to its distance\n",
    "from the given node $x$."
   ]
  },
  {
   "cell_type": "markdown",
   "metadata": {},
   "source": [
    "In practice, as in the following example, the layers do not\n",
    "need to be made explicit."
   ]
  },
  {
   "cell_type": "code",
   "execution_count": null,
   "metadata": {},
   "outputs": [],
   "source": [
    "G = nx.read_adjlist(\"data/bfs.adj\")"
   ]
  },
  {
   "cell_type": "code",
   "execution_count": null,
   "metadata": {},
   "outputs": [],
   "source": [
    "nx.draw(G, **opts)"
   ]
  },
  {
   "cell_type": "code",
   "execution_count": null,
   "metadata": {},
   "outputs": [],
   "source": [
    "for x in G: \n",
    "    G.nodes[x]['seen'] = False"
   ]
  },
  {
   "cell_type": "code",
   "execution_count": null,
   "metadata": {},
   "outputs": [],
   "source": [
    "G.nodes['A']"
   ]
  },
  {
   "cell_type": "code",
   "execution_count": null,
   "metadata": {},
   "outputs": [],
   "source": [
    "Q = []"
   ]
  },
  {
   "cell_type": "code",
   "execution_count": null,
   "metadata": {},
   "outputs": [],
   "source": [
    "Q.append('A')\n",
    "G.nodes['A']['seen'] = True\n",
    "Q"
   ]
  },
  {
   "cell_type": "code",
   "execution_count": null,
   "metadata": {},
   "outputs": [],
   "source": [
    "list(G.neighbors('A'))"
   ]
  },
  {
   "cell_type": "code",
   "execution_count": null,
   "metadata": {},
   "outputs": [],
   "source": [
    "for y in G.neighbors('A'):\n",
    "    Q.append(y)\n",
    "    G.nodes[y]['seen'] = True"
   ]
  },
  {
   "cell_type": "code",
   "execution_count": null,
   "metadata": {},
   "outputs": [],
   "source": [
    "Q"
   ]
  },
  {
   "cell_type": "code",
   "execution_count": null,
   "metadata": {},
   "outputs": [],
   "source": [
    "node = 'B'\n",
    "for y in G.neighbors(node):\n",
    "    if not G.nodes[y]['seen']:\n",
    "        Q.append(y)\n",
    "        G.nodes[y]['seen'] = True\n",
    "Q"
   ]
  },
  {
   "cell_type": "code",
   "execution_count": null,
   "metadata": {},
   "outputs": [],
   "source": [
    "node = 'C'\n",
    "for y in G.neighbors(node):\n",
    "    if not G.nodes[y]['seen']:\n",
    "        Q.append(y)\n",
    "        G.nodes[y]['seen'] = True\n",
    "Q"
   ]
  },
  {
   "cell_type": "markdown",
   "metadata": {},
   "source": [
    "... and so on, until there are no more nodes to be processed."
   ]
  },
  {
   "cell_type": "code",
   "execution_count": null,
   "metadata": {},
   "outputs": [],
   "source": [
    "# 1. initialize\n",
    "for x in G: \n",
    "    G.nodes[x]['seen'] = False\n",
    "\n",
    "G.nodes['A']['seen'] = True\n",
    "Q = ['A']\n",
    "\n",
    "# 2. loop\n",
    "for node in Q:\n",
    "    for y in G.neighbors(node):\n",
    "        if not G.nodes[y]['seen']:\n",
    "            Q.append(y)\n",
    "            G.nodes[y]['seen'] = True\n",
    "\n",
    "# 3. output result\n",
    "Q"
   ]
  },
  {
   "cell_type": "markdown",
   "metadata": {},
   "source": [
    "When this process is formulated as an algorithm, we use an explicit __queue__\n",
    "(a first-in first-out buffer) to keep track of the node\n",
    "whose neighbors are currently under consideration.\n",
    "A queue is an array of values that comes with two basic operations:\n",
    "* one can __push__ a value to the end of the queue, and\n",
    "* one can __pop__ a value off the top of the queue (provided\n",
    "the queue is not empty).\n",
    "\n",
    "It can be shown that this version of the algorithm\n",
    "in the common case of a sparse network\n",
    "has complexity $O(n)$, which is as good as one could hope for."
   ]
  },
  {
   "cell_type": "markdown",
   "metadata": {},
   "source": [
    "<div class=\"alert alert-warning\">\n",
    "\n",
    "**Breadth First Search for Distance.**\n",
    "Given a simple graph\n",
    "$G = (X, E)$ and a vertex $x \\in X$,\n",
    "determine $d(x, y)$ for all nodes $y \\in X$.\n",
    "\n",
    "1. [Initialize.]  Suppose that $X = \\{x_0, x_1, \\ldots, x_{n-1}\\}$\n",
    "and that $x = x_j$.  Set $d_i \\gets \\perp$ (undefined) for $i = 0, \\dots, n{-}1$.\n",
    "Set $d_j \\gets 0$ and initialize a queue $Q \\gets (x_j)$.\n",
    "\n",
    "2. [Loop.] While $Q \\neq \\emptyset$:\n",
    "   * pop node $x_k$ off $Q$\n",
    "   * for each neighbor $x_l$ of $x_k$ with $d_l = \\perp$:\n",
    "       * push $x_l$ onto $Q$ and set $d_l \\gets d_k + 1$.\n",
    "\n",
    "3. [Stop.] Return the array $(d_0, \\dots, d_{n-1})$.\n",
    "\n",
    "</div>"
   ]
  },
  {
   "cell_type": "markdown",
   "metadata": {},
   "source": [
    "Note how in this version of BFS, in contrast to the simple version, a node is visited (setting its $d$ attribute)\n",
    "immediately when it is pushed onto $Q$, rather than later when it pops off $Q$.  (Why?)"
   ]
  },
  {
   "cell_type": "code",
   "execution_count": null,
   "metadata": {},
   "outputs": [],
   "source": [
    "from queue import Queue"
   ]
  },
  {
   "cell_type": "code",
   "execution_count": null,
   "metadata": {},
   "outputs": [],
   "source": [
    "for x in G: \n",
    "    G.nodes[x]['d'] = None # undefined\n",
    "\n",
    "x = 'B'\n",
    "G.nodes[x]['d'] = 0\n",
    "Q = Queue()\n",
    "Q.put(x)"
   ]
  },
  {
   "cell_type": "code",
   "execution_count": null,
   "metadata": {},
   "outputs": [],
   "source": [
    "list(Q.queue)"
   ]
  },
  {
   "cell_type": "code",
   "execution_count": null,
   "metadata": {},
   "outputs": [],
   "source": [
    "while not Q.empty():\n",
    "    x = Q.get()\n",
    "    for y in G.neighbors(x):\n",
    "        if G.nodes[y]['d'] is None: # undefined?\n",
    "            G.nodes[y]['d'] = G.nodes[x]['d'] + 1\n",
    "            Q.put(y)\n",
    "    print(x, \": \", list(Q.queue))"
   ]
  },
  {
   "cell_type": "code",
   "execution_count": null,
   "metadata": {},
   "outputs": [],
   "source": [
    "print([G.nodes[x]['d'] for x in G])"
   ]
  },
  {
   "cell_type": "code",
   "execution_count": null,
   "metadata": {},
   "outputs": [],
   "source": [
    "print(list(G.nodes.data('d')))"
   ]
  },
  {
   "cell_type": "markdown",
   "metadata": {},
   "source": [
    "### Variants.\n",
    "\n",
    "BFS is an extremely versatile algorithm, which applies in many different\n",
    "situations and can be adapted to produce additional information\n",
    "on a network.\n",
    "\n",
    "For example, BFS run on a node $x$ in a network $G = (X, E)$\n",
    "determines the __connected component__ of $x$ in $G$\n",
    "(as the set of all nodes that get a distance value assigned).\n",
    "\n",
    "With little more work (and an additional array) BFS can produce\n",
    "a __spanning tree__ (or __shortest path tree__).\n",
    "Here, whenever node $x_l$ is pushed onto $Q$, it is assigned\n",
    "the current node $x_k$ (in the additional array)\n",
    "as its predecessor on a shortest path from $x_j$ to $x_l$.\n",
    "The subgraph of the network consisting of these edges is a tree.\n",
    "As a tree, it has exactly one path between the given node $x$\n",
    "and any of its\n",
    "vertices $y$ and, by construction, this path is a shortest path\n",
    "between $x$ and $y$.\n"
   ]
  },
  {
   "cell_type": "code",
   "execution_count": null,
   "metadata": {},
   "outputs": [],
   "source": [
    "for x in G: \n",
    "    G.nodes[x]['d'] = None # undefined\n",
    "\n",
    "x = 'A'\n",
    "G.nodes[x]['d'] = 0\n",
    "Q = Queue()\n",
    "Q.put(x)\n",
    "\n",
    "for e in G.edges:\n",
    "    G.edges[e]['seen'] = False"
   ]
  },
  {
   "cell_type": "code",
   "execution_count": null,
   "metadata": {},
   "outputs": [],
   "source": [
    "while not Q.empty():\n",
    "    x = Q.get()\n",
    "    for y in G.neighbors(x):\n",
    "        if not G.nodes[y]['d']: # undefined?\n",
    "            G.nodes[y]['d'] = G.nodes[x]['d'] + 1\n",
    "            Q.put(y)\n",
    "            G.edges[x, y]['seen'] = True\n",
    "    print(x, \": \", list(Q.queue))"
   ]
  },
  {
   "cell_type": "code",
   "execution_count": null,
   "metadata": {},
   "outputs": [],
   "source": [
    "sub = [e for e in G.edges if G.edges[e]['seen']]"
   ]
  },
  {
   "cell_type": "code",
   "execution_count": null,
   "metadata": {},
   "outputs": [],
   "source": [
    "nx.draw(G.edge_subgraph(sub), **opts)"
   ]
  },
  {
   "cell_type": "markdown",
   "metadata": {},
   "source": [
    "Or, one could highlight the spanning tree inside the graph by using, say,\n",
    "red as color for the spanning edges (and blue for the rest)."
   ]
  },
  {
   "cell_type": "code",
   "execution_count": null,
   "metadata": {},
   "outputs": [],
   "source": [
    "colors = ['red' if G.edges[e]['seen'] else 'blue' for e in G.edges]\n",
    "nx.draw(G, edge_color = colors, with_labels = True, width=2.0)"
   ]
  },
  {
   "cell_type": "markdown",
   "metadata": {},
   "source": [
    "Of course, in order to find distances, or shortest paths\n",
    "between **all pairs** of nodes $x$ and $y$ in a network, one can\n",
    "perform BFS for each of the vertices $x \\in X$ in turn.\n",
    "\n",
    "The algorithm and its variants also works on directed networks,\n",
    "but the results then will have to be interpreted in the context of\n",
    "directed networks.\n",
    "\n",
    "More about BFS can be found in [Newman, Section 10.3].\n",
    "\n",
    "And in the next lecture.\n"
   ]
  },
  {
   "cell_type": "markdown",
   "metadata": {},
   "source": [
    "##  Code Corner"
   ]
  },
  {
   "cell_type": "markdown",
   "metadata": {},
   "source": [
    "### `queue`"
   ]
  },
  {
   "cell_type": "markdown",
   "metadata": {},
   "source": [
    "* `Queue`: [[doc]](https://docs.python.org/3/library/queue.html)"
   ]
  },
  {
   "cell_type": "markdown",
   "metadata": {},
   "source": [
    "### `networkx`"
   ]
  },
  {
   "cell_type": "markdown",
   "metadata": {},
   "source": [
    "* `remove_node`: [[doc]](https://networkx.github.io/documentation/stable/reference/classes/generated/networkx.Graph.remove_node.html)\n",
    "\n",
    "\n",
    "* `edge_subgraph`: [[doc]](https://networkx.github.io/documentation/stable/reference/classes/generated/networkx.Graph.edge_subgraph.html)"
   ]
  },
  {
   "cell_type": "markdown",
   "metadata": {},
   "source": [
    "## Exercises."
   ]
  },
  {
   "cell_type": "markdown",
   "metadata": {},
   "source": [
    "1. Compute the distances $d(x, y)$ for all vertices $x$ and $y$ in the above graph `G`. \n",
    "1. Hence determine the diameter $\\mathrm{diam}(G)$.\n",
    "1. Construct a (simple) graph $H$ with edges \n",
    "<pre>\n",
    "    1-9, 9-3, 9-12, 9-15, 9-2, 9-13, 5-11, 5-14, 5-3, 11-14, \n",
    "    11-4, 14-12, 14-4, 12-15, 15-7, 2-6, 2-7, 13-10, 4-7, 7-8\n",
    "</pre>\n",
    "1. Using BFS, construct a spanning tree of $H$, starting with vertex $1$.\n",
    "1. Compute a matrix $D= (d_{ij})$ with entries\n",
    "$$\n",
    "d_{ij} = d(i, j),\n",
    "$$\n",
    "the distance between nodes $i$ and $j$ in $H$."
   ]
  },
  {
   "cell_type": "code",
   "execution_count": null,
   "metadata": {},
   "outputs": [],
   "source": []
  }
 ],
 "metadata": {
  "kernelspec": {
   "display_name": "Python 3",
   "language": "python",
   "name": "python3"
  },
  "language_info": {
   "codemirror_mode": {
    "name": "ipython",
    "version": 3
   },
   "file_extension": ".py",
   "mimetype": "text/x-python",
   "name": "python",
   "nbconvert_exporter": "python",
   "pygments_lexer": "ipython3",
   "version": "3.7.6"
  }
 },
 "nbformat": 4,
 "nbformat_minor": 2
}

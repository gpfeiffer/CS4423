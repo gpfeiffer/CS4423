{
 "cells": [
  {
   "cell_type": "markdown",
   "metadata": {},
   "source": [
    "### CS4423 - Networks\n",
    "Prof. Götz Pfeiffer<br />\n",
    "School of Mathematics, Statistics and Applied Mathematics<br />\n",
    "NUI Galway"
   ]
  },
  {
   "cell_type": "markdown",
   "metadata": {},
   "source": [
    "# Assignment 5"
   ]
  },
  {
   "cell_type": "markdown",
   "metadata": {},
   "source": [
    "Provide answers to the problems in the boxes provided.  \n",
    "\n",
    "The buttons at the top of the page can be used to **create\n",
    "more boxes if needed**.\n",
    "The type of box can be changed from `Code` to `Markdown`.\n",
    "`Code` boxes take (and execute) `python` code.\n",
    "`Markdown` boxes take (and format nicely) **text input**.\n",
    "In this way, you can provide answers, ask questions, \n",
    "or raise issues, in words.\n",
    "\n",
    "Some marks will be awarded for\n",
    "participation and engagement.\n",
    "\n",
    "When finished, print this notebook into a **pdf** file and submit this to\n",
    "**blackboard**.\n",
    "\n",
    "**Deadline** is this **Friday** at 5pm."
   ]
  },
  {
   "cell_type": "markdown",
   "metadata": {},
   "source": [
    "## Setup"
   ]
  },
  {
   "cell_type": "markdown",
   "metadata": {},
   "source": [
    "This is a `jupyter` notebook.   You can open and interact\n",
    "with the notebook through one of sites recommended at\n",
    "its [github](https://github.com/gpfeiffer/cs4423) repository.\n",
    "\n",
    "Or, you can\n",
    "install and use `jupyter` as a `python` package on your own laptop or PC.  "
   ]
  },
  {
   "cell_type": "markdown",
   "metadata": {},
   "source": [
    "The following command loads the `networkx` package into the current session.  \n",
    "The next command specifies some standard options that can be useful for drawing graphs.  \n",
    "\n",
    "In order to execute the code in a box,\n",
    "use the mouse or arrow keys to highlight the box and then press SHIFT-RETURN."
   ]
  },
  {
   "cell_type": "code",
   "execution_count": null,
   "metadata": {},
   "outputs": [],
   "source": [
    "import networkx as nx\n",
    "import numpy as np\n",
    "import pandas as pd\n",
    "import matplotlib.pyplot as plt\n",
    "opts = { \"with_labels\": True, \"node_color\": 'y' }"
   ]
  },
  {
   "cell_type": "markdown",
   "metadata": {},
   "source": [
    "Should it ever happen that the notebook becomes unusable, start again with a fresh copy."
   ]
  },
  {
   "cell_type": "markdown",
   "metadata": {},
   "source": [
    "## 1.  A Citation Network"
   ]
  },
  {
   "cell_type": "markdown",
   "metadata": {},
   "source": [
    "The file `scientometrics.net` contains a representation of a network of citations between the $1656$ articles that\n",
    "appeared from 1978 to 2004 in [Scientometrics](https://en.wikipedia.org/wiki/Scientometrics_(journal)), \n",
    "a journal devoted to the field of bibliometrics and the \"Science of Science\".  It is loaded into a graph `G`\n",
    "as follows."
   ]
  },
  {
   "cell_type": "code",
   "execution_count": null,
   "metadata": {},
   "outputs": [],
   "source": [
    "E = nx.read_edgelist(\"data/scientometrics.net\", create_using=nx.DiGraph, nodetype=int)\n",
    "G = nx.DiGraph()\n",
    "G.add_nodes_from(range(1, 1656))\n",
    "G.add_edges_from(E.edges())"
   ]
  },
  {
   "cell_type": "markdown",
   "metadata": {},
   "source": [
    "`G` as **a lot of nodes** and even more edges:  **Don't draw** this network."
   ]
  },
  {
   "cell_type": "code",
   "execution_count": null,
   "metadata": {},
   "outputs": [],
   "source": [
    "m, n = G.order(), G.size()\n",
    "m, n"
   ]
  },
  {
   "cell_type": "markdown",
   "metadata": {},
   "source": [
    "The file `scientometrics_paper_year.txt` contains, for most but not all articles in the network, \n",
    "their year of publication.  It is loaded and stored as node attributes as follows"
   ]
  },
  {
   "cell_type": "code",
   "execution_count": null,
   "metadata": {},
   "outputs": [],
   "source": [
    "years = np.loadtxt(\"data/scientometrics_paper_year.txt\", dtype=\"int\")\n",
    "for date in years:\n",
    "    G.nodes[date[0]]['year'] = date[1]"
   ]
  },
  {
   "cell_type": "markdown",
   "metadata": {},
   "source": [
    "Now most nodes have their publication year as value of the `'year'` key in their attributes dictionary.\n",
    "For example, node $1113$."
   ]
  },
  {
   "cell_type": "code",
   "execution_count": null,
   "metadata": {},
   "outputs": [],
   "source": [
    "G.nodes[1113]['year']"
   ]
  },
  {
   "cell_type": "markdown",
   "metadata": {},
   "source": [
    "If the publication year of a node is not known, the normal dictionary access by the key `'year'` will fail\n",
    "with an error message.  Using the method `get()` instead will return `None` in such a case."
   ]
  },
  {
   "cell_type": "code",
   "execution_count": null,
   "metadata": {},
   "outputs": [],
   "source": [
    "print(G.nodes[4].get('year'))"
   ]
  },
  {
   "cell_type": "markdown",
   "metadata": {},
   "source": [
    "In a directed network, one distinguishes between the **in-degree** and the **out-degree** of a node.\n",
    "This distinction leads to **two** separate degree distributions.   The out-degree distribution\n",
    "can be computed as follows."
   ]
  },
  {
   "cell_type": "code",
   "execution_count": null,
   "metadata": {
    "scrolled": true
   },
   "outputs": [],
   "source": [
    "outs = {}\n",
    "for (n, d) in G.out_degree():\n",
    "    outs[d] = outs.get(d, 0) + 1\n",
    "\n",
    "outs = list(outs.items())\n",
    "outs.sort()\n",
    "print(outs)"
   ]
  },
  {
   "cell_type": "markdown",
   "metadata": {},
   "source": [
    "Excluding the degree $0$ count, a loglog plot of the out-degree frequencies\n",
    "looks as follows."
   ]
  },
  {
   "cell_type": "code",
   "execution_count": null,
   "metadata": {},
   "outputs": [],
   "source": [
    "df = pd.DataFrame(outs)\n",
    "df.iloc[1:].plot.scatter(x = 0, y = 1, loglog=True)"
   ]
  },
  {
   "cell_type": "markdown",
   "metadata": {},
   "source": [
    "Does that look like a power law degree distribution?"
   ]
  },
  {
   "cell_type": "markdown",
   "metadata": {},
   "source": [
    "* If you were to draw a straight line through the plot, approximating the data points, what\n",
    "would the slope of that line be, approximately?\n",
    "* Following the above example, **compile a histogram of the in-degrees** of the graph `G`,\n",
    "discard the $0$-degree nodes, and then create a loglog plot of the remaining data points.\n",
    "* If you were to draw a straight line through the plot, approximating the data points, what\n",
    "would the slope of that line be, approximately?\n",
    "* Can you go back in time and recover the state of the network at the end of $1998$ (as a subgraph `G0`\n",
    "of `G`)?  If so, for articles published from $1999$ onwards, determine the frequency of\n",
    "articles in `G0` being cited, in relation to their degree in `G0`, and plot\n",
    "the result in a meaningful way.\n",
    "\n",
    "(To enable input for the text cell below, highlight the cell and press return.\n",
    "To typeset the text nicely, and disable input, type SHIFT-return.)"
   ]
  },
  {
   "cell_type": "markdown",
   "metadata": {},
   "source": [
    "... text goes here ..."
   ]
  },
  {
   "cell_type": "code",
   "execution_count": null,
   "metadata": {},
   "outputs": [],
   "source": []
  },
  {
   "cell_type": "markdown",
   "metadata": {},
   "source": [
    "### 2. Configuration Model"
   ]
  },
  {
   "cell_type": "markdown",
   "metadata": {},
   "source": [
    "A configuration model for a given list of stubs (half-edges) can be produced with the following `python` program:"
   ]
  },
  {
   "cell_type": "code",
   "execution_count": null,
   "metadata": {},
   "outputs": [],
   "source": [
    "import random\n",
    "\n",
    "def configuration_stubs(stubs):\n",
    "    m = len(stubs) // 2  # should check if sum(degrees) is even ...\n",
    "    random.shuffle(stubs)\n",
    "    G = nx.Graph(zip(stubs[:m], stubs[m:]))\n",
    "    G.remove_edges_from(nx.selfloop_edges(G))\n",
    "    return G"
   ]
  },
  {
   "cell_type": "markdown",
   "metadata": {},
   "source": [
    "The following function produces a list of stubs from a list `a` of degrees:"
   ]
  },
  {
   "cell_type": "code",
   "execution_count": null,
   "metadata": {},
   "outputs": [],
   "source": [
    "def stubs_list(a):\n",
    "    return sum([d * [i] for i, d in enumerate(a)], [])"
   ]
  },
  {
   "cell_type": "markdown",
   "metadata": {},
   "source": [
    "So we can start with a list `dd` of degrees, convert this into a list of stubs and then\n",
    "create a graph `G` with the given list of node degrees (up to self-loops and multiple edges)."
   ]
  },
  {
   "cell_type": "code",
   "execution_count": null,
   "metadata": {},
   "outputs": [],
   "source": [
    "dd = [3, 2, 2, 1, 1, 1]\n",
    "stubs = stubs_list(dd)\n",
    "G = configuration_stubs(stubs)\n",
    "print(sum(dd)//2, G.size())"
   ]
  },
  {
   "cell_type": "code",
   "execution_count": null,
   "metadata": {},
   "outputs": [],
   "source": [
    "nx.draw(G, **opts)"
   ]
  },
  {
   "cell_type": "markdown",
   "metadata": {},
   "source": [
    "Conversely, we can use `collections.Counter` to recover the list of degrees from the list of stubs:"
   ]
  },
  {
   "cell_type": "code",
   "execution_count": null,
   "metadata": {},
   "outputs": [],
   "source": [
    "stubs"
   ]
  },
  {
   "cell_type": "code",
   "execution_count": null,
   "metadata": {},
   "outputs": [],
   "source": [
    "from collections import Counter"
   ]
  },
  {
   "cell_type": "code",
   "execution_count": null,
   "metadata": {},
   "outputs": [],
   "source": [
    "k = Counter(stubs)\n",
    "print(k)"
   ]
  },
  {
   "cell_type": "markdown",
   "metadata": {},
   "source": [
    "The following function produces a list of stubs, whose corresponding list of degrees is\n",
    "distributed according to a power law $p_k = n_k/n \\approx c k^{-\\gamma}$ with parameter\n",
    "$\\gamma = \\frac{2-p}{1-p}$."
   ]
  },
  {
   "cell_type": "code",
   "execution_count": null,
   "metadata": {},
   "outputs": [],
   "source": [
    "def powerstubs(m, p):\n",
    "    \n",
    "    # distribute 2*m according to a power law\n",
    "    l = 0\n",
    "    x = [l]\n",
    "    for i in range(2*m-1):\n",
    "        if random.random() < p:\n",
    "            l += 1\n",
    "            x.append(l)\n",
    "        else:\n",
    "            k = random.choice(x)\n",
    "            x.append(k)\n",
    "            \n",
    "    return x"
   ]
  },
  {
   "cell_type": "code",
   "execution_count": null,
   "metadata": {},
   "outputs": [],
   "source": [
    "stubs = powerstubs(10, 1/2)\n",
    "stubs"
   ]
  },
  {
   "cell_type": "code",
   "execution_count": null,
   "metadata": {},
   "outputs": [],
   "source": [
    "degrees = list(Counter(stubs).values())\n",
    "degrees"
   ]
  },
  {
   "cell_type": "markdown",
   "metadata": {},
   "source": [
    "* Construct a list `stubs` and a corresponding list of approximately $n = 5000$ `degrees` such that\n",
    "  the distribution of the values in `degrees` follows a power law.\n",
    "* What is the value of $\\gamma$ in this power law?\n",
    "* Use the above function `configuration_stubs` to create\n",
    "  a **random network** `C` with degree sequence `degree`.\n",
    "* How many nodes and edges do you expect, how many nodes and edges does the graph\n",
    "  `C` actually have?\n",
    "* In `networkx`, a configuration model can be generated with the function \n",
    "  `nx.configuration_model(degrees)`.  Apply this function to the same degree\n",
    "  sequence to obtain a random network `D`.   How many nodes and edges does\n",
    "  the graph `D` have?\n",
    "* Can you draw a loglog plot that provides evidence for `D` having a power law\n",
    "  degree distribution?\n",
    "\n",
    "(If $n = 5000$ turns out to be to large, use a smaller number of nodes.)"
   ]
  },
  {
   "cell_type": "code",
   "execution_count": null,
   "metadata": {},
   "outputs": [],
   "source": []
  },
  {
   "cell_type": "markdown",
   "metadata": {},
   "source": [
    "### 3. Preferential Linear Attachment"
   ]
  },
  {
   "cell_type": "markdown",
   "metadata": {},
   "source": [
    "The following algorithm, introduced and named after Barabási-Albert, **grows** a network\n",
    "on $n$ nodes from a complete graph on $a$ nodes, by\n",
    "adding one node at a time, together with $b$ new edges, linking the new node to \n",
    "$b$ old nodes, with a probability given by their current degrees:\n",
    "\n",
    "An $(n, a, b)$**-BA model** is a (simple) graph on $n$ nodes, constructed as follows.\n",
    "1. start with a complete graph on $a$ nodes (at time $t = 0$)\n",
    "2. for $t = 1, \\dots, n-a-1$:\n",
    "    * add new node $x = a + t$\n",
    "    * and $b$ links to old nodes $i$ with probability \n",
    "      $$\n",
    "      p_{x \\to i} = \\frac{k_{i, t-1}}{2 m_{t-1}},\n",
    "      $$\n",
    "      where $k_{i,t}$ is the degree of node $i$ at time $t$ and $m_t$ is the\n",
    "      number of edges at time $t$."
   ]
  },
  {
   "cell_type": "markdown",
   "metadata": {},
   "source": [
    "For an implementation of this algorithm, we need to be able to draw $m$ items from the current\n",
    "list of nodes, where each node is picked with a probability proportional to its current degree\n",
    "This functionality is provided by the function `random.choices`,"
   ]
  },
  {
   "cell_type": "code",
   "execution_count": null,
   "metadata": {},
   "outputs": [],
   "source": [
    "import random"
   ]
  },
  {
   "cell_type": "markdown",
   "metadata": {},
   "source": [
    "To pick $4$ from $0,\\dots,5$ with a large bias towards $5$:"
   ]
  },
  {
   "cell_type": "code",
   "execution_count": null,
   "metadata": {},
   "outputs": [],
   "source": [
    "sorted(random.choices(range(6), 5*[1] + [5], k=4))"
   ]
  },
  {
   "cell_type": "markdown",
   "metadata": {},
   "source": [
    "No we are ready to grow a graph.  Let's set $a = 3$ and $b = 2$ for starters."
   ]
  },
  {
   "cell_type": "code",
   "execution_count": null,
   "metadata": {},
   "outputs": [],
   "source": [
    "a, b = 3, 2"
   ]
  },
  {
   "cell_type": "code",
   "execution_count": null,
   "metadata": {},
   "outputs": [],
   "source": [
    "G = nx.complete_graph(a)\n",
    "G.degree()"
   ]
  },
  {
   "cell_type": "code",
   "execution_count": null,
   "metadata": {},
   "outputs": [],
   "source": [
    "x, m = G.order(), G.size()\n",
    "x, m"
   ]
  },
  {
   "cell_type": "markdown",
   "metadata": {},
   "source": [
    "Compute a discrete probabilty distribution corresponding to node degrees."
   ]
  },
  {
   "cell_type": "code",
   "execution_count": null,
   "metadata": {},
   "outputs": [],
   "source": [
    "degrees = [d for n, d in G.degree()]\n",
    "degrees"
   ]
  },
  {
   "cell_type": "markdown",
   "metadata": {},
   "source": [
    "Select $b$ distinct nodes from the old graph according to the probabilities `prob`"
   ]
  },
  {
   "cell_type": "code",
   "execution_count": null,
   "metadata": {},
   "outputs": [],
   "source": [
    "old = sorted(random.choices(list(G.nodes()), degrees, k=b))\n",
    "old"
   ]
  },
  {
   "cell_type": "markdown",
   "metadata": {},
   "source": [
    "Add edges from a new node `x` to the selected nodes."
   ]
  },
  {
   "cell_type": "code",
   "execution_count": null,
   "metadata": {},
   "outputs": [],
   "source": [
    "G.add_edges_from([(x, o) for o in old])"
   ]
  },
  {
   "cell_type": "markdown",
   "metadata": {},
   "source": [
    "Draw the resulting graph."
   ]
  },
  {
   "cell_type": "code",
   "execution_count": null,
   "metadata": {},
   "outputs": [],
   "source": [
    "nx.draw(G, **opts)"
   ]
  },
  {
   "cell_type": "markdown",
   "metadata": {},
   "source": [
    "For the next node, all of the previous steps are repeated."
   ]
  },
  {
   "cell_type": "code",
   "execution_count": null,
   "metadata": {},
   "outputs": [],
   "source": [
    "x, m  = G.order(), G.size()\n",
    "degrees = [d for n, d in G.degree()]\n",
    "old = sorted(random.choices(list(G.nodes()), degrees, k=b))\n",
    "G.add_edges_from([(x, o) for o in old])"
   ]
  },
  {
   "cell_type": "markdown",
   "metadata": {},
   "source": [
    "And again, we can draw the resulting graph."
   ]
  },
  {
   "cell_type": "code",
   "execution_count": null,
   "metadata": {},
   "outputs": [],
   "source": [
    "nx.draw(G, **opts)"
   ]
  },
  {
   "cell_type": "markdown",
   "metadata": {},
   "source": [
    "And so on ..."
   ]
  },
  {
   "cell_type": "markdown",
   "metadata": {},
   "source": [
    "* Add 20 more nodes to the graph `G` by repeating the above steps\n",
    "  and draw the resulting graph.\n",
    "* Add 250 more nodes to the graph `G` by repeating the above steps\n",
    "  (preferrably with a python `for` loop, rather than typing out 250 identical pieces of code.)\n",
    "* Compute the graph clustering coefficient $C$ and the characteristic path length $L$ of `G`.\n",
    "  How do these values compare to ER-random graphs of similar size?\n",
    "* Create a loglog plot of the degree histogram of the final version of `G`: does this\n",
    "  indicate a power law distribution?  If so, what is the exponent $\\gamma$?\n",
    "* In `networkx`, a BA-model can be generated with the function\n",
    "  `nx.barabasi_albert_graph(n, b)` (where $a = b$ in terms of our parameters, and the initial\n",
    "  graph is an **empty** graph on $a$ nodes).  Use this function to generate a graph `B`\n",
    "  comparable to `G` above, and check whether its degree distribution follows a power law."
   ]
  },
  {
   "cell_type": "code",
   "execution_count": null,
   "metadata": {},
   "outputs": [],
   "source": []
  },
  {
   "cell_type": "markdown",
   "metadata": {},
   "source": [
    "### 4. Course Summary"
   ]
  },
  {
   "cell_type": "markdown",
   "metadata": {},
   "source": [
    "* In your own words, summarize the contents of the course.  What is Network Science?  Which parts are covered in the course, which are missing?  Use complete sentences.  Write approximately 100 words."
   ]
  },
  {
   "cell_type": "code",
   "execution_count": null,
   "metadata": {},
   "outputs": [],
   "source": []
  },
  {
   "cell_type": "markdown",
   "metadata": {},
   "source": [
    "... text goes here ..."
   ]
  }
 ],
 "metadata": {
  "kernelspec": {
   "display_name": "Python 3",
   "language": "python",
   "name": "python3"
  },
  "language_info": {
   "codemirror_mode": {
    "name": "ipython",
    "version": 3
   },
   "file_extension": ".py",
   "mimetype": "text/x-python",
   "name": "python",
   "nbconvert_exporter": "python",
   "pygments_lexer": "ipython3",
   "version": "3.7.6"
  }
 },
 "nbformat": 4,
 "nbformat_minor": 2
}

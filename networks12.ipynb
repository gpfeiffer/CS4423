{
 "cells": [
  {
   "cell_type": "markdown",
   "metadata": {},
   "source": [
    "### CS4423 - Networks\n",
    "Prof. Götz Pfeiffer<br />\n",
    "School of Mathematics, Statistics and Applied Mathematics<br />\n",
    "NUI Galway"
   ]
  },
  {
   "cell_type": "markdown",
   "metadata": {},
   "source": [
    "#### 4. Small Worlds\n",
    "\n",
    "# Lecture 12: Characteristic Path Length and Clustering Coefficient"
   ]
  },
  {
   "cell_type": "markdown",
   "metadata": {},
   "source": [
    "Many real world networks are **small world networks**,\n",
    "where most pairs of nodes are only a few steps away from each other,\n",
    "and where nodes tend to form cliques, i.e., subgraphs having\n",
    "all nodes connected to each other."
   ]
  },
  {
   "cell_type": "markdown",
   "metadata": {},
   "source": [
    "We introduce **three network attributes** that measure these small-world\n",
    "effects:\n",
    "\n",
    "* the **characteristic path length** $L$, defined a the\n",
    "  average length of all shortest paths in the network;\n",
    "  \n",
    "* the **transitivity** $T$, defined as the proportion of\n",
    "  triads that form triangles;\n",
    "  \n",
    "* the **clustering coefficient** $C$, defined as the\n",
    "  average node clustering coefficient."
   ]
  },
  {
   "cell_type": "markdown",
   "metadata": {},
   "source": [
    "In terms of these attributes, a network is called a **small world network** if it has \n",
    "\n",
    "1. a small **average shortest path length** $L$\n",
    "(scaling with $\\log n$, where $n$ is the number of nodes), and\n",
    "2. a high **clustering coefficient** $C$."
   ]
  },
  {
   "cell_type": "markdown",
   "metadata": {},
   "source": [
    "It turns out that ER random networks do have a small average shortest path length,\n",
    "but not a high clustering coefficient.\n",
    "This observation justifies the need for a different model of\n",
    "random networks, if they are to be used to model the \n",
    "clustering behavior of real world networks."
   ]
  },
  {
   "cell_type": "code",
   "execution_count": null,
   "metadata": {},
   "outputs": [],
   "source": [
    "import networkx as nx\n",
    "opts = { \"with_labels\" : True, \"node_color\": 'y' }"
   ]
  },
  {
   "cell_type": "markdown",
   "metadata": {},
   "source": [
    "## Characteristic Path Length"
   ]
  },
  {
   "cell_type": "markdown",
   "metadata": {},
   "source": [
    "We have seen how BFS can determine the length of a shortest path from a given node $x$ to any\n",
    "node $y$ in a **connected network**.  An application to all nodes $x$ yields the shortest distances\n",
    "between all pairs of nodes.\n",
    "\n",
    "Let $\\mathcal{D} = (d_{ij})$ be the **distance matrix** of a connected graph $G = (X, E)$,\n",
    "whose entry $d_{ij}$ is the length of the shortest path from node $i \\in X$ to node $j \\in X$.  (Hence $d_{ii} = 0$ for all $i$.)  There are a number of graph (and node) attributes that can be defined in terms of this matrix. "
   ]
  },
  {
   "cell_type": "markdown",
   "metadata": {},
   "source": [
    "<div class=\"alert alert-warning\">\n",
    "\n",
    "**Definition.**  Let $G = (X, E)$ be a connected graph.\n",
    "\n",
    "* The **eccentricity** $e_i$ of a node $i \\in X$ is the maximum distance between $i$\n",
    "and any other vertex in $G$,\n",
    "$$\n",
    "e_i = \\max_j d_{ij}.\n",
    "$$\n",
    "\n",
    "* The **graph radius** $R$ is the minimum eccentricity,\n",
    "$$\n",
    "R = \\min_i e_i.\n",
    "$$\n",
    "\n",
    "* The **graph diameter** $D$ is the maximum eccentricity,\n",
    "$$\n",
    "D = \\max_i e_i.\n",
    "$$\n",
    "\n",
    "* The **characteristic path length** $L$ of $G$ is the average distance between pairs of distinct nodes,\n",
    "$$\n",
    "L = \\frac1{n(n-1)} \\sum_{i \\neq j} d_{ij}.\n",
    "$$\n",
    "</div>"
   ]
  },
  {
   "cell_type": "markdown",
   "metadata": {},
   "source": [
    "* **Fact:** The characteristic path length of a random graph $G(n, m)$, or $G(n, p)$ is\n",
    "$$\n",
    "L = \\frac{\\ln n}{\\ln \\langle k \\rangle}.\n",
    "$$"
   ]
  },
  {
   "cell_type": "markdown",
   "metadata": {},
   "source": [
    "So if $n = 16$ and $m = 32$, then the average node degree in $G(n, m)$ is $\\langle k \\rangle = \\frac{2m}{n} = 4$,\n",
    "and, approximately, $L = \\frac{\\log_2 16}{\\log_2 4} = 2$."
   ]
  },
  {
   "cell_type": "markdown",
   "metadata": {},
   "source": [
    "Let's find a small connected graph. (Loop until it's connected ...)"
   ]
  },
  {
   "cell_type": "code",
   "execution_count": null,
   "metadata": {},
   "outputs": [],
   "source": [
    "n, m = 16, 32\n",
    "while True:\n",
    "    G = nx.gnm_random_graph(n, m)\n",
    "    if nx.is_connected(G):\n",
    "        break\n",
    "nx.draw(G, **opts)"
   ]
  },
  {
   "cell_type": "markdown",
   "metadata": {},
   "source": [
    "Compute **all** shortest path lengths with the `shortest_path_length` function provided by `networkx`."
   ]
  },
  {
   "cell_type": "code",
   "execution_count": null,
   "metadata": {},
   "outputs": [],
   "source": [
    "dist = dict(nx.shortest_path_length(G))\n",
    "dist = [[dist[i][j] for j in range(n)] for i in range(n)]\n",
    "dist"
   ]
  },
  {
   "cell_type": "code",
   "execution_count": null,
   "metadata": {},
   "outputs": [],
   "source": [
    "eccentricity = [max(d) for d in dist]\n",
    "eccentricity"
   ]
  },
  {
   "cell_type": "markdown",
   "metadata": {},
   "source": [
    "`networkx` has a function `eccentricity` which computes a dictionary of eccentricities."
   ]
  },
  {
   "cell_type": "code",
   "execution_count": null,
   "metadata": {},
   "outputs": [],
   "source": [
    "print(nx.eccentricity(G))"
   ]
  },
  {
   "cell_type": "markdown",
   "metadata": {},
   "source": [
    "The extreme values of the eccentricity are the radius and the diameter of the network."
   ]
  },
  {
   "cell_type": "code",
   "execution_count": null,
   "metadata": {},
   "outputs": [],
   "source": [
    "radius = min(eccentricity)\n",
    "diameter = max(eccentricity)\n",
    "radius, diameter"
   ]
  },
  {
   "cell_type": "markdown",
   "metadata": {},
   "source": [
    "The characteristic path length $L$ is the sum of all entries in $\\mathcal{D}$, divided by the number of pairs of distinct nodes. "
   ]
  },
  {
   "cell_type": "code",
   "execution_count": null,
   "metadata": {},
   "outputs": [],
   "source": [
    "cpl = sum([sum(d) for d in dist]) / n / (n - 1)\n",
    "cpl"
   ]
  },
  {
   "cell_type": "markdown",
   "metadata": {},
   "source": [
    "`networkx` computes $L$ with a function `average_shortest_path_length`."
   ]
  },
  {
   "cell_type": "code",
   "execution_count": null,
   "metadata": {},
   "outputs": [],
   "source": [
    "nx.average_shortest_path_length(G)"
   ]
  },
  {
   "cell_type": "code",
   "execution_count": null,
   "metadata": {},
   "outputs": [],
   "source": [
    "from math import log\n",
    "kavg = sum(dict(G.degree()).values()) / n\n",
    "log(n) / log(kavg)"
   ]
  },
  {
   "cell_type": "code",
   "execution_count": null,
   "metadata": {},
   "outputs": [],
   "source": [
    "kavg"
   ]
  },
  {
   "cell_type": "markdown",
   "metadata": {},
   "source": [
    "<div class=\"alert alert-warning\">\n",
    "\n",
    "**Definition (Small-world behaviour).**\n",
    "A network $G = (X, E)$ is said to exhibit a **small world behaviour** if \n",
    "its characteristic path length $L$ grows proportionally to the\n",
    "logarithm of the number $n$ of nodes of $G$:\n",
    "$$\n",
    "L \\sim \\ln n.\n",
    "$$\n",
    "</div>"
   ]
  },
  {
   "cell_type": "markdown",
   "metadata": {},
   "source": [
    "In this sense, the ensembles $G(n, m)$ and $G(n, p)$ of random graphs do exhibit small\n",
    "world behavior (as $n \\to \\infty$)."
   ]
  },
  {
   "cell_type": "markdown",
   "metadata": {},
   "source": [
    "## Clustering"
   ]
  },
  {
   "cell_type": "markdown",
   "metadata": {},
   "source": [
    "In contrast to random graphs, real world networks contain **many triangles**:  \n",
    "it is not uncommon that a friend of one of my friends is my friend, too.\n",
    "This **degree of transitivity** can be measured in several different ways."
   ]
  },
  {
   "cell_type": "markdown",
   "metadata": {},
   "source": [
    "<div class=\"alert alert-warning\">\n",
    "\n",
    "**Definition (Graph transitivity).**\n",
    "A **triad** is a tree of $3$ nodes or, equivalently, a graph consisting of $2$\n",
    "adjacent edges (and the nodes they connect).  The transitivity $T$ of a graph $G = (X, E)$\n",
    "is the proportion of **transitive** triads, i.e., triads which are subgraphs of **triangles**:\n",
    "$$\n",
    "T = \\frac{3 n_{\\Delta}}{n_{\\wedge}},\n",
    "$$\n",
    "where $n_{\\Delta}$ is the number of triangles in $G$, and $n_{\\wedge}$ is the number of triads.\n",
    "</div>"
   ]
  },
  {
   "cell_type": "markdown",
   "metadata": {},
   "source": [
    "By definition, $0 \\leq T \\leq 1$."
   ]
  },
  {
   "cell_type": "markdown",
   "metadata": {},
   "source": [
    "**Example.**"
   ]
  },
  {
   "cell_type": "code",
   "execution_count": null,
   "metadata": {},
   "outputs": [],
   "source": [
    "G = nx.Graph(((1,2), (2,3), (3,1), (3,4), (3,5)))\n",
    "nx.draw(G, **opts)"
   ]
  },
  {
   "cell_type": "markdown",
   "metadata": {},
   "source": [
    "The function `nx.triangles(G)` returns a `python` dictionary reporting for each node\n",
    "of the graph `G` the number of triangles it is contained in."
   ]
  },
  {
   "cell_type": "code",
   "execution_count": null,
   "metadata": {},
   "outputs": [],
   "source": [
    "print(nx.triangles(G))"
   ]
  },
  {
   "cell_type": "markdown",
   "metadata": {},
   "source": [
    "Overall, each triangle in `G` is thus accounted for $3$ times, once for each of its\n",
    "vertices.  The following sum determines this number $3 n_{\\Delta}$."
   ]
  },
  {
   "cell_type": "code",
   "execution_count": null,
   "metadata": {},
   "outputs": [],
   "source": [
    "triple_nr_triangles = sum(nx.triangles(G).values())\n",
    "print(triple_nr_triangles)"
   ]
  },
  {
   "cell_type": "markdown",
   "metadata": {},
   "source": [
    "The number $n_{\\wedge}$ of triads in `G` can be determined from the graph's degree\n",
    "sequence, as each node of degree $k$ is the central node of exactly\n",
    "$\\binom{k}{2}$ triads.  (Why?)"
   ]
  },
  {
   "cell_type": "code",
   "execution_count": null,
   "metadata": {},
   "outputs": [],
   "source": [
    "print(G.degree())\n",
    "print({k : v * (v-1) // 2 for k, v in dict(G.degree()).items()})\n",
    "nr_triads = sum([v * (v-1) // 2 for v in dict(G.degree()).values()])\n",
    "nr_triads"
   ]
  },
  {
   "cell_type": "markdown",
   "metadata": {},
   "source": [
    "The transitivity $T$ of `G` is the quotient of these two quantities, $T = 3 n_{\\Delta}/n_{\\wedge}$,\n",
    "which `networkx` computes with a function `transitivity`."
   ]
  },
  {
   "cell_type": "code",
   "execution_count": null,
   "metadata": {},
   "outputs": [],
   "source": [
    "print(triple_nr_triangles / nr_triads )\n",
    "print(nx.transitivity(G))"
   ]
  },
  {
   "cell_type": "markdown",
   "metadata": {},
   "source": [
    "* The transitivity of a $G(n, p)$ **random graph** is\n",
    "$$\n",
    "T = p,\n",
    "$$\n",
    "the probability of any edge as third edge in a triangle.\n",
    "(Or: Compute $3 n_{\\Delta}/n_{\\wedge}$ using the explicit formulas\n",
    "from the previous lecture: $n_{\\Delta} = \\binom{n}{3}p^3$ and $n_{\\wedge} = 3 \\binom{n}{3}p^2$.)"
   ]
  },
  {
   "cell_type": "markdown",
   "metadata": {},
   "source": [
    "The concept of **clustering** measures the transitivity of a node, or of an entire graph in a different way."
   ]
  },
  {
   "cell_type": "markdown",
   "metadata": {},
   "source": [
    "<div class=\"alert alert-warning\">\n",
    "\n",
    "**Definition (Clustering coefficient).**\n",
    "For a node $i \\in X$ of a graph $G = (X, E)$, denote by\n",
    "$G_i$ the subgraph induced on the neighbours of $i$ in $G$,\n",
    "and by $m(G_i)$ its number of edges.\n",
    "\n",
    "The **node clustering coefficient** $c_i$ of node $i$ is defined\n",
    "as\n",
    "$$\n",
    "c_i = \\begin{cases}\n",
    "\\binom{k_i}{2}^{-1} m(G_i), & k_i \\geq 2, \\\\\n",
    "0, & \\text{else.}\n",
    "\\end{cases}\n",
    "$$\n",
    "\n",
    "The **graph clustering coefficient** $C$ of $G$ is the \n",
    "average node clustering coefficient,\n",
    "$$\n",
    "C = \\langle c\\rangle = \\frac1n \\sum_{i=1}^n c_i.\n",
    "$$\n",
    "</div>"
   ]
  },
  {
   "cell_type": "markdown",
   "metadata": {},
   "source": [
    "By definition, $0 \\leq c_i \\leq 1$ for all nodes $i \\in X$, and $0 \\leq C \\leq 1$."
   ]
  },
  {
   "cell_type": "markdown",
   "metadata": {},
   "source": [
    "**Example.**"
   ]
  },
  {
   "cell_type": "code",
   "execution_count": null,
   "metadata": {},
   "outputs": [],
   "source": [
    "G = nx.Graph([(0,1), (0,2), (0,3), (0,4), (1,2), (1,3), (2,3), (3,4)])\n",
    "nx.draw(G, **opts)"
   ]
  },
  {
   "cell_type": "code",
   "execution_count": null,
   "metadata": {},
   "outputs": [],
   "source": [
    "N = nx.neighbors(G, 0)\n",
    "S = G.subgraph(list(N))\n",
    "nx.draw(S, **opts)"
   ]
  },
  {
   "cell_type": "code",
   "execution_count": null,
   "metadata": {},
   "outputs": [],
   "source": [
    "nS = S.number_of_nodes()\n",
    "nS_choose_2 = nS * (nS - 1) // 2\n",
    "mS = S.number_of_edges()\n",
    "print(nS, mS, mS / nS_choose_2 )"
   ]
  },
  {
   "cell_type": "code",
   "execution_count": null,
   "metadata": {},
   "outputs": [],
   "source": [
    "nx.clustering(G)"
   ]
  },
  {
   "cell_type": "code",
   "execution_count": null,
   "metadata": {},
   "outputs": [],
   "source": [
    "nx.average_clustering(G)"
   ]
  },
  {
   "cell_type": "markdown",
   "metadata": {},
   "source": [
    "* The **node clustering coefficient** of any node $i$ in a $G(n, p)$ **random graph** is\n",
    "$c_i = p$. (In any selection of potential edges, by construction a proportion of $p$ is\n",
    "present in the random graph; this is true in particular for the $\\binom{k}{2}$ potential\n",
    "edges between the $k$ neighbors of a node of degree $k$.)\n",
    "\n",
    "* Thus the **graph clustering coefficient** of a $G(n, p)$ **random graph** is\n",
    "$$\n",
    "C = p.\n",
    "$$\n",
    "\n",
    "* Note that when $p(n) = \\langle k \\rangle n^{-1}$ for a fixed expected average degree $\\langle k \\rangle$\n",
    "then $C = \\langle k \\rangle / n \\to 0$ for $n \\to \\infty$: in large random graphs\n",
    "the number of triangles is negligible.\n",
    "\n",
    "* In real world networks, one often observes that $C / \\langle k \\rangle$ does not depend.\n",
    "on $n$ (as $n \\to \\infty$)"
   ]
  },
  {
   "cell_type": "markdown",
   "metadata": {},
   "source": [
    "### Clustering vs Transitivity\n",
    "\n",
    "For a node $i \\in X$, denote by $n_i^{\\wedge} = \\binom{k_i}{2}$ the number of\n",
    "triads containing $i$ as their central node, and by $n_i^{\\Delta}$ the actual\n",
    "number of triangles containing $i$.\n",
    "\n",
    "Then the node clustering coefficients is $c_i = n_i^{\\Delta}/n_i^{\\wedge}$,\n",
    "or $n_i^{\\Delta} = n_i^{\\wedge} c_i$.\n",
    "\n",
    "Moreover $3 n_{\\Delta} = \\sum_i n_i^{\\Delta}$ and $n_{\\wedge} = \\sum_i n_i^{\\wedge}$.\n",
    "\n",
    "It follows that\n",
    "$$\n",
    "T = \\frac{3 n_{\\Delta}}{n_{\\wedge}} = \\frac1{n_{\\wedge}} \\sum_i n_i^{\\wedge} c_i\n",
    "$$\n",
    "in contrast to\n",
    "$$\n",
    "C = \\frac1n \\sum_i c_i,\n",
    "$$\n",
    "$C$ is the (plain) **average** of the node clustering coefficients, whereas $T$ is a\n",
    "**weighted average** of node clustering coefficients, giving higher weight to\n",
    "high degree nodes."
   ]
  },
  {
   "cell_type": "markdown",
   "metadata": {},
   "source": [
    "The following example illustrates how $C$ and $T$ are different measures: as $n \\to \\infty$ here, $T \\to 0$ while $C \\to 1$."
   ]
  },
  {
   "cell_type": "code",
   "execution_count": null,
   "metadata": {},
   "outputs": [],
   "source": [
    "n = 20\n",
    "G = nx.Graph([\"AB\"])\n",
    "G.add_edges_from([(x, k) for x in \"AB\" for k in range(n)])\n",
    "    \n",
    "nx.draw(G, **opts)"
   ]
  },
  {
   "cell_type": "code",
   "execution_count": null,
   "metadata": {},
   "outputs": [],
   "source": [
    "nx.average_clustering(G), nx.transitivity(G)"
   ]
  },
  {
   "cell_type": "markdown",
   "metadata": {},
   "source": [
    "##  Code Corner"
   ]
  },
  {
   "cell_type": "markdown",
   "metadata": {},
   "source": [
    "### `networkx`"
   ]
  },
  {
   "cell_type": "markdown",
   "metadata": {},
   "source": [
    "* `shortest_path_length` : [[doc]](https://networkx.org/documentation/stable/reference/algorithms/generated/networkx.algorithms.shortest_paths.generic.shortest_path_length.html)\n",
    "\n",
    "\n",
    "* `eccentricity`: [[doc]](https://networkx.org/documentation/stable/reference/algorithms/generated/networkx.algorithms.distance_measures.eccentricity.html)\n",
    "\n",
    "\n",
    "* `triangles`: [[doc]](https://networkx.org/documentation/stable/reference/algorithms/generated/networkx.algorithms.cluster.triangles.html)\n",
    "\n",
    "\n",
    "* `transitivity`: [[doc]](https://networkx.org/documentation/stable/reference/algorithms/generated/networkx.algorithms.cluster.transitivity.html)\n",
    "\n",
    "\n",
    "* `clustering`: [[doc]](https://networkx.org/documentation/stable/reference/algorithms/generated/networkx.algorithms.cluster.clustering.html)\n",
    "\n",
    "\n",
    "* `average_clustering`: [[doc]](https://networkx.org/documentation/stable/reference/algorithms/generated/networkx.algorithms.cluster.average_clustering.html)"
   ]
  },
  {
   "cell_type": "markdown",
   "metadata": {},
   "source": [
    "##  Exercises"
   ]
  },
  {
   "cell_type": "markdown",
   "metadata": {},
   "source": [
    "1. What are the characteristic path length $L$, the transitivity $T$, and the clustering coefficient $C$\n",
    "of the Peterson graph?\n",
    "\n",
    "1. What are the characteristic path length $L$, the transitivity $T$, and the clustering coefficient $C$\n",
    "of the Florentine families marital graph?\n",
    "\n",
    "2. What is the transitivity and what is the clustering coefficient\n",
    "of a complete graph on $n$ nodes?\n",
    "\n",
    "3. What is the transitivity and what is the clustering coefficient\n",
    "of a tree on $n$ nodes?\n",
    "\n",
    "1. Design an experiment with random graphs to verify the predicted characteristic path length.\n",
    "\n",
    "1. Design an experiment with random graphs to verify the predicted graph clustering coefficient."
   ]
  },
  {
   "cell_type": "code",
   "execution_count": null,
   "metadata": {},
   "outputs": [],
   "source": []
  }
 ],
 "metadata": {
  "kernelspec": {
   "display_name": "Python 3",
   "language": "python",
   "name": "python3"
  },
  "language_info": {
   "codemirror_mode": {
    "name": "ipython",
    "version": 3
   },
   "file_extension": ".py",
   "mimetype": "text/x-python",
   "name": "python",
   "nbconvert_exporter": "python",
   "pygments_lexer": "ipython3",
   "version": "3.7.6"
  }
 },
 "nbformat": 4,
 "nbformat_minor": 2
}

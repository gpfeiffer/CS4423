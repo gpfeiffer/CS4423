{
 "cells": [
  {
   "cell_type": "markdown",
   "metadata": {},
   "source": [
    "### CS4423 - Networks\n",
    "Prof. Götz Pfeiffer<br />\n",
    "School of Mathematics, Statistics and Applied Mathematics<br />\n",
    "NUI Galway"
   ]
  },
  {
   "cell_type": "markdown",
   "metadata": {},
   "source": [
    "#### 4. Random Networks\n",
    "\n",
    "# Lecture 10: Erdös-Rényi Random Graph Models."
   ]
  },
  {
   "cell_type": "markdown",
   "metadata": {},
   "source": [
    "A [random graph](https://en.wikipedia.org/wiki/Random_graph) is a mathematical model of a family of networks, where certain parameters (like the number of nodes and edges) have fixed values, but other aspects (like the actual edges) are randomly assigned. The simplest example of a random graph is in fact the network $G(n,m)$ with fixed numbers $n$ of nodes and $m$ of edges, placed randomly between the vertices. Although a random graph is not a specific object, many of its properties can be described precisely, in the form of expected values, or probability distributions."
   ]
  },
  {
   "cell_type": "markdown",
   "metadata": {},
   "source": [
    "<img src=\"https://upload.wikimedia.org/wikipedia/commons/thumb/1/13/Erdos_generated_network-p0.01.jpg/1280px-Erdos_generated_network-p0.01.jpg\">"
   ]
  },
  {
   "cell_type": "code",
   "execution_count": null,
   "metadata": {},
   "outputs": [],
   "source": [
    "import networkx as nx\n",
    "import random\n",
    "opts = { \"with_labels\": True, \"node_color\": 'y'}\n",
    "opts1 = { \"with_labels\": True, \"node_color\": 'lightblue'}"
   ]
  },
  {
   "cell_type": "markdown",
   "metadata": {},
   "source": [
    "## Random Samples"
   ]
  },
  {
   "cell_type": "markdown",
   "metadata": {},
   "source": [
    "In order to randomly select edges on a given vertex set $X$, we need a procedure\n",
    "for selecting $m$ from $n$ things randomly, in such a way that each of the $\\binom{n}{m}$\n",
    "subsets of the $n$ things is an equally likely outcome.\n",
    "We first discuss sampling $m$ values in the range $\\{0, 1, \\dots, n{-}1\\}$."
   ]
  },
  {
   "cell_type": "markdown",
   "metadata": {},
   "source": [
    "Maybe the most obvious approach is to select each number in the desired range with probability $p = m/n$.\n",
    "`Python`'s basic random number generator\n",
    "`random.random` returns a random number in the (half-open) interval $[0, 1)$,\n",
    "every time it is called.  \n",
    "Looping with `a` over `range(n)`, if this random number is less than $p$, we include the current\n",
    "value of `a`, if not we don't."
   ]
  },
  {
   "cell_type": "code",
   "execution_count": null,
   "metadata": {},
   "outputs": [],
   "source": [
    "def random_sample_B(n, p):\n",
    "    \"sample elements in range(n) with probability p\"\n",
    "    sample = []\n",
    "    for a in range(n):\n",
    "        if random.random() < p:\n",
    "            sample.append(a)\n",
    "    return sample"
   ]
  },
  {
   "cell_type": "markdown",
   "metadata": {},
   "source": [
    "Let's see a small example:"
   ]
  },
  {
   "cell_type": "code",
   "execution_count": null,
   "metadata": {},
   "outputs": [],
   "source": [
    "n = 100\n",
    "m = 10"
   ]
  },
  {
   "cell_type": "code",
   "execution_count": null,
   "metadata": {},
   "outputs": [],
   "source": [
    "pick = random_sample_B(n, m/n)\n",
    "pick"
   ]
  },
  {
   "cell_type": "code",
   "execution_count": null,
   "metadata": {},
   "outputs": [],
   "source": [
    "len(pick)"
   ]
  },
  {
   "cell_type": "markdown",
   "metadata": {},
   "source": [
    "Unfortunately, this gives a sample of size $m$ only on average.\n",
    "Let's check the average size of, say, $10000$ samples."
   ]
  },
  {
   "cell_type": "code",
   "execution_count": null,
   "metadata": {},
   "outputs": [],
   "source": [
    "c = 10000\n",
    "sum(len(random_sample_B(n, m/n)) for i in range(c))/c"
   ]
  },
  {
   "cell_type": "markdown",
   "metadata": {},
   "source": [
    "* Let $k$ be the sample size, as a random variable.\n",
    "\n",
    "* **Expected value:** $E[k] = np = m$.\n",
    "\n",
    "**Proof:** This is a [binomial distribution](https://en.wikipedia.org/wiki/Binomial_distribution).\n",
    "\n",
    "* The probability of a specific subset of size $k$ to be chosen is $p^k (1-p)^{n-k}$.\n",
    "\n",
    "* As there are $\\binom{n}{k}$ subsets of size $k$, the probabilty $P(k)$\n",
    "  of the sample to have size $k$ is $P(k) = \\binom{n}{k} p^k (1-p)^{n-k}$.\n",
    "  \n",
    "* Thus $E[k] = \\sum_{k=0}^n P(k) \\cdot k\n",
    "= \\sum_{k=0}^n k \\binom{n}{k} p^k (1-p)^{n-k}\n",
    "= np\\sum_{l=0}^{n-1} \\binom{n-1}{l} p^l (1-p)^{(n-1)-l}\n",
    "= np\n",
    "$, substituting $l = k - 1$,\n",
    "\n",
    "* as $k \\binom{n}{k} p^k = np \\binom{n-1}{k-1} p^{k-1}$ and $(1-p)^{n-k} = (1-p)^{(n-1)-(k-1)}$."
   ]
  },
  {
   "cell_type": "markdown",
   "metadata": {},
   "source": [
    "* **Standard deviation**: $\\sigma_k = \\sqrt{m(1 - m/n)}$.\n",
    "\n",
    "* $E[k^2] = \\sum_{k=0}^n P(k) \\cdot k^2 = \\cdots = n(n-1)p^2 + np$.\n",
    "\n",
    "* $E[k^2] - E[k]^2 = n(n-1)p^2 + np - (np)^2 = np(1-p)$."
   ]
  },
  {
   "cell_type": "code",
   "execution_count": null,
   "metadata": {},
   "outputs": [],
   "source": [
    "c = 10000\n",
    "sum(1 for i in range(c) if len(random_sample_B(n, m/n)) == m)"
   ]
  },
  {
   "cell_type": "markdown",
   "metadata": {},
   "source": [
    "A simple modification of this procedure will always yield samples of size $m$\n",
    "[see Knuth: The Art of Computer Programming, Vol. 2, Section 3.4.2, Algorithm S] :\n",
    "\n",
    "* number $a$ should be selected with probability $(m-c)/(n-a)$,\n",
    "if $c$ items have already been selected."
   ]
  },
  {
   "cell_type": "code",
   "execution_count": null,
   "metadata": {},
   "outputs": [],
   "source": [
    "def random_sample_A(n, m):\n",
    "    sample = []\n",
    "    for a in range(n):\n",
    "        if (n - a) * random.random() < m - len(sample):\n",
    "            sample.append(a)\n",
    "    return sample"
   ]
  },
  {
   "cell_type": "markdown",
   "metadata": {},
   "source": [
    "Let's see a small example."
   ]
  },
  {
   "cell_type": "code",
   "execution_count": null,
   "metadata": {},
   "outputs": [],
   "source": [
    "pick = random_sample_A(n, m)\n",
    "pick"
   ]
  },
  {
   "cell_type": "code",
   "execution_count": null,
   "metadata": {},
   "outputs": [],
   "source": [
    "len(pick)"
   ]
  },
  {
   "cell_type": "markdown",
   "metadata": {},
   "source": [
    "We now apply these strategies A and B to the problem of randomly selection edges for a graph on the vertex set $X = \\{0, 1, \\dots, n-1\\}$."
   ]
  },
  {
   "cell_type": "markdown",
   "metadata": {},
   "source": [
    "## Uniformly Selected Edges"
   ]
  },
  {
   "cell_type": "markdown",
   "metadata": {},
   "source": [
    "Let us denote by $G(n, m)$ a network with $n$ nodes and $m$ chosen\n",
    "edges, chosen uniformly at random (out of the possible\n",
    "$\\binom{n}{2}$).  Equivalently, one can choose uniformly at random\n",
    "one network in the **set** $G(n, m)$ of **all** networks on a given set\n",
    "of $n$ nodes with **exactly** $m$ edges."
   ]
  },
  {
   "cell_type": "markdown",
   "metadata": {},
   "source": [
    "<div class=\"alert alert-danger\">\n",
    "\n",
    "**Definition (ER Model $A$: Uniform Random Graphs).**\n",
    "Let $n \\geq 1$, let $N = \\binom{n}{2}$ and let $0 \\leq m \\leq N$.\n",
    "\n",
    "The model $G(n, m)$ consists of the ensemble of graphs $G$\n",
    "with $n$ nodes $X = \\{0, 1, \\dots, n{-}1\\}$, and $m$ randomly selected\n",
    "edges, chosen uniformly from the $N$ possible edges.\n",
    "\n",
    "</div>"
   ]
  },
  {
   "cell_type": "markdown",
   "metadata": {},
   "source": [
    "One could think of $G(n, m)$ as a probability distribution\n",
    "$P \\colon G(n, m) \\to \\mathbb{R}$,\n",
    "that assigns to each network $G \\in G(n, m)$ the same probability\n",
    "$$\n",
    "P(G) = \\binom{N}{m}^{-1},\n",
    "$$\n",
    "where $N = \\binom{n}{2}$."
   ]
  },
  {
   "cell_type": "markdown",
   "metadata": {},
   "source": [
    "For example ..."
   ]
  },
  {
   "cell_type": "markdown",
   "metadata": {},
   "source": [
    "<img src=\"images/random-gnm.png\">"
   ]
  },
  {
   "cell_type": "markdown",
   "metadata": {},
   "source": [
    "A function `random_graph_A` that\n",
    "takes the order $n$ and the size $m$ of a random ER graph of type A\n",
    "as arguments, and constructs such a graph can simply follow the \n",
    "`random_sample_A` algorithm and sample exactly $m$ of the $N = \\binom{n}{2}$\n",
    "available edges.  We introduce explicit counters\n",
    "`a` (for the number of edges that have been considered)\n",
    "and `c` (for the number of chosen edges)."
   ]
  },
  {
   "cell_type": "code",
   "execution_count": null,
   "metadata": {},
   "outputs": [],
   "source": [
    "def random_graph_A(n, m):\n",
    "    \"\"\"construct a random type A graph\n",
    "    with n nodes and m links\"\"\"\n",
    "    a = c = 0\n",
    "    N = n * (n-1) // 2\n",
    "    G = nx.empty_graph(n)\n",
    "    for x in range(n):\n",
    "        for y in range(x):\n",
    "            if (N - a) * random.random() < m - c:\n",
    "                G.add_edge(x, y)\n",
    "                c += 1\n",
    "            a += 1\n",
    "    return G"
   ]
  },
  {
   "cell_type": "markdown",
   "metadata": {},
   "source": [
    "Now we can construct and draw a random graph on $16$ vertices with $15$ edges."
   ]
  },
  {
   "cell_type": "code",
   "execution_count": null,
   "metadata": {},
   "outputs": [],
   "source": [
    "n = 16\n",
    "m = 15"
   ]
  },
  {
   "cell_type": "code",
   "execution_count": null,
   "metadata": {},
   "outputs": [],
   "source": [
    "G = random_graph_A(n, m)\n",
    "nx.draw(G, **opts)"
   ]
  },
  {
   "cell_type": "code",
   "execution_count": null,
   "metadata": {},
   "outputs": [],
   "source": [
    "G.number_of_edges()"
   ]
  },
  {
   "cell_type": "markdown",
   "metadata": {},
   "source": [
    "The `networkx` version of this random graph constructor is called `gnm_random_graph`\n",
    "and should produce the same random graphs with the same probability. "
   ]
  },
  {
   "cell_type": "code",
   "execution_count": null,
   "metadata": {},
   "outputs": [],
   "source": [
    "G = nx.gnm_random_graph(n, m)\n",
    "nx.draw(G, **opts1)"
   ]
  },
  {
   "cell_type": "code",
   "execution_count": null,
   "metadata": {},
   "outputs": [],
   "source": [
    "list(G.nodes())"
   ]
  },
  {
   "cell_type": "markdown",
   "metadata": {},
   "source": [
    "## An Animated Random Graph"
   ]
  },
  {
   "cell_type": "markdown",
   "metadata": {},
   "source": [
    "Adding one randomly selected edge at a time ... until the [graph](http://schmidt.nuigalway.ie/cs4423/random.html) is connected."
   ]
  },
  {
   "cell_type": "markdown",
   "metadata": {},
   "source": [
    "## Randomly Selected Edges"
   ]
  },
  {
   "cell_type": "markdown",
   "metadata": {},
   "source": [
    "<div class=\"alert alert-danger\">\n",
    "\n",
    "**Definition (ER Model $B$: Binomial Random Graphs).**\n",
    "Let $n \\geq 1$, let $N = \\binom{n}{2}$ and let $0 \\leq p \\leq 1$.\n",
    "\n",
    "\n",
    "The model $G(n, p)$ consists of the ensemble of graphs $G$\n",
    "with $n$ nodes $X = \\{0, 1, \\dots, n{-}1\\}$, and each of the $N$\n",
    "possible edges chosen with probability $p$.\n",
    "</div>"
   ]
  },
  {
   "cell_type": "markdown",
   "metadata": {},
   "source": [
    "The probability $P_G$ of a particular graph $G = (X, E)$ with \n",
    "$X = \\{0, 1, \\dots, n{-}1\\}$ and\n",
    "$m = |E|$ edges in the $G(n, p)$ model is\n",
    "$$\n",
    "P_G = p^m(1-p)^{N-m}.\n",
    "$$"
   ]
  },
  {
   "cell_type": "markdown",
   "metadata": {},
   "source": [
    "For example ..."
   ]
  },
  {
   "cell_type": "markdown",
   "metadata": {},
   "source": [
    "<img src=\"images/random-gnp.png\">"
   ]
  },
  {
   "cell_type": "markdown",
   "metadata": {},
   "source": [
    "Such a random graph is easy to generate programmatically, \n",
    "following the `random_sample_B` algorithm.\n",
    "`python`'s basic random number generator\n",
    "`random.random` returns a random number in the (half-open) interval $[0, 1)$,\n",
    "every time it is called.  If this number is less than $p$, we include the edge, if not we don't."
   ]
  },
  {
   "cell_type": "code",
   "execution_count": null,
   "metadata": {},
   "outputs": [],
   "source": [
    "def random_graph_B(n, p):\n",
    "    \"\"\"construct a random type B graph\n",
    "    with n nodes and edge probability p\"\"\"\n",
    "    G = nx.empty_graph(n)\n",
    "    for x in range(n):\n",
    "        for y in range(x):\n",
    "            if random.random() < p:\n",
    "                G.add_edge(x, y)\n",
    "    return G"
   ]
  },
  {
   "cell_type": "code",
   "execution_count": null,
   "metadata": {},
   "outputs": [],
   "source": [
    "n = 16\n",
    "m = 15\n",
    "N = n*(n-1)//2\n",
    "m/N"
   ]
  },
  {
   "cell_type": "code",
   "execution_count": null,
   "metadata": {},
   "outputs": [],
   "source": [
    "G = random_graph_B(n, m/N)\n",
    "nx.draw(G, **opts)"
   ]
  },
  {
   "cell_type": "code",
   "execution_count": null,
   "metadata": {},
   "outputs": [],
   "source": [
    "G.number_of_nodes(), G.number_of_edges()"
   ]
  },
  {
   "cell_type": "markdown",
   "metadata": {},
   "source": [
    "The `networkx` version of this random graph constructor is called `gnp_random_graph`\n",
    "and should produce the same random graphs with the same probability. "
   ]
  },
  {
   "cell_type": "code",
   "execution_count": null,
   "metadata": {},
   "outputs": [],
   "source": [
    "G = nx.gnp_random_graph(n, m/N)\n",
    "nx.draw(G, **opts1)"
   ]
  },
  {
   "cell_type": "code",
   "execution_count": null,
   "metadata": {},
   "outputs": [],
   "source": [
    "G.number_of_nodes(), G.number_of_edges()"
   ]
  },
  {
   "cell_type": "markdown",
   "metadata": {},
   "source": [
    "##  Code Corner"
   ]
  },
  {
   "cell_type": "markdown",
   "metadata": {},
   "source": [
    "### `random`\n",
    "\n",
    "* `random`: [[doc]](https://docs.python.org/2/library/random.html#random.random)\n",
    "\n",
    "\n",
    "* `sample`: [[doc]](https://docs.python.org/2/library/random.html#random.sample)"
   ]
  },
  {
   "cell_type": "markdown",
   "metadata": {},
   "source": [
    "### `numpy`\n",
    "\n",
    "* `random.choice`: [[doc]](https://docs.scipy.org/doc/numpy-1.14.0/reference/generated/numpy.random.choice.html)"
   ]
  },
  {
   "cell_type": "markdown",
   "metadata": {},
   "source": [
    "### `networkx`\n",
    "\n",
    "* `gnm_random_graph`: [[doc]](https://networkx.github.io/documentation/stable/reference/generated/networkx.generators.random_graphs.gnm_random_graph.html)\n",
    "\n",
    "\n",
    "* `gnp_random_graph`: [[doc]](https://networkx.github.io/documentation/stable/reference/generated/networkx.generators.random_graphs.gnp_random_graph.html)"
   ]
  },
  {
   "cell_type": "markdown",
   "metadata": {},
   "source": [
    "##  Exercises"
   ]
  },
  {
   "cell_type": "markdown",
   "metadata": {},
   "source": [
    "1. Why does the algorithm used in the `random_sample_A` function above pick every $m$-element subset\n",
    "of the set $\\{0, 1, \\dots, n-1\\}$ with the same probability?\n",
    "\n",
    "2. Design an experiment, that verifies this claim.  (E.g., there are $\\binom{10}{3} = 120$ different $3$-element\n",
    "subsets in a $10$-element set.  One could use `python`'s `frozenset`s to make each of these $3$-element sets\n",
    "a key in a dictionary which counts how often each set is picked when `random_sample_A` is applied a large number of times ...)\n",
    "\n",
    "1.  What is the expected number $E[m]$ of edges in the $G(n, p)$ model of random graphs?\n",
    "\n",
    "2.  What is the standard deviation $\\sigma_m$ of the number of edges in the\n",
    "$G(n, p)$ model?"
   ]
  },
  {
   "cell_type": "code",
   "execution_count": null,
   "metadata": {},
   "outputs": [],
   "source": []
  }
 ],
 "metadata": {
  "kernelspec": {
   "display_name": "Python 3",
   "language": "python",
   "name": "python3"
  },
  "language_info": {
   "codemirror_mode": {
    "name": "ipython",
    "version": 3
   },
   "file_extension": ".py",
   "mimetype": "text/x-python",
   "name": "python",
   "nbconvert_exporter": "python",
   "pygments_lexer": "ipython3",
   "version": "3.7.6"
  }
 },
 "nbformat": 4,
 "nbformat_minor": 2
}

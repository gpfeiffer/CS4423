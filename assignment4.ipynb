{
 "cells": [
  {
   "cell_type": "markdown",
   "metadata": {},
   "source": [
    "### CS4423 - Networks\n",
    "Prof. Götz Pfeiffer<br />\n",
    "School of Mathematics, Statistics and Applied Mathematics<br />\n",
    "NUI Galway"
   ]
  },
  {
   "cell_type": "markdown",
   "metadata": {},
   "source": [
    "# Assignment 4"
   ]
  },
  {
   "cell_type": "markdown",
   "metadata": {},
   "source": [
    "Provide answers to the problems in the boxes provided.  \n",
    "\n",
    "The buttons at the top of the page can be used to **create\n",
    "more boxes if needed**.\n",
    "The type of box can be changed from `Code` to `Markdown`.\n",
    "`Code` boxes take (and execute) `python` code.\n",
    "`Markdown` boxes take (and format nicely) **text input**.\n",
    "In this way, you can provide answers, ask questions, \n",
    "or raise issues, in words.\n",
    "\n",
    "Some marks will be awarded for\n",
    "participation and engagement.\n",
    "\n",
    "When finished, print this notebook into a **pdf** file and submit this to\n",
    "**blackboard**.\n",
    "\n",
    "**Deadline** is next Monday at 5pm."
   ]
  },
  {
   "cell_type": "markdown",
   "metadata": {},
   "source": [
    "## Setup"
   ]
  },
  {
   "cell_type": "markdown",
   "metadata": {},
   "source": [
    "This is a `jupyter` notebook.   You can open and interact\n",
    "with the notebook through one of sites recommended at\n",
    "its [github](https://github.com/gpfeiffer/cs4423) repository.\n",
    "\n",
    "Or, you can\n",
    "install and use `jupyter` as a `python` package on your own laptop or PC.  "
   ]
  },
  {
   "cell_type": "markdown",
   "metadata": {},
   "source": [
    "The following command loads the `networkx` package into the current session.  \n",
    "The next command specifies some standard options that can be useful for drawing graphs.  \n",
    "\n",
    "In order to execute the code in a box,\n",
    "use the mouse or arrow keys to highlight the box and then press SHIFT-RETURN."
   ]
  },
  {
   "cell_type": "code",
   "execution_count": null,
   "metadata": {},
   "outputs": [],
   "source": [
    "import networkx as nx\n",
    "import pandas as pd\n",
    "import matplotlib.pyplot as plt\n",
    "opts = { \"with_labels\": True, \"node_color\": 'y' }"
   ]
  },
  {
   "cell_type": "markdown",
   "metadata": {},
   "source": [
    "Should it ever happen that the notebook becomes unusable, start again with a fresh copy."
   ]
  },
  {
   "cell_type": "markdown",
   "metadata": {},
   "source": [
    "## 1.  The Brain-of-a-Worm Network"
   ]
  },
  {
   "cell_type": "markdown",
   "metadata": {},
   "source": [
    "The [connectome](https://en.wikipedia.org/wiki/Connectome) of an organism is a comprehensive map of\n",
    "all neural connections between the neurons in the brain.   [C. Elegans](https://en.wikipedia.org/wiki/Caenorhabditis_elegans) is a small worm (1mm long)\n",
    "whose neural network has been completely determined by the South African biologist [Sydney Brenner](https://en.wikipedia.org/wiki/Sydney_Brenner), who won a Nobel prize for this work in 2002.\n",
    "\n",
    "An *undirected* connected version of this network on 279 nodes with 2287 connections is available from the \n",
    "book's [website](http://www.complex-networks.net/) and is copied here into a single file [`c_elegans_undir.net`](c_elegans_undir.net).  This file is in the [pajek](http://mrvar.fdv.uni-lj.si/pajek/) format,\n",
    "and can be imported into this notebook with the `nx.read_pajek` command.  This command\n",
    "constructs a *multigraph*, which can easily be converted into a (simple) graph by applying \n",
    "the `nx.Graph` constructor to it."
   ]
  },
  {
   "cell_type": "code",
   "execution_count": null,
   "metadata": {},
   "outputs": [],
   "source": [
    "G = nx.read_pajek(\"data/c_elegans_undir.net\")\n",
    "G = nx.Graph(G)"
   ]
  },
  {
   "cell_type": "markdown",
   "metadata": {},
   "source": [
    "**Don't draw this graph!** It is too big to produce a meaningful picture."
   ]
  },
  {
   "cell_type": "markdown",
   "metadata": {},
   "source": [
    "Use appropriate `networkx` commands to determine:\n",
    "* the number of vertices $n$ of `G`,\n",
    "* the number of edges $m$ of `G`,\n",
    "* the characteristic path length $L$ of `G`,\n",
    "* the clustering coefficient $C$ of `G`,\n",
    "* the number of triangles $n_{\\Delta}$ in `G` and\n",
    "* the transitivity $T = 3 n_{\\Delta} / n_{\\wedge}$ of `G`."
   ]
  },
  {
   "cell_type": "code",
   "execution_count": null,
   "metadata": {},
   "outputs": [],
   "source": []
  },
  {
   "cell_type": "markdown",
   "metadata": {},
   "source": [
    "## 2. Degree Distribution"
   ]
  },
  {
   "cell_type": "markdown",
   "metadata": {},
   "source": [
    "Any graph $G$ with $n$ nodes and $m$ edges can be compared to a random $G(n, m)$\n",
    "graph with the same parameters, or to a random $G(n, p)$ graph with parameter $p = m/\\binom{n}{2}$.\n",
    "One attribute of interest is the [**degree distribution**](https://en.wikipedia.org/wiki/Degree_distribution) of $G$.  We know that the degree distribution \n",
    "of a random $G(n, p)$ graph is [binomial](https://en.wikipedia.org/wiki/Binomial_distribution).  How does the worm's brain compare to that?\n",
    "\n",
    "For example, with  $n = 100$ and $m = 292$, one can generate a random graph and\n",
    "plot its node degrees as a histogram, as follows:"
   ]
  },
  {
   "cell_type": "code",
   "execution_count": null,
   "metadata": {},
   "outputs": [],
   "source": [
    "R = nx.gnm_random_graph(100, 292)\n",
    "hist = nx.degree_histogram(R)\n",
    "df = pd.DataFrame(hist)\n",
    "df.plot.bar()"
   ]
  },
  {
   "cell_type": "markdown",
   "metadata": {},
   "source": [
    "Does that look like a binomial distribution?"
   ]
  },
  {
   "cell_type": "markdown",
   "metadata": {},
   "source": [
    "* For parameters $n$ and $m$ chosen identical to those of the worm brain graph `G`,\n",
    "construct a random $G(n, m)$ graph `R`.\n",
    "\n",
    "* Determine and plot the degree histogram of `R`.\n",
    "\n",
    "* Determine and plot the degree histogram of `G`.\n",
    "\n",
    "* In your own words, describe the difference in appearance between the two plots\n",
    "(in the text cell below, the one that does not have `In []:` written against it)."
   ]
  },
  {
   "cell_type": "code",
   "execution_count": null,
   "metadata": {},
   "outputs": [],
   "source": []
  },
  {
   "cell_type": "markdown",
   "metadata": {},
   "source": [
    "... text goes here ..."
   ]
  },
  {
   "cell_type": "markdown",
   "metadata": {},
   "source": [
    "## 3. Clustering by Degree"
   ]
  },
  {
   "cell_type": "markdown",
   "metadata": {},
   "source": [
    "Another interesting exercise is studying how the (node) clustering coefficient of a graph $G = (X, E)$ depends on the degree of the nodes.\n",
    "For each value of $k$, denote by $X_k$ the set of nodes of degree $X_k$.  Then one can define the average clustering at degree $k$ as\n",
    "$$\n",
    "C_k = \\frac 1 {|X_k|} \\sum_{x \\in X_K} c(x),\n",
    "$$\n",
    "where $c(x)$ is the node clustering coefficient of vertex $x$.\n",
    "\n",
    "To plot $C_k$ against $k$ will need some preparation.  In order to determine the sets $X_k$,\n",
    "we can use the map constructed by `G.degree()`, which assigns to each node its degree,\n",
    "and revert it in such a way that each degree $k$ gets assigned the list of nodes of degree\n",
    "$k$.  This can be done with a general purpose `python` function that works with\n",
    "any `python` dictionary `kv`."
   ]
  },
  {
   "cell_type": "code",
   "execution_count": null,
   "metadata": {},
   "outputs": [],
   "source": [
    "def reversed_dict(kv):\n",
    "    reverse = {}\n",
    "    for k, v in kv.items():\n",
    "        reverse.setdefault(v, []).append(k)\n",
    "    return reverse"
   ]
  },
  {
   "cell_type": "markdown",
   "metadata": {},
   "source": [
    "For example,  a dictionary of the degrees of a random $G(n, p)$-graph `R` with $n = 16$ and $p = 0.125$\n",
    "is constructed like so."
   ]
  },
  {
   "cell_type": "code",
   "execution_count": null,
   "metadata": {},
   "outputs": [],
   "source": [
    "R = nx.gnp_random_graph(16, 0.125)\n",
    "degs = dict(R.degree())\n",
    "print(degs)"
   ]
  },
  {
   "cell_type": "markdown",
   "metadata": {},
   "source": [
    "This dictionary has as *keys* the 16 nodes $0, 1, \\dots, 15$,\n",
    "and for each key as *value* the corresponding node degree, most of the time $1$ or $2$.\n",
    "We want a dictionary that works in the opposite direction, i.e.. has keys $1$ and $2$\n",
    "(and whatever else occurs as node degree), and as value for key $2$, say, the list of\n",
    "all nodes that have degree $2$.  That's what the above function `reversed_dict` constructs:"
   ]
  },
  {
   "cell_type": "code",
   "execution_count": null,
   "metadata": {},
   "outputs": [],
   "source": [
    "nodes_by_degree = reversed_dict(degs)\n",
    "print(nodes_by_degree)"
   ]
  },
  {
   "cell_type": "markdown",
   "metadata": {},
   "source": [
    "Next, we apply the map returned (as `python` dictionary) by the `networkx` command `nx.clustering`\n",
    "to the node lists in `nodes_by_degree` to obtain a new dictionary `clustering_by_degree`\n",
    "which contains lists of node clustering coefficients in place of node names, one for each node degree $k$\n",
    "that occurs in the graph."
   ]
  },
  {
   "cell_type": "code",
   "execution_count": null,
   "metadata": {},
   "outputs": [],
   "source": [
    "clust = nx.clustering(R)\n",
    "print(clust)"
   ]
  },
  {
   "cell_type": "code",
   "execution_count": null,
   "metadata": {},
   "outputs": [],
   "source": [
    "clustering_by_degree = { d : [clust[x] for x in v] for d, v in nodes_by_degree.items() }\n",
    "print(clustering_by_degree)"
   ]
  },
  {
   "cell_type": "markdown",
   "metadata": {},
   "source": [
    "Finally, we can determine the average value `sum(v)/len(v)` of each list `v` in this dictionary,\n",
    "and obtain a list of pairs $(k, C_k)$."
   ]
  },
  {
   "cell_type": "code",
   "execution_count": null,
   "metadata": {},
   "outputs": [],
   "source": [
    "avg_clust_degree = [ (d, sum(v)/len(v)) for d, v in clustering_by_degree.items() ]\n",
    "print(avg_clust_degree)"
   ]
  },
  {
   "cell_type": "markdown",
   "metadata": {},
   "source": [
    "Unsurprisingly, the value of $C_k$ for both $k = 0$ and $k = 1$ is $0$.\n",
    "Using a `pandas` data frame, the resulting values can be plotted as a scatter plot like this:"
   ]
  },
  {
   "cell_type": "code",
   "execution_count": null,
   "metadata": {},
   "outputs": [],
   "source": [
    "df = pd.DataFrame(avg_clust_degree, columns = [\"k\", \"C_k\"] )\n",
    "df.plot.scatter(x = \"k\", y = \"C_k\")"
   ]
  },
  {
   "cell_type": "markdown",
   "metadata": {},
   "source": [
    "* For a random $G(n, m)$ graph `R` of the same degree and size as the worm brain network `G`,\n",
    "determine and plot the average degree clustering coefficients $C_k$.\n",
    "\n",
    "* Use an additional argument `loglog = True` in the plotting command\n",
    "(i.e., `df.plot.scatter(x = \"k\", y = \"C_k\", loglog = True)`) to obtain\n",
    "a [log-log plot](https://en.wikipedia.org/wiki/Log%E2%80%93log_plot) of the same data.\n",
    "\n",
    "* Determine and plot the average degree clustering coefficients $C_k$ for the worm brain graph `G`,\n",
    "again as a log-log plot.\n",
    "\n",
    "* In your own words, describe the difference, if any, between the two data sets\n",
    "in the text cell below."
   ]
  },
  {
   "cell_type": "code",
   "execution_count": null,
   "metadata": {},
   "outputs": [],
   "source": []
  },
  {
   "cell_type": "markdown",
   "metadata": {},
   "source": [
    "... text goes here ..."
   ]
  },
  {
   "cell_type": "markdown",
   "metadata": {},
   "source": [
    "## 4. Small World Models."
   ]
  },
  {
   "cell_type": "markdown",
   "metadata": {},
   "source": [
    "Random graphs in the Watts-Strogatz model are obtained from a regular\n",
    "$(n, d)$-circle graph by randomly rewiring all edges with a given probability $p$.\n",
    "Such a graph can be generated with the command `nx.watts_strogatz_graph(n, 2*d, p)`\n",
    "(note that the second argument is actually `2*d`)."
   ]
  },
  {
   "cell_type": "code",
   "execution_count": null,
   "metadata": {},
   "outputs": [],
   "source": [
    "n, d, p = 16, 3, 0.16\n",
    "G = nx.watts_strogatz_graph(n, 2*d, p)\n",
    "nx.draw_circular(G, **opts)"
   ]
  },
  {
   "cell_type": "markdown",
   "metadata": {},
   "source": [
    "Watts-Strogatz random graphs are supposed to be like real world networks in the sense that they\n",
    "combine relatively *short* characteristic path lengths with relatively *high* clustering coefficients."
   ]
  },
  {
   "cell_type": "markdown",
   "metadata": {},
   "source": [
    "*  For values $n = 1000$ and $d = 5$, produce a sequence of 50 (or so) $(n, d, p)$-WS graphs\n",
    "for different values of $p$ between $0$ and $1$\n",
    "(including the extreme cases $p = 0$ and $p = 1$).  Compute and compare their\n",
    "(graph) clustering coefficients and their characteristic path lengths.\n",
    "(Use smaller values for $n$ if $n = 1000$ turns out to be too demanding on resources.)\n",
    "\n",
    "* In your own words, in which range of values for $p$, do the generated graphs\n",
    "indeed have high clustering and short paths?"
   ]
  },
  {
   "cell_type": "code",
   "execution_count": null,
   "metadata": {},
   "outputs": [],
   "source": []
  },
  {
   "cell_type": "markdown",
   "metadata": {},
   "source": [
    "... text goes here ..."
   ]
  }
 ],
 "metadata": {
  "kernelspec": {
   "display_name": "Python 3",
   "language": "python",
   "name": "python3"
  },
  "language_info": {
   "codemirror_mode": {
    "name": "ipython",
    "version": 3
   },
   "file_extension": ".py",
   "mimetype": "text/x-python",
   "name": "python",
   "nbconvert_exporter": "python",
   "pygments_lexer": "ipython3",
   "version": "3.7.6"
  }
 },
 "nbformat": 4,
 "nbformat_minor": 2
}

{
 "cells": [
  {
   "cell_type": "markdown",
   "metadata": {},
   "source": [
    "### CS4423 - Networks\n",
    "Prof. Götz Pfeiffer<br />\n",
    "School of Mathematics, Statistics and Applied Mathematics<br />\n",
    "NUI Galway"
   ]
  },
  {
   "cell_type": "markdown",
   "metadata": {},
   "source": [
    "#### 7. Power Laws and Scale-Free Graphs\n",
    "\n",
    "# Lecture 17:  Configuration Model"
   ]
  },
  {
   "cell_type": "markdown",
   "metadata": {},
   "source": [
    "Many real world graphs have small world behaviour (high clustering and short paths) and\n",
    "also a power law degree distribution, due to the presence of nodes of exceptionally high degree.\n",
    "Random graphs do have short paths a but not high clustering; their degree distribution is not described by\n",
    "a power law.\n",
    "The small world graphs in the Watts-Strogatz model have high clustering and short paths, but again,\n",
    "not a power law degree distribution.\n",
    "\n",
    "So how can one generate a model of a network that does have a power law degree distribution?\n",
    "\n",
    "Here, we start with a power law, and build a random graph whose degrees are distributed exactly\n",
    "by this power law:  quite amazingly, the Configuration Model allows the generation of a random graph for\n",
    "any prescribed degree sequence.\n",
    "\n",
    "In the next lecture, we'll see a more dynamic approach to this question.\n"
   ]
  },
  {
   "cell_type": "code",
   "execution_count": null,
   "metadata": {},
   "outputs": [],
   "source": [
    "import random\n",
    "from collections import Counter\n",
    "import numpy as np\n",
    "import matplotlib.pyplot as plt\n",
    "import networkx as nx\n",
    "opts = { \"with_labels\": True, \"node_color\": 'y' }"
   ]
  },
  {
   "cell_type": "markdown",
   "metadata": {},
   "source": [
    "## The Configuration Model"
   ]
  },
  {
   "cell_type": "markdown",
   "metadata": {},
   "source": [
    "* In principle, a random graph can be generated in such \n",
    "a way that it has any prescribed degree sequence."
   ]
  },
  {
   "cell_type": "markdown",
   "metadata": {},
   "source": [
    "<div class=\"alert alert-warning\">\n",
    "    \n",
    "**Definition: Configuration Model.**\n",
    "\n",
    "* Choose numbers $d_i$, $i \\in X$,\n",
    "so that $\\sum d_i = 2m$ is an even number.\n",
    "\n",
    "* Then regard each degree $d_i$ as $d_i$ **stubs** (half-edges) attached to node $i$.\n",
    "\n",
    "* Compute a random **matching** of pairs of stubs\n",
    "and build a graph on $X$ with those (full) edges.\n",
    "    \n",
    "</div>"
   ]
  },
  {
   "cell_type": "markdown",
   "metadata": {},
   "source": [
    "<div class=\"alert alert-success\">\n",
    "\n",
    "**Example**.  Suppose that $X = \\{0, 1, 2, 3, 4\\}$\n",
    "and that we want those nodes to have degrees \n",
    "$d_0 = 3$, $d_1 = 2$ and $d_2 = d_3 = d_4 = 1$.\n",
    "\n",
    "This gives a list of stubs $(0, 0, 0, 1, 1, 2, 3, 4)$\n",
    "where each node $i$ appears as often as its degree $d_i$\n",
    "requires.\n",
    "\n",
    "A random shuffle of that list is\n",
    "$(0, 2, 3, 0, 1, 0, 4, 1)$.\n",
    "\n",
    "One way to construct a matching is to simply cut this list in half\n",
    "and match entries of the first half with corresponsing entries in the second half.\n",
    "$$\n",
    "\\begin{array}{cccc}\n",
    "0 & 2 & 3 & 0\\\\\n",
    "1 & 0 & 4 & 1\n",
    "\\end{array}\n",
    "$$\n",
    "Note that $\\sum d_i = 8 = 2m$ yields $m = 4$ edges $0-1$, $2-0$, $3-4$, and $0-1$ ...\n",
    "    \n",
    "</div>"
   ]
  },
  {
   "cell_type": "markdown",
   "metadata": {},
   "source": [
    "### A Quick Implementation"
   ]
  },
  {
   "cell_type": "code",
   "execution_count": null,
   "metadata": {},
   "outputs": [],
   "source": [
    "degrees = [3, 2, 1, 1, 1]"
   ]
  },
  {
   "cell_type": "markdown",
   "metadata": {},
   "source": [
    "* Recall that, in Python, list addresses start at $0$,\n",
    "and `networkx` default node names do likewise.\n",
    "Let's adopt this convention here.\n",
    "\n",
    "* Now entry $3$ in position $0$ of the list `degrees` stands for\n",
    "$3$ entries $0$ in the list of stubs, to be constructed.\n",
    "Entry $2$ in position $1$ stands for $2$ entries $1$ in\n",
    "the list of stubs and so on.\n",
    "In general, entry $d$ in position $i$ stands for\n",
    "$d$ entries $i$ in the list of stubs.\n",
    "\n",
    "* Python's list arithmetic (using `m * a` for `m` *repetitions* of a list `a`\n",
    "and `a + b` for the *concatenation* of lists `a` and `b`)\n",
    "can be used to quickly convert a degree sequence into a list of stubs as follows."
   ]
  },
  {
   "cell_type": "code",
   "execution_count": null,
   "metadata": {},
   "outputs": [],
   "source": [
    "stubs = [degrees[i] * [i] for i in range(len(degrees))]\n",
    "stubs"
   ]
  },
  {
   "cell_type": "code",
   "execution_count": null,
   "metadata": {},
   "outputs": [],
   "source": [
    "stubs = sum(stubs, [])\n",
    "stubs"
   ]
  },
  {
   "cell_type": "markdown",
   "metadata": {},
   "source": [
    "* Let's call this process the **stubs list** of a list of integers and wrap it\n",
    "  into a `python` function"
   ]
  },
  {
   "cell_type": "code",
   "execution_count": null,
   "metadata": {},
   "outputs": [],
   "source": [
    "def stubs_list(a):\n",
    "    return sum([a[i] * [i] for i in range(len(a))], [])"
   ]
  },
  {
   "cell_type": "code",
   "execution_count": null,
   "metadata": {},
   "outputs": [],
   "source": [
    "stubs_list(degrees)"
   ]
  },
  {
   "cell_type": "markdown",
   "metadata": {},
   "source": [
    "* How to randomly shuffle this list?\n",
    "The wikipedia page on [random permutations](https://en.wikipedia.org/wiki/Random_permutation#Knuth_shuffles)\n",
    "recommends a simple algorithm for shuffling the elements of a list `a` in place:\n",
    "loop over the positions $k$ of the entries in the list, swapping `a[k]` with `a[j]` for some $j \\geq k$\n",
    "(where possibly $j = k$ and the swap has no visible effect)."
   ]
  },
  {
   "cell_type": "code",
   "execution_count": null,
   "metadata": {},
   "outputs": [],
   "source": [
    "def knuth_shuffle(a):\n",
    "    l = len(a)\n",
    "    for k in range(l):\n",
    "        j = random.randrange(k, l)\n",
    "        a[j], a[k] = a[k], a[j]"
   ]
  },
  {
   "cell_type": "code",
   "execution_count": null,
   "metadata": {},
   "outputs": [],
   "source": [
    "a = [1,2,3]\n",
    "knuth_shuffle(a)\n",
    "a"
   ]
  },
  {
   "cell_type": "markdown",
   "metadata": {},
   "source": [
    "* Let's test whether this shuffle produces uniformly random outcomes by applying it large number of times\n",
    "to a short list, while keeping track of which permutation occurs how often ..."
   ]
  },
  {
   "cell_type": "code",
   "execution_count": null,
   "metadata": {},
   "outputs": [],
   "source": [
    "shuffles = {}\n",
    "for i in range(10000):\n",
    "    a = [1,2,3]\n",
    "    knuth_shuffle(a)\n",
    "    key = tuple(a)\n",
    "    shuffles[key] = shuffles.get(key, 0) + 1\n",
    "    \n",
    "print(shuffles)"
   ]
  },
  {
   "cell_type": "markdown",
   "metadata": {},
   "source": [
    "* So it looks like each possible outcome is approximately equally likely."
   ]
  },
  {
   "cell_type": "markdown",
   "metadata": {},
   "source": [
    "* Python's `random` module already contains\n",
    "a function `shuffle` which does exactly this."
   ]
  },
  {
   "cell_type": "code",
   "execution_count": null,
   "metadata": {},
   "outputs": [],
   "source": [
    "a = [1,2,3]\n",
    "random.shuffle(a)\n",
    "a"
   ]
  },
  {
   "cell_type": "markdown",
   "metadata": {},
   "source": [
    "* Let's test whether this `shuffle` produces uniformly random outcomes ..."
   ]
  },
  {
   "cell_type": "code",
   "execution_count": null,
   "metadata": {},
   "outputs": [],
   "source": [
    "shuffles = {}\n",
    "for i in range(10000):\n",
    "    a = [1,2,3]\n",
    "    random.shuffle(a)\n",
    "    key = tuple(a)\n",
    "    shuffles[key] = shuffles.get(key, 0) + 1\n",
    "    \n",
    "print(shuffles)"
   ]
  },
  {
   "cell_type": "markdown",
   "metadata": {},
   "source": [
    "* Again, equally likely outcomes."
   ]
  },
  {
   "cell_type": "markdown",
   "metadata": {},
   "source": [
    "* So we shuffle the stubs ..."
   ]
  },
  {
   "cell_type": "code",
   "execution_count": null,
   "metadata": {},
   "outputs": [],
   "source": [
    "random.shuffle(stubs)\n",
    "stubs"
   ]
  },
  {
   "cell_type": "markdown",
   "metadata": {},
   "source": [
    "* Then we match pairs, by cutting the list of\n",
    "stubs into halves and transposing the resulting array\n",
    "of 2 rows ..."
   ]
  },
  {
   "cell_type": "code",
   "execution_count": null,
   "metadata": {},
   "outputs": [],
   "source": [
    "m = len(stubs) // 2"
   ]
  },
  {
   "cell_type": "code",
   "execution_count": null,
   "metadata": {},
   "outputs": [],
   "source": [
    "edges = [stubs[:m], stubs[m:]]\n",
    "edges"
   ]
  },
  {
   "cell_type": "code",
   "execution_count": null,
   "metadata": {},
   "outputs": [],
   "source": [
    "edges = list(zip(*edges))\n",
    "edges"
   ]
  },
  {
   "cell_type": "code",
   "execution_count": null,
   "metadata": {},
   "outputs": [],
   "source": [
    "G = nx.Graph(edges)"
   ]
  },
  {
   "cell_type": "code",
   "execution_count": null,
   "metadata": {},
   "outputs": [],
   "source": [
    "G.number_of_edges()"
   ]
  },
  {
   "cell_type": "code",
   "execution_count": null,
   "metadata": {},
   "outputs": [],
   "source": [
    "nx.draw(G, **opts)"
   ]
  },
  {
   "cell_type": "code",
   "execution_count": null,
   "metadata": {},
   "outputs": [],
   "source": [
    "G.edges()"
   ]
  },
  {
   "cell_type": "markdown",
   "metadata": {},
   "source": [
    "* All in all, a configuration model can be built as follows."
   ]
  },
  {
   "cell_type": "code",
   "execution_count": null,
   "metadata": {},
   "outputs": [],
   "source": [
    "def configuration(degrees):\n",
    "    m = sum(degrees) // 2  # should check if sum(degrees) is even ...\n",
    "    stubs = stubs_list(degrees)\n",
    "    random.shuffle(stubs)\n",
    "    edges = list(zip(stubs[:m], stubs[m:]))\n",
    "    return nx.Graph(edges)"
   ]
  },
  {
   "cell_type": "code",
   "execution_count": null,
   "metadata": {},
   "outputs": [],
   "source": [
    "G = configuration([3,2,1,1,1])\n",
    "nx.draw(G, **opts)\n",
    "print(G.edges())"
   ]
  },
  {
   "cell_type": "markdown",
   "metadata": {},
   "source": [
    "## Power Law Degree Distribution"
   ]
  },
  {
   "cell_type": "markdown",
   "metadata": {},
   "source": [
    "A variant of the `powerlaw` from last time can generate the stubs directly."
   ]
  },
  {
   "cell_type": "code",
   "execution_count": null,
   "metadata": {},
   "outputs": [],
   "source": [
    "def powerstubs(m, p):\n",
    "    \n",
    "    # distribute 2*m according to a power law\n",
    "    l = 0\n",
    "    x = [l]\n",
    "    for i in range(2*m-1):\n",
    "        if random.random() < p:\n",
    "            l += 1\n",
    "            x.append(l)\n",
    "        else:\n",
    "            k = random.choice(x)\n",
    "            x.append(k)\n",
    "            \n",
    "    return x"
   ]
  },
  {
   "cell_type": "markdown",
   "metadata": {},
   "source": [
    "Let's create $400$ stubs for approximately $200$ nodes (with $p = \\frac12$)."
   ]
  },
  {
   "cell_type": "code",
   "execution_count": null,
   "metadata": {},
   "outputs": [],
   "source": [
    "p = powerstubs(200, 0.5)\n",
    "print(p)"
   ]
  },
  {
   "cell_type": "markdown",
   "metadata": {},
   "source": [
    "Use Python's `collections.Counter` to count how often each node occurs, i.e., to determine the node degrees."
   ]
  },
  {
   "cell_type": "code",
   "execution_count": null,
   "metadata": {},
   "outputs": [],
   "source": [
    "k = Counter(p)\n",
    "print(k)"
   ]
  },
  {
   "cell_type": "markdown",
   "metadata": {},
   "source": [
    "Using another counter on the degrees yields the degree distribution $p_k = n_k/n$."
   ]
  },
  {
   "cell_type": "code",
   "execution_count": null,
   "metadata": {},
   "outputs": [],
   "source": [
    "nk = Counter(k.values())\n",
    "print(nk)"
   ]
  },
  {
   "cell_type": "markdown",
   "metadata": {},
   "source": [
    "Let's check whether the $n_k$ follow a power law - they really should, by construction."
   ]
  },
  {
   "cell_type": "code",
   "execution_count": null,
   "metadata": {},
   "outputs": [],
   "source": [
    "xy = np.array(list(nk.items())).T\n",
    "print(xy)"
   ]
  },
  {
   "cell_type": "code",
   "execution_count": null,
   "metadata": {},
   "outputs": [],
   "source": [
    "plt.figure(figsize=(12,8))\n",
    "plt.loglog(*xy, 'oc')"
   ]
  },
  {
   "cell_type": "markdown",
   "metadata": {},
   "source": [
    "Finally, let's construct a graph as a configuration model with the given list of degrees."
   ]
  },
  {
   "cell_type": "code",
   "execution_count": null,
   "metadata": {},
   "outputs": [],
   "source": [
    "G = configuration(list(k.values()))\n",
    "plt.figure(figsize=(12,8))\n",
    "nx.draw(G, **opts)"
   ]
  },
  {
   "cell_type": "markdown",
   "metadata": {},
   "source": [
    "Maybe it's better to focus on the giant component."
   ]
  },
  {
   "cell_type": "code",
   "execution_count": null,
   "metadata": {},
   "outputs": [],
   "source": [
    "print([len(c) for c in nx.connected_components(G)])"
   ]
  },
  {
   "cell_type": "code",
   "execution_count": null,
   "metadata": {},
   "outputs": [],
   "source": [
    "print(list(nx.connected_components(G)))"
   ]
  },
  {
   "cell_type": "code",
   "execution_count": null,
   "metadata": {},
   "outputs": [],
   "source": [
    "C = G.subgraph(max(nx.connected_components(G), key=len))\n",
    "plt.figure(figsize=(12,8))\n",
    "nx.draw(C, **opts)"
   ]
  },
  {
   "cell_type": "code",
   "execution_count": null,
   "metadata": {},
   "outputs": [],
   "source": [
    "print(nx.degree_histogram(C))"
   ]
  },
  {
   "cell_type": "markdown",
   "metadata": {},
   "source": [
    "In `networkx`, configuration models can be generated with the function `nx.configuration_model`."
   ]
  },
  {
   "cell_type": "code",
   "execution_count": null,
   "metadata": {},
   "outputs": [],
   "source": [
    "G = nx.configuration_model(list(k.values()))\n",
    "plt.figure(figsize=(12,8))\n",
    "nx.draw(G, **opts)"
   ]
  },
  {
   "cell_type": "markdown",
   "metadata": {},
   "source": [
    "## Code Corner"
   ]
  },
  {
   "cell_type": "markdown",
   "metadata": {},
   "source": [
    "### `collections`"
   ]
  },
  {
   "cell_type": "markdown",
   "metadata": {},
   "source": [
    "* `Counter`: [[doc]](https://docs.python.org/3/library/collections.html#collections.Counter)"
   ]
  },
  {
   "cell_type": "markdown",
   "metadata": {},
   "source": [
    "### `random`"
   ]
  },
  {
   "cell_type": "markdown",
   "metadata": {},
   "source": [
    "* `random`: [[doc]](https://docs.python.org/3/library/random.html#random.shuffle)\n",
    "\n",
    "\n",
    "* `randrange`: [[doc]](https://docs.python.org/3/library/random.html#random.randrange)\n",
    "\n",
    "\n",
    "* `choice`: [[doc]](https://docs.python.org/3/library/random.html#random.choice)\n",
    "\n",
    "\n",
    "* `shuffle`: [[doc]](https://docs.python.org/3/library/random.html#random.shuffle)"
   ]
  },
  {
   "cell_type": "markdown",
   "metadata": {},
   "source": [
    "### `networkx`"
   ]
  },
  {
   "cell_type": "markdown",
   "metadata": {},
   "source": [
    "* `configuration_model`: [[doc]](https://networkx.github.io/documentation/stable/reference/generated/networkx.generators.degree_seq.configuration_model.html)"
   ]
  },
  {
   "cell_type": "markdown",
   "metadata": {},
   "source": [
    "## Exercises"
   ]
  },
  {
   "cell_type": "markdown",
   "metadata": {},
   "source": [
    "1. In your own words, describe and justify how `stubs_list` and `Counter` are mutually inverse processes.\n",
    "How exactly can you recover the stubs from a `Counter` object?  How can you recover the stubs from the\n",
    "degree distribution?\n",
    "\n",
    "1. Experiment with different values for `m` and `p` in the `powerstubs` function. In your own words, how does the \n",
    "resulting graph generated as a random configuration model from\n",
    "a power law degree distribution look different from a random graph in the ER-model $G(r, p)$?\n",
    "\n",
    "1. Generate some configuration models with power law degree distributions for various choices\n",
    "of $\\gamma$ between $2$ and $3$.  Compute their transitivity, clustering and average shortest pathlengths.\n",
    "Do these values indicate small world behaviour?"
   ]
  },
  {
   "cell_type": "code",
   "execution_count": null,
   "metadata": {},
   "outputs": [],
   "source": []
  }
 ],
 "metadata": {
  "kernelspec": {
   "display_name": "Python 3",
   "language": "python",
   "name": "python3"
  },
  "language_info": {
   "codemirror_mode": {
    "name": "ipython",
    "version": 3
   },
   "file_extension": ".py",
   "mimetype": "text/x-python",
   "name": "python",
   "nbconvert_exporter": "python",
   "pygments_lexer": "ipython3",
   "version": "3.7.6"
  }
 },
 "nbformat": 4,
 "nbformat_minor": 2
}

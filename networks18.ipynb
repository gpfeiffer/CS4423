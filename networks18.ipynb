{
 "cells": [
  {
   "cell_type": "markdown",
   "metadata": {},
   "source": [
    "### CS4423 - Networks\n",
    "Prof. Götz Pfeiffer<br />\n",
    "School of Mathematics, Statistics and Applied Mathematics<br />\n",
    "NUI Galway"
   ]
  },
  {
   "cell_type": "markdown",
   "metadata": {},
   "source": [
    "#### 6. Growing Graphs\n",
    "\n",
    "# Lecture 23:  Preferential Attachment"
   ]
  },
  {
   "cell_type": "markdown",
   "metadata": {},
   "source": [
    "In the random graph models we have studied so far, a network is generated on a given number of nodes,\n",
    "and edges are randomly added or modified.  Here we introduce and study [preferential attachment](https://en.wikipedia.org/wiki/Preferential_attachment) models, where a network is grown by adding\n",
    "one node at a time, plus some random edges.  \n",
    "This is a simplified version of a behaviour that can be observed, for example, in citation networks.\n",
    "It turns out that, under suitable circumstances,\n",
    "such a network has a power law degree distribution."
   ]
  },
  {
   "cell_type": "code",
   "execution_count": null,
   "metadata": {},
   "outputs": [],
   "source": [
    "import numpy as np\n",
    "import pandas as pd\n",
    "import networkx as nx\n",
    "import matplotlib.pyplot as plt\n",
    "opts = { \"with_labels\": True, \"node_color\": 'y' }"
   ]
  },
  {
   "cell_type": "markdown",
   "metadata": {},
   "source": [
    "### The Molloy-Reed Criterion"
   ]
  },
  {
   "cell_type": "markdown",
   "metadata": {},
   "source": [
    "Graphs with a given degree sequence can be analyzed.  In particular, a criterion for the existence of\n",
    "a giant component can be formulated in terms of the first and second moments of the degree distribution:\n",
    "$$\n",
    "\\langle k \\rangle = \\sum_k k p_k, \\qquad \\langle k^2 \\rangle = \\sum_k k^2 p_k.\n",
    "$$"
   ]
  },
  {
   "cell_type": "markdown",
   "metadata": {},
   "source": [
    "<div class=\"alert alert-danger\">\n",
    "\n",
    "**Theorem (Molloy-Reed, 1995/1998).**\n",
    "Suppose $\\underline{p} = (p_0, p_1, \\dotsc)$ is a degree distribution, i.e., $\\sum_k p_k = 1$\n",
    "and consider the ensemble of all graphs on $n$ nodes with degree distribution $\\underline{p}$.\n",
    "Define\n",
    "$$\n",
    "Q(\\underline{p}) := \\sum_k k(k-2) p_k = \\langle k^2 \\rangle  - 2 \\langle k \\rangle.\n",
    "$$\n",
    "Then:\n",
    "* if $Q(\\underline{p}) > 0$ almost every graph in the ensemble contains a giant component,\n",
    "* if $Q(\\underline{p}) < 0$ all components are small.\n",
    "</div>"
   ]
  },
  {
   "cell_type": "markdown",
   "metadata": {},
   "source": [
    "* For example, in an ER random graph (models $G(n, m)$ or $G(n, p)$) the moments are related as\n",
    "$\\langle k^2 \\rangle = \\langle k \\rangle^2 + \\langle k \\rangle$,\n",
    "whence $Q(\\underline{p}) = \\langle k \\rangle^2 - \\langle k \\rangle > 0$\n",
    "if and only if $\\langle k \\rangle > 1$, as shown previously."
   ]
  },
  {
   "cell_type": "markdown",
   "metadata": {},
   "source": [
    "* In a network with power law degree distribution $p_k \\simeq c k^{-\\gamma}$ for $2 \\leq \\gamma \\leq 3$, \n",
    "the second moment $\\langle k^2 \\rangle$ diverges (with $n \\to \\infty$) and thus $Q(\\underline{p}) > 0$:\n",
    "such networks have giant components."
   ]
  },
  {
   "cell_type": "markdown",
   "metadata": {},
   "source": [
    "* **Characteristic Path Length.**\n",
    "Scale free networks with $2 \\leq \\gamma \\leq 3$ are **ultrasmall**:\n",
    "$L \\sim \\ln \\ln n$ (as opposed to $L \\sim \\ln n$ in a small world network.)"
   ]
  },
  {
   "cell_type": "markdown",
   "metadata": {},
   "source": [
    "* **Clustering Coefficient.** \n",
    "It can be shown that in a scale free network with $2 \\leq \\gamma \\leq 3$ the \n",
    "clustering coefficient is $C \\approx n^{\\alpha}$, where $\\alpha = \\frac{7 - 3\\gamma}{\\gamma - 1}$.\n"
   ]
  },
  {
   "cell_type": "markdown",
   "metadata": {},
   "source": [
    "### Citation Networks."
   ]
  },
  {
   "cell_type": "markdown",
   "metadata": {},
   "source": [
    "Citation networks are **directed graphs**.\n",
    "In a citation network, the nodes are **scientific publications**, and the directed arcs represent\n",
    "**citations** between papers (where the citing paper points at the cited paper).\n",
    "* In addition to the network structure, the nodes in a citation network have a natural order, \n",
    "  corresponding to their **time of publication**. \n",
    "* With respect to that order, citations (almost) always **point backwards** in time.\n",
    "* As a consequence, a citation network is a DAG (**directed acyclic graph**, contains no loops or directed cycles)."
   ]
  },
  {
   "cell_type": "markdown",
   "metadata": {},
   "source": [
    "**Example.** The Book's website has a data set of citations between the $1655$ articles that\n",
    "appeared from 1978 to 2004 in [Scientometrics](https://en.wikipedia.org/wiki/Scientometrics_(journal)), \n",
    "a journal devoted to the field of bibliometrics and the \"Science of Science\".  To load it into this\n",
    "notebook, \n",
    "read the file as an edge list for a directed graph (`Digraph`), insisting that the nodes are of type `int`.\n",
    "Then copy the edges into an empty directed graph on the nodes $1, 2, \\dots, 1655$,\n",
    "to have the nodes in their natural order."
   ]
  },
  {
   "cell_type": "code",
   "execution_count": null,
   "metadata": {},
   "outputs": [],
   "source": [
    "E = nx.read_edgelist(\"data/scientometrics.net\", create_using=nx.DiGraph, nodetype=int)\n",
    "G = nx.DiGraph()\n",
    "G.add_nodes_from(range(1, 1656))\n",
    "G.add_edges_from(E.edges())"
   ]
  },
  {
   "cell_type": "markdown",
   "metadata": {},
   "source": [
    "Let's check the order and the size of the resulting graph."
   ]
  },
  {
   "cell_type": "code",
   "execution_count": null,
   "metadata": {},
   "outputs": [],
   "source": [
    "n, m = G.order(), G.size()\n",
    "n, m"
   ]
  },
  {
   "cell_type": "markdown",
   "metadata": {},
   "source": [
    "A scatter plot of the adjacency matrix reveals the DAG nature of the graph: all its nonzero entries\n",
    "lie below the line $i = j$."
   ]
  },
  {
   "cell_type": "code",
   "execution_count": null,
   "metadata": {},
   "outputs": [],
   "source": [
    "pd.DataFrame(list(G.edges())).plot.scatter(x = 0, y = 1, figsize = (20, 20))"
   ]
  },
  {
   "cell_type": "markdown",
   "metadata": {},
   "source": [
    "What are the highest degrees? Inwards and outwards?"
   ]
  },
  {
   "cell_type": "code",
   "execution_count": null,
   "metadata": {},
   "outputs": [],
   "source": [
    "max_in = max(dict(G.in_degree()).values())\n",
    "max_in"
   ]
  },
  {
   "cell_type": "code",
   "execution_count": null,
   "metadata": {},
   "outputs": [],
   "source": [
    "max_out = max(dict(G.out_degree()).values())\n",
    "max_out"
   ]
  },
  {
   "cell_type": "markdown",
   "metadata": {},
   "source": [
    "So there are nodes of exceptionally high degree ... \n",
    "\n",
    "Next, load the time line. "
   ]
  },
  {
   "cell_type": "code",
   "execution_count": null,
   "metadata": {},
   "outputs": [],
   "source": [
    "years = np.loadtxt(\"data/scientometrics_paper_year.txt\", dtype=\"int\")\n",
    "years[0]"
   ]
  },
  {
   "cell_type": "markdown",
   "metadata": {},
   "source": [
    "Add the year of publication as attribute to each node."
   ]
  },
  {
   "cell_type": "code",
   "execution_count": null,
   "metadata": {},
   "outputs": [],
   "source": [
    "for date in years:\n",
    "    G.nodes[date[0]]['year'] = date[1]"
   ]
  },
  {
   "cell_type": "markdown",
   "metadata": {},
   "source": [
    "How many publications per year?  (There may be articles without `year` attribute!)"
   ]
  },
  {
   "cell_type": "code",
   "execution_count": null,
   "metadata": {},
   "outputs": [],
   "source": [
    "counts = {}\n",
    "for x in G.nodes():\n",
    "    year = G.nodes[x].get('year')\n",
    "    counts[year] = counts.get(year, 0) + 1\n",
    "\n",
    "print(counts)"
   ]
  },
  {
   "cell_type": "markdown",
   "metadata": {},
   "source": [
    "Remove the count of undated articles from the dictionary."
   ]
  },
  {
   "cell_type": "code",
   "execution_count": null,
   "metadata": {},
   "outputs": [],
   "source": [
    "undated = counts.pop(None, 0)"
   ]
  },
  {
   "cell_type": "code",
   "execution_count": null,
   "metadata": {},
   "outputs": [],
   "source": [
    "data = {}\n",
    "data['years'] = list(counts.keys())\n",
    "data['count'] = list(counts.values())\n",
    "pd.DataFrame(data).plot.bar(x = 'years', y = 'count', rot=90, colormap='spring')"
   ]
  },
  {
   "cell_type": "markdown",
   "metadata": {},
   "source": [
    "Identify the node(s) of maximal citation count (in-degree) and show its development over time ..."
   ]
  },
  {
   "cell_type": "code",
   "execution_count": null,
   "metadata": {},
   "outputs": [],
   "source": [
    "hi = [x for x in G if G.in_degree(x) == max_in]\n",
    "print(hi)"
   ]
  },
  {
   "cell_type": "code",
   "execution_count": null,
   "metadata": {},
   "outputs": [],
   "source": [
    "hi = hi[0]\n",
    "citing = [x for x in G if hi in G[x]]\n",
    "print(citing)"
   ]
  },
  {
   "cell_type": "code",
   "execution_count": null,
   "metadata": {},
   "outputs": [],
   "source": [
    "citing_years = [G.nodes[x].get('year') for x in G if hi in G[x]]\n",
    "print(citing_years)"
   ]
  },
  {
   "cell_type": "code",
   "execution_count": null,
   "metadata": {},
   "outputs": [],
   "source": [
    "years = {}\n",
    "for year in citing_years:\n",
    "    years[year] = years.get(year, 0) + 1"
   ]
  },
  {
   "cell_type": "code",
   "execution_count": null,
   "metadata": {},
   "outputs": [],
   "source": [
    "data = {}\n",
    "data['years'] = list(years.keys())\n",
    "data['count'] = list(years.values())\n",
    "pd.DataFrame(data).plot.bar(x='years', y='count', colormap='summer')"
   ]
  },
  {
   "cell_type": "markdown",
   "metadata": {},
   "source": [
    "How far back do citations go?"
   ]
  },
  {
   "cell_type": "code",
   "execution_count": null,
   "metadata": {},
   "outputs": [],
   "source": [
    "span = {}\n",
    "for e in G.edges():\n",
    "    years = [G.nodes[n].get('year') for n in e]\n",
    "    if None not in years:\n",
    "        s = years[0] - years[1]\n",
    "        span[s] = span.get(s, 0) + 1"
   ]
  },
  {
   "cell_type": "code",
   "execution_count": null,
   "metadata": {},
   "outputs": [],
   "source": [
    "all = [x[1] for x in sorted(span.items())]\n",
    "pd.DataFrame(all).plot.bar(colormap='autumn')"
   ]
  },
  {
   "cell_type": "markdown",
   "metadata": {},
   "source": [
    "Now let's go back in time one year and recover the state of the citation network at the end of $2003$."
   ]
  },
  {
   "cell_type": "code",
   "execution_count": null,
   "metadata": {},
   "outputs": [],
   "source": [
    "nodes0 = [x for x in G if G.nodes[x].get('year', 0) < 2004]\n",
    "G0 = G.subgraph(nodes0)\n",
    "G0.order(), G0.size()"
   ]
  },
  {
   "cell_type": "markdown",
   "metadata": {},
   "source": [
    "Now we can analyse the references in the articles published in $2004$ with respect\n",
    "to the in-degree of the cited article in the $2003$ network:\n",
    "* add citation counters as attribute to nodes in `G0`\n",
    "* then loop over all nodes and determine citations per in_degree ..."
   ]
  },
  {
   "cell_type": "code",
   "execution_count": null,
   "metadata": {},
   "outputs": [],
   "source": [
    "for x in G0:\n",
    "    G0.nodes[x]['citations'] = 0\n",
    "\n",
    "for x in G:\n",
    "    if G.nodes[x].get('year') == 2004:\n",
    "        for y in G[x]:\n",
    "            if y in G0:\n",
    "                G0.nodes[y]['citations'] += 1"
   ]
  },
  {
   "cell_type": "markdown",
   "metadata": {},
   "source": [
    "Finally, for each in-degree in the 2003 citation graph `G0`,  we try and determine how often\n",
    "a node with that many citations in 2003 gets cited on avergage in 2004.\n",
    "For this, we count (in a dict `nr`) the number of nodes of a given degree, and (in a dict `cd`)\n",
    "the total number of citations the nodes of the given degree receive in 2004.\n",
    "Then the average is computed (in a dict `avg`) as the quotient of those two mumbers."
   ]
  },
  {
   "cell_type": "code",
   "execution_count": null,
   "metadata": {},
   "outputs": [],
   "source": [
    "nr = {}\n",
    "cd = {}\n",
    "for x in G0:\n",
    "    d = G0.in_degree(x)\n",
    "    nr[d] = nr.get(d, 0) + 1\n",
    "    cd[d] = cd.get(d, 0) + G0.nodes[x]['citations']\n",
    "print(cd)"
   ]
  },
  {
   "cell_type": "code",
   "execution_count": null,
   "metadata": {},
   "outputs": [],
   "source": [
    "avg = { d: cd[d]/nr[d] for d in cd }"
   ]
  },
  {
   "cell_type": "code",
   "execution_count": null,
   "metadata": {},
   "outputs": [],
   "source": [
    "plt.scatter(avg.keys(), avg.values())"
   ]
  },
  {
   "cell_type": "markdown",
   "metadata": {},
   "source": [
    "This plot is not a straight line.  But still it illustrates the tendency of highly cited nodes to\n",
    "receive even more citations: Roughly,\n",
    "the number of citations that an article receives is proportional to the number of citations it\n",
    "already has.  This is a typical [rich-get-richer](https://en.wikipedia.org/wiki/The_rich_get_richer_and_the_poor_get_poorer) phenomenon."
   ]
  },
  {
   "cell_type": "markdown",
   "metadata": {},
   "source": [
    "### Linear Preferential Attachment."
   ]
  },
  {
   "cell_type": "markdown",
   "metadata": {},
   "source": [
    "The tendency of new nodes to attach themselves to the most popular nodes, with a probabilty that is\n",
    "proportional to a node's popularity, has many names, and has been discussed (in a biological context)\n",
    "as far back as 1925.  These days, the phenomenon is known as **linear preferential attachment**,\n",
    "after Barabási-Albert, who rediscoverd it in their analysis of a portion of the WWW in 1999."
   ]
  },
  {
   "cell_type": "markdown",
   "metadata": {},
   "source": [
    "<div class=\"alert alert-warning\">\n",
    "\n",
    "**Definition (BA-Model).**\n",
    "Suppose $n, a, b$ are integers with $0 < b \\leq a \\ll n$.\n",
    "An $(n, a, b)$-BA model is a (simple) graph on $n$ nodes, constructed as follows.\n",
    "1. start with a complete graph on $a$ nodes $\\{1, 2, \\dots, a\\}$ (at time $t = 0$)\n",
    "2. for $t = 1, \\dots, n-a-1$:\n",
    "    * add new node $x = a + t$\n",
    "    * and $b$ links to old nodes $i$ with probability \n",
    "      $$\n",
    "      p_{x \\to i} = \\frac{k_{i, t-1}}{2 m_{t-1}},\n",
    "      $$\n",
    "      where $k_{i,t}$ is the degree of node $i$ at time $t$ and $m_t$ is the\n",
    "      number of edges at time $t$.\n",
    "</div>"
   ]
  },
  {
   "cell_type": "markdown",
   "metadata": {},
   "source": [
    "In `networkx`, a BA-model can be generated with the function\n",
    "`nx.barabasi_albert_graph(n, b)` (where $a = b$ in terms of our parameters, and the initial\n",
    "graph is an **empty** graph on the $a$ nodes $\\{0, 1, \\dots, a-1\\}$). "
   ]
  },
  {
   "cell_type": "code",
   "execution_count": null,
   "metadata": {},
   "outputs": [],
   "source": [
    "B = nx.barabasi_albert_graph(100, 2)"
   ]
  },
  {
   "cell_type": "code",
   "execution_count": null,
   "metadata": {},
   "outputs": [],
   "source": [
    "plt.figure(figsize=(20,10))\n",
    "nx.draw(B, **opts)"
   ]
  },
  {
   "cell_type": "code",
   "execution_count": null,
   "metadata": {},
   "outputs": [],
   "source": [
    "B = nx.barabasi_albert_graph(5000, 2)\n",
    "hist = nx.degree_histogram(B)\n",
    "m2 = 2*B.size()\n",
    "data = [(i, v/m2) for i, v in enumerate(hist) if v > 0]\n",
    "plt.figure(figsize=(20,10))\n",
    "pd.DataFrame(data).plot.scatter(x = 0, y = 1, loglog=True)"
   ]
  },
  {
   "cell_type": "markdown",
   "metadata": {},
   "source": [
    "<div class=\"alert alert-success\">\n",
    "\n",
    "**Fact.** An $(n, a, b)$-BA model (for sufficiently large $n$) has a power law degree distribution\n",
    "$p_k \\simeq c k^{-\\gamma}$ with $\\gamma = 3$.\n",
    "</div>"
   ]
  },
  {
   "cell_type": "markdown",
   "metadata": {},
   "source": [
    "More precisely,\n",
    "$$\n",
    "p_k = \\frac{2b(b+1)}{k(k+1)(k+2)} \\simeq 2b(b+1) k^{-3}.\n",
    "$$"
   ]
  },
  {
   "cell_type": "markdown",
   "metadata": {},
   "source": [
    "## Code Corner"
   ]
  },
  {
   "cell_type": "markdown",
   "metadata": {},
   "source": [
    "### `numpy`"
   ]
  },
  {
   "cell_type": "markdown",
   "metadata": {},
   "source": [
    "* `loadtxt`: [[doc]](https://docs.scipy.org/doc/numpy/reference/generated/numpy.loadtxt.html)"
   ]
  },
  {
   "cell_type": "markdown",
   "metadata": {},
   "source": [
    "### `matplotlib`"
   ]
  },
  {
   "cell_type": "markdown",
   "metadata": {},
   "source": [
    "* `pyplot.scatter`: [[doc]](https://matplotlib.org/3.2.1/api/_as_gen/matplotlib.pyplot.scatter.html)"
   ]
  },
  {
   "cell_type": "markdown",
   "metadata": {},
   "source": [
    "### `pandas`"
   ]
  },
  {
   "cell_type": "markdown",
   "metadata": {},
   "source": [
    "* `DataFrame.plot.bar`: [[doc]](https://pandas.pydata.org/pandas-docs/stable/reference/api/pandas.DataFrame.plot.bar.html)\n",
    "\n",
    "\n",
    "* `DataFrame.plot.scatter`: [[doc]](https://pandas.pydata.org/pandas-docs/stable/reference/api/pandas.DataFrame.plot.scatter.html)"
   ]
  },
  {
   "cell_type": "markdown",
   "metadata": {},
   "source": [
    "### `networkx`"
   ]
  },
  {
   "cell_type": "markdown",
   "metadata": {},
   "source": [
    "* `read_edgelist`: [[doc]](https://networkx.github.io/documentation/stable/reference/readwrite/generated/networkx.readwrite.edgelist.read_edgelist.html)\n",
    "\n",
    "\n",
    "* `barabasi_albert_graph`: [[doc]](https://networkx.github.io/documentation/stable/reference/generated/networkx.generators.random_graphs.barabasi_albert_graph.html)"
   ]
  },
  {
   "cell_type": "markdown",
   "metadata": {},
   "source": [
    "##  Exercises"
   ]
  },
  {
   "cell_type": "markdown",
   "metadata": {},
   "source": [
    "1. Compute and draw a BA-model graph on `n = 100` nodes with parameter `b = 1`.  Compare this graph with the graph `B` above (where `b = 2`).\n",
    "\n",
    "1. Compute and draw a BA-model graph on `n = 100` nodes with parameter `b = 3`.  Compare this graph with the graph `B` above (where `b = 2`)."
   ]
  },
  {
   "cell_type": "code",
   "execution_count": null,
   "metadata": {},
   "outputs": [],
   "source": []
  }
 ],
 "metadata": {
  "kernelspec": {
   "display_name": "Python 3",
   "language": "python",
   "name": "python3"
  },
  "language_info": {
   "codemirror_mode": {
    "name": "ipython",
    "version": 3
   },
   "file_extension": ".py",
   "mimetype": "text/x-python",
   "name": "python",
   "nbconvert_exporter": "python",
   "pygments_lexer": "ipython3",
   "version": "3.7.6"
  }
 },
 "nbformat": 4,
 "nbformat_minor": 2
}
